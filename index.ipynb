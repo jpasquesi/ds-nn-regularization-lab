{
 "cells": [
  {
   "cell_type": "markdown",
   "metadata": {},
   "source": [
    "# Regularization and Optimization Lab\n",
    "\n",
    "## Objective\n",
    "\n",
    "In this lab, we'll gain experience detecting and dealing with a ANN model that is overfitting using various regularization and hyperparameter tuning techniques!"
   ]
  },
  {
   "cell_type": "markdown",
   "metadata": {},
   "source": [
    "## Getting Started\n",
    "\n",
    "In this lab, we'll work with a large dataset of customer complaints to a bank, with the goal of predicting what product the customer is complaining about based on the text of their complaint.  There are 7 different possible products that we can predict, making this a multi-class classification task. \n",
    "\n",
    "\n",
    "#### Preprocessing our Data Set\n",
    "We'll start by preprocessing our dataset by tokenizing the complaints and limiting the number of words we consider to reduce dimensionality. \n",
    "\n",
    "#### Building our Tuning our Model\n",
    "Once we have preprocessed our data set, we'll build a model and explore the various ways that we can reduce overfitting using the following strategies:\n",
    "- Early stopping to minimize the discrepancy between train and test accuracy.\n",
    "- L1 and L2 regularization.\n",
    "- Dropout regularization.\n",
    "- Using more data.\n",
    "\n",
    "\n",
    "**_Let's Get Started!_**"
   ]
  },
  {
   "cell_type": "markdown",
   "metadata": {},
   "source": [
    "## 2. Preprocessing the Bank Complaints Data Set"
   ]
  },
  {
   "cell_type": "markdown",
   "metadata": {},
   "source": [
    "### 2.1 Import the libraries and take a sample\n",
    "\n",
    "Run the cell below to import everything we'll need for this lab. "
   ]
  },
  {
   "cell_type": "code",
   "execution_count": 44,
   "metadata": {},
   "outputs": [],
   "source": [
    "import matplotlib.pyplot as plt\n",
    "import pandas as pd\n",
    "import numpy as np\n",
    "from sklearn.model_selection import train_test_split\n",
    "from keras.utils.np_utils import to_categorical\n",
    "from sklearn import preprocessing\n",
    "from keras.preprocessing.text import Tokenizer\n",
    "import random\n",
    "random.seed(0)"
   ]
  },
  {
   "cell_type": "markdown",
   "metadata": {},
   "source": [
    "Now, in the cell below, import our data into a DataFrame.  The data is currently stored in `Bank_complaints.csv`.\n",
    "Then, `.describe()` the dataset to get a feel for what we're working with. "
   ]
  },
  {
   "cell_type": "code",
   "execution_count": 45,
   "metadata": {},
   "outputs": [
    {
     "data": {
      "text/html": [
       "<div>\n",
       "<style scoped>\n",
       "    .dataframe tbody tr th:only-of-type {\n",
       "        vertical-align: middle;\n",
       "    }\n",
       "\n",
       "    .dataframe tbody tr th {\n",
       "        vertical-align: top;\n",
       "    }\n",
       "\n",
       "    .dataframe thead th {\n",
       "        text-align: right;\n",
       "    }\n",
       "</style>\n",
       "<table border=\"1\" class=\"dataframe\">\n",
       "  <thead>\n",
       "    <tr style=\"text-align: right;\">\n",
       "      <th></th>\n",
       "      <th>Product</th>\n",
       "      <th>Consumer complaint narrative</th>\n",
       "    </tr>\n",
       "  </thead>\n",
       "  <tbody>\n",
       "    <tr>\n",
       "      <th>count</th>\n",
       "      <td>60000</td>\n",
       "      <td>60000</td>\n",
       "    </tr>\n",
       "    <tr>\n",
       "      <th>unique</th>\n",
       "      <td>7</td>\n",
       "      <td>59724</td>\n",
       "    </tr>\n",
       "    <tr>\n",
       "      <th>top</th>\n",
       "      <td>Student loan</td>\n",
       "      <td>I am filing this complaint because Experian ha...</td>\n",
       "    </tr>\n",
       "    <tr>\n",
       "      <th>freq</th>\n",
       "      <td>11404</td>\n",
       "      <td>26</td>\n",
       "    </tr>\n",
       "  </tbody>\n",
       "</table>\n",
       "</div>"
      ],
      "text/plain": [
       "             Product                       Consumer complaint narrative\n",
       "count          60000                                              60000\n",
       "unique             7                                              59724\n",
       "top     Student loan  I am filing this complaint because Experian ha...\n",
       "freq           11404                                                 26"
      ]
     },
     "execution_count": 45,
     "metadata": {},
     "output_type": "execute_result"
    }
   ],
   "source": [
    "df = pd.read_csv('Bank_complaints.csv')\n",
    "df.describe()"
   ]
  },
  {
   "cell_type": "markdown",
   "metadata": {},
   "source": [
    "In order to speed things up during the development process (and also to give us the ability to see how adding more data affects our model performance), we're going to work with a sample of our dataset rather than the whole thing.  The entire dataset consists of 60,000 rows--we're going to build a model using only 10,000 items randomly sampled from this.\n",
    "\n",
    "In the cell below:\n",
    "\n",
    "* Get a random sample of `10000` items from our dataset (HINT: use the `df` object's `.sample()` method to make this easy)\n",
    "* Reset the indexes on these samples to `range(10000)`, so that the indices for our rows are sequential and make sense.\n",
    "* Store our labels, which are found in `\"Product\"`, in a different variable.\n",
    "* Store the data, found in `\"Consumer complaint narrative`, in the variable `complaints`."
   ]
  },
  {
   "cell_type": "code",
   "execution_count": 46,
   "metadata": {},
   "outputs": [],
   "source": [
    "df = df.sample(10000)\n",
    "df.index = range(10000)\n",
    "product = df[\"Product\"]\n",
    "complaints = df[\"Consumer complaint narrative\"]"
   ]
  },
  {
   "cell_type": "markdown",
   "metadata": {},
   "source": [
    "### 2.2 Tokenizing the Complaints"
   ]
  },
  {
   "cell_type": "markdown",
   "metadata": {},
   "source": [
    "We'll only keep 2,000 most common words and use one-hot encoding to quickly vectorize our dataset from text into a format that a neural network can work with. \n",
    "\n",
    "In the cell below:\n",
    "\n",
    "* Create a `Tokenizer()` object, and set the `num_words` parameter to `2000`.\n",
    "* Call the tokenizer object's `fit_on_texts()` method and pass in our `complaints` variable we created above. \n"
   ]
  },
  {
   "cell_type": "code",
   "execution_count": 47,
   "metadata": {},
   "outputs": [],
   "source": [
    "tokenizer = Tokenizer(num_words = 2000)\n",
    "tokenizer.fit_on_texts(complaints)"
   ]
  },
  {
   "cell_type": "markdown",
   "metadata": {},
   "source": [
    "Now, we'll create some text sequences by calling the `tokenizer` object's `.texts_to_sequences()` method and feeding in our `complaints` object."
   ]
  },
  {
   "cell_type": "code",
   "execution_count": 48,
   "metadata": {},
   "outputs": [],
   "source": [
    "sequences = tokenizer.texts_to_sequences(complaints)"
   ]
  },
  {
   "cell_type": "markdown",
   "metadata": {},
   "source": [
    "Finally, we'll convert our text data from text to a vectorized matrix.  \n",
    "\n",
    "In the cell below:\n",
    "\n",
    "* Call the `tokenizer` object's `.texts_to_matrix` method, passing in our `complaints` variable, as well as setting the `mode` parameter equal to `'binary'`.\n",
    "* Store the tokenizer's `.word_index` in the appropriate variable.\n",
    "* Check the `np.shape()` of our `one_hot_results`."
   ]
  },
  {
   "cell_type": "code",
   "execution_count": 49,
   "metadata": {},
   "outputs": [
    {
     "data": {
      "text/plain": [
       "(10000, 2000)"
      ]
     },
     "execution_count": 49,
     "metadata": {},
     "output_type": "execute_result"
    }
   ],
   "source": [
    "one_hot_results= tokenizer.texts_to_matrix(complaints, mode='binary')\n",
    "word_index = tokenizer.word_index\n",
    "np.shape(one_hot_results) # Expected Results (10000, 2000)"
   ]
  },
  {
   "cell_type": "markdown",
   "metadata": {},
   "source": [
    "### 2.3 One-hot Encoding of the Products Column"
   ]
  },
  {
   "cell_type": "markdown",
   "metadata": {},
   "source": [
    "Now that we've tokenized and encoded our text data, we still need to one-hot encode our label data.  \n",
    "\n",
    "In the cell below:\n",
    "\n",
    "\n",
    "* Create a `LabelEncoder` object, which can found inside the `preprocessing` module.\n",
    "* `fit` the label encoder we just created to `product`."
   ]
  },
  {
   "cell_type": "code",
   "execution_count": 50,
   "metadata": {},
   "outputs": [
    {
     "data": {
      "text/plain": [
       "LabelEncoder()"
      ]
     },
     "execution_count": 50,
     "metadata": {},
     "output_type": "execute_result"
    }
   ],
   "source": [
    "le = preprocessing.LabelEncoder()\n",
    "le.fit(product)"
   ]
  },
  {
   "cell_type": "markdown",
   "metadata": {},
   "source": [
    "Let's check what classes our label encoder found.  Run the cell below to examine a list of classes that `product` contains."
   ]
  },
  {
   "cell_type": "code",
   "execution_count": 51,
   "metadata": {},
   "outputs": [
    {
     "data": {
      "text/plain": [
       "['Bank account or service',\n",
       " 'Checking or savings account',\n",
       " 'Consumer Loan',\n",
       " 'Credit card',\n",
       " 'Credit reporting',\n",
       " 'Mortgage',\n",
       " 'Student loan']"
      ]
     },
     "execution_count": 51,
     "metadata": {},
     "output_type": "execute_result"
    }
   ],
   "source": [
    " list(le.classes_)"
   ]
  },
  {
   "cell_type": "markdown",
   "metadata": {},
   "source": [
    "Now, we'll need to transform `product` into a numeric vector.  \n",
    "\n",
    "In the cell below, use the label encoder's `.transform` method on `product` to create an integer encoded version of our labels. \n",
    "\n",
    "Then, access `product_cat` to see an example of how the labels are now encoded. "
   ]
  },
  {
   "cell_type": "code",
   "execution_count": 52,
   "metadata": {},
   "outputs": [
    {
     "data": {
      "text/plain": [
       "array([6, 2, 6, ..., 2, 5, 0])"
      ]
     },
     "execution_count": 52,
     "metadata": {},
     "output_type": "execute_result"
    }
   ],
   "source": [
    "product_cat = le.transform(product)\n",
    "product_cat"
   ]
  },
  {
   "cell_type": "markdown",
   "metadata": {},
   "source": [
    "Now, we need to go from integer encoding to one-hot encoding.  Use the `to_categorical` method from keras to do this easily in the cell below."
   ]
  },
  {
   "cell_type": "code",
   "execution_count": 53,
   "metadata": {},
   "outputs": [],
   "source": [
    "product_onehot = to_categorical(product_cat)"
   ]
  },
  {
   "cell_type": "code",
   "execution_count": 54,
   "metadata": {},
   "outputs": [
    {
     "data": {
      "text/plain": [
       "array([[0., 0., 0., ..., 0., 0., 1.],\n",
       "       [0., 0., 1., ..., 0., 0., 0.],\n",
       "       [0., 0., 0., ..., 0., 0., 1.],\n",
       "       ...,\n",
       "       [0., 0., 1., ..., 0., 0., 0.],\n",
       "       [0., 0., 0., ..., 0., 1., 0.],\n",
       "       [1., 0., 0., ..., 0., 0., 0.]], dtype=float32)"
      ]
     },
     "execution_count": 54,
     "metadata": {},
     "output_type": "execute_result"
    }
   ],
   "source": [
    "product_onehot"
   ]
  },
  {
   "cell_type": "markdown",
   "metadata": {},
   "source": [
    "Finally, let's check the shape of our one-hot encoded labels to make sure everything worked correctly."
   ]
  },
  {
   "cell_type": "code",
   "execution_count": 55,
   "metadata": {},
   "outputs": [
    {
     "data": {
      "text/plain": [
       "(10000, 7)"
      ]
     },
     "execution_count": 55,
     "metadata": {},
     "output_type": "execute_result"
    }
   ],
   "source": [
    "np.shape(product_onehot) # Expected Output: (10000, 7)"
   ]
  },
  {
   "cell_type": "markdown",
   "metadata": {},
   "source": [
    "### 2.4 Train - test split\n",
    "\n",
    "Now, we'll split our data into training and testing sets.  \n",
    "\n",
    "\n",
    "We'll accomplish this by generating a random list of 1500 different indices between 1 and 10000.  Then, we'll slice these rows and store them as our test set, and delete them from the training set (it's very important to remember to remove them from the training set!)\n",
    "\n",
    "Run the cell below to create a set of random indices for our test set. "
   ]
  },
  {
   "cell_type": "code",
   "execution_count": 56,
   "metadata": {},
   "outputs": [],
   "source": [
    "test_index = random.sample(range(1,10000), 1500)"
   ]
  },
  {
   "cell_type": "markdown",
   "metadata": {},
   "source": [
    "Now:\n",
    "\n",
    "* Slice the `test_index` rows from `one_hot_results` and store them in `test`."
   ]
  },
  {
   "cell_type": "code",
   "execution_count": 57,
   "metadata": {},
   "outputs": [],
   "source": [
    "test = one_hot_results[test_index]\n",
    "\n",
    "# This line returns a version of our one_hot_results that has every item with an index in test_index removed\n",
    "train = np.delete(one_hot_results, test_index, 0)"
   ]
  },
  {
   "cell_type": "markdown",
   "metadata": {},
   "source": [
    "Now, we'll need to repeat the splitting process on our labels, making sure that we use the same indices we used to split our data. \n",
    "\n",
    "In the cell below:\n",
    "\n",
    "* Slice `test_index` from `product_onehot`\n",
    "* Use `np.delete` to remove `test_index` items from `product_onehot` (the syntax is exactly the same above)"
   ]
  },
  {
   "cell_type": "code",
   "execution_count": 58,
   "metadata": {},
   "outputs": [],
   "source": [
    "label_test = product_onehot[test_index]\n",
    "label_train = np.delete(product_onehot, test_index, 0)"
   ]
  },
  {
   "cell_type": "markdown",
   "metadata": {},
   "source": [
    "Now, let's examine the shape everything we just did to make sure that the dimensions match up.  \n",
    "\n",
    "In the cell below, use `np.shape` to check the shape of:\n",
    "\n",
    "* `label_test`\n",
    "* `label_train`\n",
    "* `test`\n",
    "* `train`"
   ]
  },
  {
   "cell_type": "code",
   "execution_count": 59,
   "metadata": {},
   "outputs": [
    {
     "name": "stdout",
     "output_type": "stream",
     "text": [
      "(1500, 7)\n",
      "(8500, 7)\n",
      "(1500, 2000)\n",
      "(8500, 2000)\n"
     ]
    }
   ],
   "source": [
    "print(np.shape(label_test)) # Expected Output: (1500, 7)\n",
    "print(np.shape(label_train)) # Expected Output: (8500, 7)\n",
    "print(np.shape(test)) # Expected Output: (1500, 2000)\n",
    "print(np.shape(train)) # Expected Output: (8500, 2000)"
   ]
  },
  {
   "cell_type": "markdown",
   "metadata": {},
   "source": [
    "## 3. Running the model using a validation set."
   ]
  },
  {
   "cell_type": "markdown",
   "metadata": {},
   "source": [
    "### 3.1 Creating the validation set"
   ]
  },
  {
   "cell_type": "markdown",
   "metadata": {},
   "source": [
    "In the lecture we mentioned that in deep learning, we generally keep aside a validation set, which is used during hyperparameter tuning. Then when we have made the final model decision, the test set is used to define the final model perforance. \n",
    "\n",
    "In this example, let's take the first 1000 cases out of the training set to become the validation set. You should do this for both `train` and `label_train`.\n",
    "\n",
    "Run the cell below to create our validation set. "
   ]
  },
  {
   "cell_type": "code",
   "execution_count": 60,
   "metadata": {},
   "outputs": [],
   "source": [
    "random.seed(123)\n",
    "val = train[:1000]\n",
    "train_final = train[1000:]\n",
    "label_val = label_train[:1000]\n",
    "label_train_final = label_train[1000:]"
   ]
  },
  {
   "cell_type": "markdown",
   "metadata": {},
   "source": [
    "### 3.2 Creating, compiling and running the model"
   ]
  },
  {
   "cell_type": "markdown",
   "metadata": {},
   "source": [
    "Let's rebuild a fully connected (Dense) layer network with relu activations in Keras."
   ]
  },
  {
   "cell_type": "markdown",
   "metadata": {},
   "source": [
    "Recall that we used 2 hidden with 50 units in the first layer and 25 in the second, both with a `relu` activation function. Because we are dealing with a multiclass problem (classifying the complaints into 7 classes), we use a use a softmax classifyer in order to output 7 class probabilities per case.\n",
    "\n",
    "In the cell below:\n",
    "\n",
    "* Import `Sequential` from the appropriate module in keras.\n",
    "* Import `Dense` from the appropriate module in keras."
   ]
  },
  {
   "cell_type": "code",
   "execution_count": 61,
   "metadata": {},
   "outputs": [],
   "source": [
    "from keras.models import Sequential\n",
    "from keras.layers import Dense"
   ]
  },
  {
   "cell_type": "markdown",
   "metadata": {},
   "source": [
    "Now, build a model with the following specifications in the cell below:\n",
    "\n",
    "* An input layer of shape `(2000,)`\n",
    "* Hidden layer 1: Dense, 50 neurons, relu activation \n",
    "* Hidden layer 2: Dense, 25 neurons, relu activation\n",
    "* Output layer: Dense, 7 neurons, softmax activation"
   ]
  },
  {
   "cell_type": "code",
   "execution_count": 63,
   "metadata": {},
   "outputs": [],
   "source": [
    "model = Sequential()\n",
    "model.add(Dense(50, activation = 'relu', input_shape = (2000,))) \n",
    "model.add(Dense(25, activation = 'relu'))\n",
    "model.add(Dense(7, activation = 'softmax'))"
   ]
  },
  {
   "cell_type": "markdown",
   "metadata": {},
   "source": [
    "In the cell below, `compile` the model with the following settings:\n",
    "\n",
    "* Optimizer is `\"SGD\"`\n",
    "* Loss is `'categorical_crossentropy'`\n",
    "* metrics is `['accuracy']`"
   ]
  },
  {
   "cell_type": "code",
   "execution_count": 64,
   "metadata": {},
   "outputs": [],
   "source": [
    "model.compile(optimizer='SGD',\n",
    "              loss='categorical_crossentropy',\n",
    "              metrics=['accuracy'])"
   ]
  },
  {
   "cell_type": "markdown",
   "metadata": {},
   "source": [
    "Now, Train the model for 120 epochs in mini-batches of 256 samples. Also pass in `(val, label_val)` to the `validation_data` parameter, so that we see how our model does on the test set after every epoch. "
   ]
  },
  {
   "cell_type": "code",
   "execution_count": 65,
   "metadata": {},
   "outputs": [
    {
     "name": "stdout",
     "output_type": "stream",
     "text": [
      "Epoch 1/120\n",
      "30/30 [==============================] - 0s 7ms/step - loss: 1.9487 - accuracy: 0.1489 - val_loss: 1.9382 - val_accuracy: 0.1640\n",
      "Epoch 2/120\n",
      "30/30 [==============================] - 0s 3ms/step - loss: 1.9328 - accuracy: 0.1707 - val_loss: 1.9233 - val_accuracy: 0.1920\n",
      "Epoch 3/120\n",
      "30/30 [==============================] - 0s 3ms/step - loss: 1.9178 - accuracy: 0.1979 - val_loss: 1.9092 - val_accuracy: 0.2110\n",
      "Epoch 4/120\n",
      "30/30 [==============================] - 0s 3ms/step - loss: 1.9021 - accuracy: 0.2279 - val_loss: 1.8938 - val_accuracy: 0.2400\n",
      "Epoch 5/120\n",
      "30/30 [==============================] - 0s 3ms/step - loss: 1.8841 - accuracy: 0.2407 - val_loss: 1.8749 - val_accuracy: 0.2520\n",
      "Epoch 6/120\n",
      "30/30 [==============================] - 0s 3ms/step - loss: 1.8619 - accuracy: 0.2545 - val_loss: 1.8520 - val_accuracy: 0.2620\n",
      "Epoch 7/120\n",
      "30/30 [==============================] - 0s 3ms/step - loss: 1.8340 - accuracy: 0.2761 - val_loss: 1.8236 - val_accuracy: 0.2970\n",
      "Epoch 8/120\n",
      "30/30 [==============================] - 0s 3ms/step - loss: 1.7997 - accuracy: 0.3083 - val_loss: 1.7893 - val_accuracy: 0.3140\n",
      "Epoch 9/120\n",
      "30/30 [==============================] - 0s 3ms/step - loss: 1.7600 - accuracy: 0.3353 - val_loss: 1.7492 - val_accuracy: 0.3430\n",
      "Epoch 10/120\n",
      "30/30 [==============================] - 0s 3ms/step - loss: 1.7151 - accuracy: 0.3721 - val_loss: 1.7051 - val_accuracy: 0.3690\n",
      "Epoch 11/120\n",
      "30/30 [==============================] - 0s 3ms/step - loss: 1.6663 - accuracy: 0.4020 - val_loss: 1.6571 - val_accuracy: 0.3870\n",
      "Epoch 12/120\n",
      "30/30 [==============================] - 0s 3ms/step - loss: 1.6141 - accuracy: 0.4353 - val_loss: 1.6073 - val_accuracy: 0.4170\n",
      "Epoch 13/120\n",
      "30/30 [==============================] - 0s 3ms/step - loss: 1.5609 - accuracy: 0.4659 - val_loss: 1.5568 - val_accuracy: 0.4440\n",
      "Epoch 14/120\n",
      "30/30 [==============================] - 0s 3ms/step - loss: 1.5070 - accuracy: 0.4968 - val_loss: 1.5073 - val_accuracy: 0.4550\n",
      "Epoch 15/120\n",
      "30/30 [==============================] - 0s 3ms/step - loss: 1.4539 - accuracy: 0.5223 - val_loss: 1.4581 - val_accuracy: 0.4920\n",
      "Epoch 16/120\n",
      "30/30 [==============================] - 0s 3ms/step - loss: 1.4012 - accuracy: 0.5405 - val_loss: 1.4094 - val_accuracy: 0.5290\n",
      "Epoch 17/120\n",
      "30/30 [==============================] - 0s 3ms/step - loss: 1.3504 - accuracy: 0.5675 - val_loss: 1.3630 - val_accuracy: 0.5460\n",
      "Epoch 18/120\n",
      "30/30 [==============================] - 0s 3ms/step - loss: 1.3015 - accuracy: 0.5843 - val_loss: 1.3180 - val_accuracy: 0.5660\n",
      "Epoch 19/120\n",
      "30/30 [==============================] - 0s 3ms/step - loss: 1.2544 - accuracy: 0.6041 - val_loss: 1.2761 - val_accuracy: 0.5880\n",
      "Epoch 20/120\n",
      "30/30 [==============================] - 0s 3ms/step - loss: 1.2096 - accuracy: 0.6201 - val_loss: 1.2353 - val_accuracy: 0.5930\n",
      "Epoch 21/120\n",
      "30/30 [==============================] - 0s 3ms/step - loss: 1.1674 - accuracy: 0.6311 - val_loss: 1.1979 - val_accuracy: 0.6110\n",
      "Epoch 22/120\n",
      "30/30 [==============================] - 0s 3ms/step - loss: 1.1276 - accuracy: 0.6453 - val_loss: 1.1619 - val_accuracy: 0.6300\n",
      "Epoch 23/120\n",
      "30/30 [==============================] - 0s 3ms/step - loss: 1.0908 - accuracy: 0.6565 - val_loss: 1.1283 - val_accuracy: 0.6380\n",
      "Epoch 24/120\n",
      "30/30 [==============================] - 0s 3ms/step - loss: 1.0559 - accuracy: 0.6664 - val_loss: 1.0985 - val_accuracy: 0.6390\n",
      "Epoch 25/120\n",
      "30/30 [==============================] - 0s 3ms/step - loss: 1.0235 - accuracy: 0.6756 - val_loss: 1.0694 - val_accuracy: 0.6470\n",
      "Epoch 26/120\n",
      "30/30 [==============================] - 0s 3ms/step - loss: 0.9929 - accuracy: 0.6828 - val_loss: 1.0431 - val_accuracy: 0.6590\n",
      "Epoch 27/120\n",
      "30/30 [==============================] - 0s 3ms/step - loss: 0.9646 - accuracy: 0.6884 - val_loss: 1.0179 - val_accuracy: 0.6720\n",
      "Epoch 28/120\n",
      "30/30 [==============================] - 0s 3ms/step - loss: 0.9384 - accuracy: 0.6985 - val_loss: 0.9962 - val_accuracy: 0.6770\n",
      "Epoch 29/120\n",
      "30/30 [==============================] - 0s 3ms/step - loss: 0.9141 - accuracy: 0.7049 - val_loss: 0.9769 - val_accuracy: 0.6710\n",
      "Epoch 30/120\n",
      "30/30 [==============================] - 0s 3ms/step - loss: 0.8914 - accuracy: 0.7129 - val_loss: 0.9588 - val_accuracy: 0.6730\n",
      "Epoch 31/120\n",
      "30/30 [==============================] - 0s 3ms/step - loss: 0.8703 - accuracy: 0.7139 - val_loss: 0.9416 - val_accuracy: 0.6810\n",
      "Epoch 32/120\n",
      "30/30 [==============================] - 0s 3ms/step - loss: 0.8509 - accuracy: 0.7203 - val_loss: 0.9240 - val_accuracy: 0.6810\n",
      "Epoch 33/120\n",
      "30/30 [==============================] - 0s 3ms/step - loss: 0.8326 - accuracy: 0.7269 - val_loss: 0.9091 - val_accuracy: 0.6890\n",
      "Epoch 34/120\n",
      "30/30 [==============================] - 0s 3ms/step - loss: 0.8154 - accuracy: 0.7248 - val_loss: 0.8966 - val_accuracy: 0.6980\n",
      "Epoch 35/120\n",
      "30/30 [==============================] - 0s 3ms/step - loss: 0.7989 - accuracy: 0.7336 - val_loss: 0.8847 - val_accuracy: 0.6910\n",
      "Epoch 36/120\n",
      "30/30 [==============================] - 0s 3ms/step - loss: 0.7843 - accuracy: 0.7360 - val_loss: 0.8761 - val_accuracy: 0.6950\n",
      "Epoch 37/120\n",
      "30/30 [==============================] - 0s 3ms/step - loss: 0.7702 - accuracy: 0.7411 - val_loss: 0.8617 - val_accuracy: 0.7000\n",
      "Epoch 38/120\n",
      "30/30 [==============================] - 0s 3ms/step - loss: 0.7568 - accuracy: 0.7439 - val_loss: 0.8533 - val_accuracy: 0.7010\n",
      "Epoch 39/120\n",
      "30/30 [==============================] - 0s 3ms/step - loss: 0.7443 - accuracy: 0.7477 - val_loss: 0.8427 - val_accuracy: 0.6960\n",
      "Epoch 40/120\n",
      "30/30 [==============================] - 0s 3ms/step - loss: 0.7322 - accuracy: 0.7525 - val_loss: 0.8359 - val_accuracy: 0.7030\n",
      "Epoch 41/120\n",
      "30/30 [==============================] - 0s 3ms/step - loss: 0.7209 - accuracy: 0.7539 - val_loss: 0.8253 - val_accuracy: 0.7090\n",
      "Epoch 42/120\n",
      "30/30 [==============================] - 0s 3ms/step - loss: 0.7105 - accuracy: 0.7568 - val_loss: 0.8209 - val_accuracy: 0.7100\n",
      "Epoch 43/120\n",
      "30/30 [==============================] - 0s 3ms/step - loss: 0.7003 - accuracy: 0.7595 - val_loss: 0.8118 - val_accuracy: 0.7100\n",
      "Epoch 44/120\n",
      "30/30 [==============================] - 0s 3ms/step - loss: 0.6904 - accuracy: 0.7608 - val_loss: 0.8047 - val_accuracy: 0.7120\n",
      "Epoch 45/120\n",
      "30/30 [==============================] - 0s 3ms/step - loss: 0.6814 - accuracy: 0.7653 - val_loss: 0.8002 - val_accuracy: 0.7140\n",
      "Epoch 46/120\n",
      "30/30 [==============================] - 0s 3ms/step - loss: 0.6720 - accuracy: 0.7693 - val_loss: 0.7946 - val_accuracy: 0.7120\n",
      "Epoch 47/120\n",
      "30/30 [==============================] - 0s 3ms/step - loss: 0.6633 - accuracy: 0.7729 - val_loss: 0.7918 - val_accuracy: 0.7140\n",
      "Epoch 48/120\n",
      "30/30 [==============================] - 0s 3ms/step - loss: 0.6557 - accuracy: 0.7731 - val_loss: 0.7820 - val_accuracy: 0.7160\n",
      "Epoch 49/120\n",
      "30/30 [==============================] - 0s 3ms/step - loss: 0.6476 - accuracy: 0.7780 - val_loss: 0.7776 - val_accuracy: 0.7200\n",
      "Epoch 50/120\n",
      "30/30 [==============================] - 0s 3ms/step - loss: 0.6397 - accuracy: 0.7800 - val_loss: 0.7776 - val_accuracy: 0.7280\n",
      "Epoch 51/120\n",
      "30/30 [==============================] - 0s 3ms/step - loss: 0.6325 - accuracy: 0.7817 - val_loss: 0.7697 - val_accuracy: 0.7170\n",
      "Epoch 52/120\n",
      "30/30 [==============================] - 0s 3ms/step - loss: 0.6254 - accuracy: 0.7875 - val_loss: 0.7661 - val_accuracy: 0.7210\n",
      "Epoch 53/120\n",
      "30/30 [==============================] - 0s 3ms/step - loss: 0.6184 - accuracy: 0.7859 - val_loss: 0.7617 - val_accuracy: 0.7270\n",
      "Epoch 54/120\n",
      "30/30 [==============================] - 0s 3ms/step - loss: 0.6120 - accuracy: 0.7881 - val_loss: 0.7576 - val_accuracy: 0.7250\n",
      "Epoch 55/120\n",
      "30/30 [==============================] - 0s 3ms/step - loss: 0.6056 - accuracy: 0.7905 - val_loss: 0.7537 - val_accuracy: 0.7290\n",
      "Epoch 56/120\n",
      "30/30 [==============================] - 0s 3ms/step - loss: 0.5993 - accuracy: 0.7905 - val_loss: 0.7491 - val_accuracy: 0.7260\n",
      "Epoch 57/120\n",
      "30/30 [==============================] - 0s 3ms/step - loss: 0.5928 - accuracy: 0.7936 - val_loss: 0.7459 - val_accuracy: 0.7260\n",
      "Epoch 58/120\n",
      "30/30 [==============================] - 0s 3ms/step - loss: 0.5868 - accuracy: 0.7956 - val_loss: 0.7447 - val_accuracy: 0.7420\n"
     ]
    },
    {
     "name": "stdout",
     "output_type": "stream",
     "text": [
      "Epoch 59/120\n",
      "30/30 [==============================] - 0s 3ms/step - loss: 0.5812 - accuracy: 0.7987 - val_loss: 0.7397 - val_accuracy: 0.7300\n",
      "Epoch 60/120\n",
      "30/30 [==============================] - 0s 3ms/step - loss: 0.5750 - accuracy: 0.7992 - val_loss: 0.7375 - val_accuracy: 0.7350\n",
      "Epoch 61/120\n",
      "30/30 [==============================] - 0s 3ms/step - loss: 0.5701 - accuracy: 0.8012 - val_loss: 0.7368 - val_accuracy: 0.7270\n",
      "Epoch 62/120\n",
      "30/30 [==============================] - 0s 3ms/step - loss: 0.5646 - accuracy: 0.8016 - val_loss: 0.7330 - val_accuracy: 0.7340\n",
      "Epoch 63/120\n",
      "30/30 [==============================] - 0s 3ms/step - loss: 0.5589 - accuracy: 0.8055 - val_loss: 0.7312 - val_accuracy: 0.7340\n",
      "Epoch 64/120\n",
      "30/30 [==============================] - 0s 3ms/step - loss: 0.5538 - accuracy: 0.8063 - val_loss: 0.7283 - val_accuracy: 0.7350\n",
      "Epoch 65/120\n",
      "30/30 [==============================] - 0s 3ms/step - loss: 0.5489 - accuracy: 0.8104 - val_loss: 0.7263 - val_accuracy: 0.7400\n",
      "Epoch 66/120\n",
      "30/30 [==============================] - 0s 3ms/step - loss: 0.5438 - accuracy: 0.8077 - val_loss: 0.7242 - val_accuracy: 0.7410\n",
      "Epoch 67/120\n",
      "30/30 [==============================] - 0s 3ms/step - loss: 0.5392 - accuracy: 0.8127 - val_loss: 0.7210 - val_accuracy: 0.7370\n",
      "Epoch 68/120\n",
      "30/30 [==============================] - 0s 3ms/step - loss: 0.5346 - accuracy: 0.8135 - val_loss: 0.7230 - val_accuracy: 0.7420\n",
      "Epoch 69/120\n",
      "30/30 [==============================] - 0s 3ms/step - loss: 0.5296 - accuracy: 0.8140 - val_loss: 0.7190 - val_accuracy: 0.7380\n",
      "Epoch 70/120\n",
      "30/30 [==============================] - 0s 3ms/step - loss: 0.5250 - accuracy: 0.8163 - val_loss: 0.7196 - val_accuracy: 0.7380\n",
      "Epoch 71/120\n",
      "30/30 [==============================] - 0s 3ms/step - loss: 0.5203 - accuracy: 0.8180 - val_loss: 0.7125 - val_accuracy: 0.7410\n",
      "Epoch 72/120\n",
      "30/30 [==============================] - 0s 3ms/step - loss: 0.5162 - accuracy: 0.8184 - val_loss: 0.7124 - val_accuracy: 0.7490\n",
      "Epoch 73/120\n",
      "30/30 [==============================] - 0s 3ms/step - loss: 0.5121 - accuracy: 0.8220 - val_loss: 0.7119 - val_accuracy: 0.7350\n",
      "Epoch 74/120\n",
      "30/30 [==============================] - 0s 3ms/step - loss: 0.5074 - accuracy: 0.8213 - val_loss: 0.7073 - val_accuracy: 0.7500\n",
      "Epoch 75/120\n",
      "30/30 [==============================] - 0s 3ms/step - loss: 0.5031 - accuracy: 0.8257 - val_loss: 0.7083 - val_accuracy: 0.7440\n",
      "Epoch 76/120\n",
      "30/30 [==============================] - 0s 3ms/step - loss: 0.4991 - accuracy: 0.8243 - val_loss: 0.7069 - val_accuracy: 0.7510\n",
      "Epoch 77/120\n",
      "30/30 [==============================] - 0s 3ms/step - loss: 0.4949 - accuracy: 0.8291 - val_loss: 0.7055 - val_accuracy: 0.7430\n",
      "Epoch 78/120\n",
      "30/30 [==============================] - 0s 3ms/step - loss: 0.4905 - accuracy: 0.8293 - val_loss: 0.7021 - val_accuracy: 0.7490\n",
      "Epoch 79/120\n",
      "30/30 [==============================] - 0s 3ms/step - loss: 0.4869 - accuracy: 0.8319 - val_loss: 0.7020 - val_accuracy: 0.7470\n",
      "Epoch 80/120\n",
      "30/30 [==============================] - 0s 3ms/step - loss: 0.4830 - accuracy: 0.8315 - val_loss: 0.7033 - val_accuracy: 0.7480\n",
      "Epoch 81/120\n",
      "30/30 [==============================] - 0s 3ms/step - loss: 0.4791 - accuracy: 0.8321 - val_loss: 0.6990 - val_accuracy: 0.7490\n",
      "Epoch 82/120\n",
      "30/30 [==============================] - 0s 3ms/step - loss: 0.4750 - accuracy: 0.8372 - val_loss: 0.6978 - val_accuracy: 0.7520\n",
      "Epoch 83/120\n",
      "30/30 [==============================] - 0s 3ms/step - loss: 0.4716 - accuracy: 0.8364 - val_loss: 0.6975 - val_accuracy: 0.7530\n",
      "Epoch 84/120\n",
      "30/30 [==============================] - 0s 3ms/step - loss: 0.4679 - accuracy: 0.8384 - val_loss: 0.6993 - val_accuracy: 0.7520\n",
      "Epoch 85/120\n",
      "30/30 [==============================] - 0s 3ms/step - loss: 0.4642 - accuracy: 0.8400 - val_loss: 0.6960 - val_accuracy: 0.7520\n",
      "Epoch 86/120\n",
      "30/30 [==============================] - 0s 3ms/step - loss: 0.4607 - accuracy: 0.8412 - val_loss: 0.6938 - val_accuracy: 0.7560\n",
      "Epoch 87/120\n",
      "30/30 [==============================] - 0s 3ms/step - loss: 0.4569 - accuracy: 0.8439 - val_loss: 0.6948 - val_accuracy: 0.7540\n",
      "Epoch 88/120\n",
      "30/30 [==============================] - 0s 3ms/step - loss: 0.4532 - accuracy: 0.8451 - val_loss: 0.6929 - val_accuracy: 0.7550\n",
      "Epoch 89/120\n",
      "30/30 [==============================] - 0s 3ms/step - loss: 0.4496 - accuracy: 0.8492 - val_loss: 0.6930 - val_accuracy: 0.7540\n",
      "Epoch 90/120\n",
      "30/30 [==============================] - 0s 3ms/step - loss: 0.4460 - accuracy: 0.8480 - val_loss: 0.6924 - val_accuracy: 0.7580\n",
      "Epoch 91/120\n",
      "30/30 [==============================] - 0s 3ms/step - loss: 0.4427 - accuracy: 0.8489 - val_loss: 0.6965 - val_accuracy: 0.7490\n",
      "Epoch 92/120\n",
      "30/30 [==============================] - 0s 3ms/step - loss: 0.4403 - accuracy: 0.8491 - val_loss: 0.6903 - val_accuracy: 0.7480\n",
      "Epoch 93/120\n",
      "30/30 [==============================] - 0s 3ms/step - loss: 0.4361 - accuracy: 0.8519 - val_loss: 0.6894 - val_accuracy: 0.7610\n",
      "Epoch 94/120\n",
      "30/30 [==============================] - 0s 3ms/step - loss: 0.4330 - accuracy: 0.8528 - val_loss: 0.6904 - val_accuracy: 0.7600\n",
      "Epoch 95/120\n",
      "30/30 [==============================] - 0s 3ms/step - loss: 0.4295 - accuracy: 0.8552 - val_loss: 0.6943 - val_accuracy: 0.7530\n",
      "Epoch 96/120\n",
      "30/30 [==============================] - 0s 3ms/step - loss: 0.4266 - accuracy: 0.8549 - val_loss: 0.6878 - val_accuracy: 0.7600\n",
      "Epoch 97/120\n",
      "30/30 [==============================] - 0s 3ms/step - loss: 0.4230 - accuracy: 0.8585 - val_loss: 0.6889 - val_accuracy: 0.7490\n",
      "Epoch 98/120\n",
      "30/30 [==============================] - 0s 3ms/step - loss: 0.4202 - accuracy: 0.8580 - val_loss: 0.6891 - val_accuracy: 0.7530\n",
      "Epoch 99/120\n",
      "30/30 [==============================] - 0s 3ms/step - loss: 0.4170 - accuracy: 0.8591 - val_loss: 0.6882 - val_accuracy: 0.7610\n",
      "Epoch 100/120\n",
      "30/30 [==============================] - 0s 3ms/step - loss: 0.4136 - accuracy: 0.8616 - val_loss: 0.6879 - val_accuracy: 0.7580\n",
      "Epoch 101/120\n",
      "30/30 [==============================] - 0s 3ms/step - loss: 0.4108 - accuracy: 0.8616 - val_loss: 0.6873 - val_accuracy: 0.7620\n",
      "Epoch 102/120\n",
      "30/30 [==============================] - 0s 3ms/step - loss: 0.4075 - accuracy: 0.8625 - val_loss: 0.6876 - val_accuracy: 0.7580\n",
      "Epoch 103/120\n",
      "30/30 [==============================] - 0s 3ms/step - loss: 0.4047 - accuracy: 0.8652 - val_loss: 0.6869 - val_accuracy: 0.7560\n",
      "Epoch 104/120\n",
      "30/30 [==============================] - 0s 3ms/step - loss: 0.4018 - accuracy: 0.8655 - val_loss: 0.6849 - val_accuracy: 0.7580\n",
      "Epoch 105/120\n",
      "30/30 [==============================] - 0s 3ms/step - loss: 0.3988 - accuracy: 0.8663 - val_loss: 0.6864 - val_accuracy: 0.7580\n",
      "Epoch 106/120\n",
      "30/30 [==============================] - 0s 3ms/step - loss: 0.3961 - accuracy: 0.8665 - val_loss: 0.6860 - val_accuracy: 0.7590\n",
      "Epoch 107/120\n",
      "30/30 [==============================] - 0s 3ms/step - loss: 0.3927 - accuracy: 0.8677 - val_loss: 0.6883 - val_accuracy: 0.7680\n",
      "Epoch 108/120\n",
      "30/30 [==============================] - 0s 3ms/step - loss: 0.3903 - accuracy: 0.8697 - val_loss: 0.6855 - val_accuracy: 0.7560\n",
      "Epoch 109/120\n",
      "30/30 [==============================] - 0s 3ms/step - loss: 0.3872 - accuracy: 0.8703 - val_loss: 0.6877 - val_accuracy: 0.7600\n",
      "Epoch 110/120\n",
      "30/30 [==============================] - 0s 3ms/step - loss: 0.3849 - accuracy: 0.8707 - val_loss: 0.6861 - val_accuracy: 0.7660\n",
      "Epoch 111/120\n",
      "30/30 [==============================] - 0s 3ms/step - loss: 0.3816 - accuracy: 0.8743 - val_loss: 0.6892 - val_accuracy: 0.7630\n",
      "Epoch 112/120\n",
      "30/30 [==============================] - 0s 3ms/step - loss: 0.3795 - accuracy: 0.8741 - val_loss: 0.6865 - val_accuracy: 0.7640\n",
      "Epoch 113/120\n",
      "30/30 [==============================] - 0s 3ms/step - loss: 0.3765 - accuracy: 0.8761 - val_loss: 0.6874 - val_accuracy: 0.7650\n",
      "Epoch 114/120\n",
      "30/30 [==============================] - 0s 3ms/step - loss: 0.3737 - accuracy: 0.8755 - val_loss: 0.6871 - val_accuracy: 0.7630\n",
      "Epoch 115/120\n",
      "30/30 [==============================] - 0s 3ms/step - loss: 0.3710 - accuracy: 0.8792 - val_loss: 0.6865 - val_accuracy: 0.7580\n",
      "Epoch 116/120\n"
     ]
    },
    {
     "name": "stdout",
     "output_type": "stream",
     "text": [
      "30/30 [==============================] - 0s 3ms/step - loss: 0.3684 - accuracy: 0.8768 - val_loss: 0.6869 - val_accuracy: 0.7620\n",
      "Epoch 117/120\n",
      "30/30 [==============================] - 0s 3ms/step - loss: 0.3659 - accuracy: 0.8799 - val_loss: 0.6871 - val_accuracy: 0.7590\n",
      "Epoch 118/120\n",
      "30/30 [==============================] - 0s 3ms/step - loss: 0.3633 - accuracy: 0.8820 - val_loss: 0.6865 - val_accuracy: 0.7610\n",
      "Epoch 119/120\n",
      "30/30 [==============================] - 0s 3ms/step - loss: 0.3606 - accuracy: 0.8811 - val_loss: 0.6870 - val_accuracy: 0.7580\n",
      "Epoch 120/120\n",
      "30/30 [==============================] - 0s 3ms/step - loss: 0.3578 - accuracy: 0.8835 - val_loss: 0.6880 - val_accuracy: 0.7630\n"
     ]
    }
   ],
   "source": [
    "model_val = model.fit(train_final,\n",
    "                    label_train_final,\n",
    "                    epochs= 120,\n",
    "                    batch_size= 256,\n",
    "                    validation_data=(val, label_val))"
   ]
  },
  {
   "cell_type": "markdown",
   "metadata": {},
   "source": [
    "The dictionary `history` contains four entries this time: one per metric that was being monitored during training and during validation.\n",
    "\n",
    "In the cell below:\n",
    "\n",
    "* Store the model's `.history` inside of `model_val_dict`\n",
    "* Check what `keys()` this dictionary contains"
   ]
  },
  {
   "cell_type": "code",
   "execution_count": 66,
   "metadata": {},
   "outputs": [
    {
     "data": {
      "text/plain": [
       "dict_keys(['loss', 'accuracy', 'val_loss', 'val_accuracy'])"
      ]
     },
     "execution_count": 66,
     "metadata": {},
     "output_type": "execute_result"
    }
   ],
   "source": [
    "model_val_dict = model_val.history\n",
    "model_val_dict.keys()"
   ]
  },
  {
   "cell_type": "markdown",
   "metadata": {},
   "source": [
    "Now, let's get the final results on the training and testing sets using `model.evaluate()` on `train_final` and `label_train_final`."
   ]
  },
  {
   "cell_type": "code",
   "execution_count": 67,
   "metadata": {},
   "outputs": [
    {
     "name": "stdout",
     "output_type": "stream",
     "text": [
      "235/235 [==============================] - 0s 400us/step - loss: 0.3557 - accuracy: 0.8845\n"
     ]
    }
   ],
   "source": [
    "results_train = model.evaluate(train_final, label_train_final)"
   ]
  },
  {
   "cell_type": "markdown",
   "metadata": {},
   "source": [
    "Let's also use this function to get the results on our testing set.  Call the function again, but this time on `test` and `label_test`. "
   ]
  },
  {
   "cell_type": "code",
   "execution_count": 68,
   "metadata": {},
   "outputs": [
    {
     "name": "stdout",
     "output_type": "stream",
     "text": [
      "47/47 [==============================] - 0s 489us/step - loss: 0.6446 - accuracy: 0.7467\n"
     ]
    }
   ],
   "source": [
    "results_test = model.evaluate(test, label_test)"
   ]
  },
  {
   "cell_type": "markdown",
   "metadata": {},
   "source": [
    "Now, check the contents of each. "
   ]
  },
  {
   "cell_type": "code",
   "execution_count": 69,
   "metadata": {},
   "outputs": [
    {
     "data": {
      "text/plain": [
       "[0.35568875074386597, 0.8845333456993103]"
      ]
     },
     "execution_count": 69,
     "metadata": {},
     "output_type": "execute_result"
    }
   ],
   "source": [
    "results_train # Expected Results: [0.33576024494171142, 0.89600000000000002]"
   ]
  },
  {
   "cell_type": "code",
   "execution_count": 70,
   "metadata": {},
   "outputs": [
    {
     "data": {
      "text/plain": [
       "[0.6445987820625305, 0.746666669845581]"
      ]
     },
     "execution_count": 70,
     "metadata": {},
     "output_type": "execute_result"
    }
   ],
   "source": [
    "results_test # Expected Results: [0.72006658554077152, 0.74333333365122478]"
   ]
  },
  {
   "cell_type": "markdown",
   "metadata": {},
   "source": [
    "### Plotting the results"
   ]
  },
  {
   "cell_type": "markdown",
   "metadata": {},
   "source": [
    "Let's plot the results. Let's include the training and the validation loss in the same plot. We'll do the same thing for the training and validation accuracy.\n",
    "\n",
    "Run the cell below to visualize a plot of our training and validation loss."
   ]
  },
  {
   "cell_type": "code",
   "execution_count": 71,
   "metadata": {},
   "outputs": [
    {
     "data": {
      "image/png": "[encoded data removed]",
      "text/plain": [
       "<Figure size 432x288 with 1 Axes>"
      ]
     },
     "metadata": {
      "needs_background": "light"
     },
     "output_type": "display_data"
    }
   ],
   "source": [
    "plt.clf()\n",
    "\n",
    "import matplotlib.pyplot as plt\n",
    "loss_values = model_val_dict['loss']\n",
    "val_loss_values = model_val_dict['val_loss']\n",
    "\n",
    "epochs = range(1, len(loss_values) + 1)\n",
    "plt.plot(epochs, loss_values, 'g', label='Training loss')\n",
    "plt.plot(epochs, val_loss_values, 'g.', label='Validation loss')\n",
    "\n",
    "plt.title('Training & validation loss')\n",
    "plt.xlabel('Epochs')\n",
    "plt.ylabel('Loss')\n",
    "plt.legend()\n",
    "plt.show()"
   ]
  },
  {
   "cell_type": "markdown",
   "metadata": {},
   "source": [
    "Interesting! \n",
    "\n",
    "Run the cell below to visualize a plot of our training and validation accuracy>"
   ]
  },
  {
   "cell_type": "code",
   "execution_count": 72,
   "metadata": {},
   "outputs": [
    {
     "ename": "KeyError",
     "evalue": "'acc'",
     "output_type": "error",
     "traceback": [
      "\u001b[1;31m---------------------------------------------------------------------------\u001b[0m",
      "\u001b[1;31mKeyError\u001b[0m                                  Traceback (most recent call last)",
      "\u001b[1;32m<ipython-input-72-3f4bab085b80>\u001b[0m in \u001b[0;36m<module>\u001b[1;34m\u001b[0m\n\u001b[0;32m      1\u001b[0m \u001b[0mplt\u001b[0m\u001b[1;33m.\u001b[0m\u001b[0mclf\u001b[0m\u001b[1;33m(\u001b[0m\u001b[1;33m)\u001b[0m\u001b[1;33m\u001b[0m\u001b[1;33m\u001b[0m\u001b[0m\n\u001b[0;32m      2\u001b[0m \u001b[1;33m\u001b[0m\u001b[0m\n\u001b[1;32m----> 3\u001b[1;33m \u001b[0macc_values\u001b[0m \u001b[1;33m=\u001b[0m \u001b[0mmodel_val_dict\u001b[0m\u001b[1;33m[\u001b[0m\u001b[1;34m'acc'\u001b[0m\u001b[1;33m]\u001b[0m\u001b[1;33m\u001b[0m\u001b[1;33m\u001b[0m\u001b[0m\n\u001b[0m\u001b[0;32m      4\u001b[0m \u001b[0mval_acc_values\u001b[0m \u001b[1;33m=\u001b[0m \u001b[0mmodel_val_dict\u001b[0m\u001b[1;33m[\u001b[0m\u001b[1;34m'val_acc'\u001b[0m\u001b[1;33m]\u001b[0m\u001b[1;33m\u001b[0m\u001b[1;33m\u001b[0m\u001b[0m\n\u001b[0;32m      5\u001b[0m \u001b[1;33m\u001b[0m\u001b[0m\n",
      "\u001b[1;31mKeyError\u001b[0m: 'acc'"
     ]
    },
    {
     "data": {
      "text/plain": [
       "<Figure size 432x288 with 0 Axes>"
      ]
     },
     "metadata": {},
     "output_type": "display_data"
    }
   ],
   "source": [
    "plt.clf()\n",
    "\n",
    "acc_values = model_val_dict['acc'] \n",
    "val_acc_values = model_val_dict['val_acc']\n",
    "\n",
    "plt.plot(epochs, acc_values, 'r', label='Training acc')\n",
    "plt.plot(epochs, val_acc_values, 'r.', label='Validation acc')\n",
    "plt.title('Training & validation accuracy')\n",
    "plt.xlabel('Epochs')\n",
    "plt.ylabel('Loss')\n",
    "plt.legend()\n",
    "plt.show()"
   ]
  },
  {
   "cell_type": "markdown",
   "metadata": {},
   "source": [
    "We observe an interesting pattern here: although the training accuracy keeps increasing when going through more epochs, and the training loss keeps decreasing, the validation accuracy and loss seem to be reaching a status quo around the 60th epoch. This means that we're actually **overfitting** to the train data when we do as many epochs as we were doing. Luckily, you learned how to tackle overfitting in the previous lecture! For starters, it does seem clear that we are training too long. So let's stop training at the 60th epoch first (so-called \"early stopping\") before we move to more advanced regularization techniques!"
   ]
  },
  {
   "cell_type": "markdown",
   "metadata": {},
   "source": [
    "## 3. Early stopping\n",
    "\n",
    "Now that we know that the model starts to overfit around epoch 60, we can just retrain the model from scratch, but this time only up to 60 epochs! This will help us with our overfitting problem.  This method is called **_Early Stopping_**.\n",
    "\n",
    "In the cell below: \n",
    "\n",
    "* Recreate the exact model we did above. \n",
    "* Compile the model with the exact same hyperparameters.\n",
    "* Fit the model with the exact same hyperparameters, with the exception of `epochs`.  This time, set epochs to `60` instead of `120`."
   ]
  },
  {
   "cell_type": "code",
   "execution_count": 73,
   "metadata": {},
   "outputs": [],
   "source": [
    "model = Sequential()\n",
    "model.add(Dense(50, activation='relu', input_shape=(2000,))) #2 hidden layers\n",
    "model.add(Dense(25, activation='relu'))\n",
    "model.add(Dense(7, activation='softmax'))"
   ]
  },
  {
   "cell_type": "code",
   "execution_count": 74,
   "metadata": {},
   "outputs": [],
   "source": [
    "model.compile(optimizer='SGD',\n",
    "              loss='categorical_crossentropy',\n",
    "              metrics=['accuracy'])"
   ]
  },
  {
   "cell_type": "code",
   "execution_count": 75,
   "metadata": {},
   "outputs": [
    {
     "name": "stdout",
     "output_type": "stream",
     "text": [
      "Epoch 1/60\n",
      "30/30 [==============================] - 0s 6ms/step - loss: 1.9378 - accuracy: 0.1572 - val_loss: 1.9201 - val_accuracy: 0.1930\n",
      "Epoch 2/60\n",
      "30/30 [==============================] - 0s 3ms/step - loss: 1.9105 - accuracy: 0.2067 - val_loss: 1.9026 - val_accuracy: 0.2290\n",
      "Epoch 3/60\n",
      "30/30 [==============================] - 0s 3ms/step - loss: 1.8926 - accuracy: 0.2348 - val_loss: 1.8881 - val_accuracy: 0.2440\n",
      "Epoch 4/60\n",
      "30/30 [==============================] - 0s 3ms/step - loss: 1.8760 - accuracy: 0.2501 - val_loss: 1.8733 - val_accuracy: 0.2490\n",
      "Epoch 5/60\n",
      "30/30 [==============================] - 0s 3ms/step - loss: 1.8584 - accuracy: 0.2631 - val_loss: 1.8571 - val_accuracy: 0.2570\n",
      "Epoch 6/60\n",
      "30/30 [==============================] - 0s 3ms/step - loss: 1.8393 - accuracy: 0.2767 - val_loss: 1.8385 - val_accuracy: 0.2740\n",
      "Epoch 7/60\n",
      "30/30 [==============================] - 0s 3ms/step - loss: 1.8178 - accuracy: 0.2940 - val_loss: 1.8180 - val_accuracy: 0.2960\n",
      "Epoch 8/60\n",
      "30/30 [==============================] - 0s 3ms/step - loss: 1.7939 - accuracy: 0.3129 - val_loss: 1.7954 - val_accuracy: 0.3220\n",
      "Epoch 9/60\n",
      "30/30 [==============================] - 0s 3ms/step - loss: 1.7673 - accuracy: 0.3328 - val_loss: 1.7705 - val_accuracy: 0.3470\n",
      "Epoch 10/60\n",
      "30/30 [==============================] - 0s 3ms/step - loss: 1.7382 - accuracy: 0.3585 - val_loss: 1.7428 - val_accuracy: 0.3600\n",
      "Epoch 11/60\n",
      "30/30 [==============================] - 0s 3ms/step - loss: 1.7066 - accuracy: 0.3835 - val_loss: 1.7135 - val_accuracy: 0.3840\n",
      "Epoch 12/60\n",
      "30/30 [==============================] - 0s 3ms/step - loss: 1.6732 - accuracy: 0.4044 - val_loss: 1.6826 - val_accuracy: 0.4130\n",
      "Epoch 13/60\n",
      "30/30 [==============================] - 0s 3ms/step - loss: 1.6378 - accuracy: 0.4280 - val_loss: 1.6501 - val_accuracy: 0.4460\n",
      "Epoch 14/60\n",
      "30/30 [==============================] - 0s 3ms/step - loss: 1.6009 - accuracy: 0.4529 - val_loss: 1.6157 - val_accuracy: 0.4710\n",
      "Epoch 15/60\n",
      "30/30 [==============================] - 0s 3ms/step - loss: 1.5620 - accuracy: 0.4755 - val_loss: 1.5787 - val_accuracy: 0.4840\n",
      "Epoch 16/60\n",
      "30/30 [==============================] - 0s 3ms/step - loss: 1.5216 - accuracy: 0.5015 - val_loss: 1.5406 - val_accuracy: 0.5100\n",
      "Epoch 17/60\n",
      "30/30 [==============================] - 0s 3ms/step - loss: 1.4797 - accuracy: 0.5256 - val_loss: 1.5013 - val_accuracy: 0.5220\n",
      "Epoch 18/60\n",
      "30/30 [==============================] - 0s 3ms/step - loss: 1.4364 - accuracy: 0.5496 - val_loss: 1.4609 - val_accuracy: 0.5510\n",
      "Epoch 19/60\n",
      "30/30 [==============================] - 0s 3ms/step - loss: 1.3926 - accuracy: 0.5704 - val_loss: 1.4200 - val_accuracy: 0.5550\n",
      "Epoch 20/60\n",
      "30/30 [==============================] - 0s 3ms/step - loss: 1.3483 - accuracy: 0.5916 - val_loss: 1.3785 - val_accuracy: 0.5830\n",
      "Epoch 21/60\n",
      "30/30 [==============================] - 0s 3ms/step - loss: 1.3034 - accuracy: 0.6093 - val_loss: 1.3374 - val_accuracy: 0.6050\n",
      "Epoch 22/60\n",
      "30/30 [==============================] - 0s 3ms/step - loss: 1.2588 - accuracy: 0.6272 - val_loss: 1.2955 - val_accuracy: 0.6090\n",
      "Epoch 23/60\n",
      "30/30 [==============================] - 0s 3ms/step - loss: 1.2144 - accuracy: 0.6428 - val_loss: 1.2549 - val_accuracy: 0.6100\n",
      "Epoch 24/60\n",
      "30/30 [==============================] - 0s 3ms/step - loss: 1.1717 - accuracy: 0.6595 - val_loss: 1.2161 - val_accuracy: 0.6170\n",
      "Epoch 25/60\n",
      "30/30 [==============================] - 0s 3ms/step - loss: 1.1305 - accuracy: 0.6680 - val_loss: 1.1786 - val_accuracy: 0.6270\n",
      "Epoch 26/60\n",
      "30/30 [==============================] - 0s 3ms/step - loss: 1.0915 - accuracy: 0.6808 - val_loss: 1.1475 - val_accuracy: 0.6300\n",
      "Epoch 27/60\n",
      "30/30 [==============================] - 0s 3ms/step - loss: 1.0551 - accuracy: 0.6911 - val_loss: 1.1117 - val_accuracy: 0.6400\n",
      "Epoch 28/60\n",
      "30/30 [==============================] - 0s 3ms/step - loss: 1.0206 - accuracy: 0.7001 - val_loss: 1.0825 - val_accuracy: 0.6400\n",
      "Epoch 29/60\n",
      "30/30 [==============================] - 0s 3ms/step - loss: 0.9883 - accuracy: 0.7067 - val_loss: 1.0557 - val_accuracy: 0.6560\n",
      "Epoch 30/60\n",
      "30/30 [==============================] - 0s 3ms/step - loss: 0.9582 - accuracy: 0.7137 - val_loss: 1.0293 - val_accuracy: 0.6460\n",
      "Epoch 31/60\n",
      "30/30 [==============================] - 0s 3ms/step - loss: 0.9301 - accuracy: 0.7179 - val_loss: 1.0043 - val_accuracy: 0.6630\n",
      "Epoch 32/60\n",
      "30/30 [==============================] - 0s 3ms/step - loss: 0.9037 - accuracy: 0.7233 - val_loss: 0.9826 - val_accuracy: 0.6590\n",
      "Epoch 33/60\n",
      "30/30 [==============================] - 0s 3ms/step - loss: 0.8790 - accuracy: 0.7291 - val_loss: 0.9613 - val_accuracy: 0.6710\n",
      "Epoch 34/60\n",
      "30/30 [==============================] - 0s 3ms/step - loss: 0.8567 - accuracy: 0.7359 - val_loss: 0.9439 - val_accuracy: 0.6780\n",
      "Epoch 35/60\n",
      "30/30 [==============================] - 0s 3ms/step - loss: 0.8351 - accuracy: 0.7411 - val_loss: 0.9265 - val_accuracy: 0.6800\n",
      "Epoch 36/60\n",
      "30/30 [==============================] - 0s 3ms/step - loss: 0.8149 - accuracy: 0.7451 - val_loss: 0.9112 - val_accuracy: 0.6820\n",
      "Epoch 37/60\n",
      "30/30 [==============================] - 0s 3ms/step - loss: 0.7965 - accuracy: 0.7461 - val_loss: 0.8955 - val_accuracy: 0.6750\n",
      "Epoch 38/60\n",
      "30/30 [==============================] - 0s 3ms/step - loss: 0.7786 - accuracy: 0.7529 - val_loss: 0.8824 - val_accuracy: 0.6950\n",
      "Epoch 39/60\n",
      "30/30 [==============================] - 0s 3ms/step - loss: 0.7624 - accuracy: 0.7549 - val_loss: 0.8736 - val_accuracy: 0.6820\n",
      "Epoch 40/60\n",
      "30/30 [==============================] - 0s 3ms/step - loss: 0.7469 - accuracy: 0.7588 - val_loss: 0.8592 - val_accuracy: 0.6920\n",
      "Epoch 41/60\n",
      "30/30 [==============================] - 0s 3ms/step - loss: 0.7323 - accuracy: 0.7623 - val_loss: 0.8466 - val_accuracy: 0.6970\n",
      "Epoch 42/60\n",
      "30/30 [==============================] - 0s 3ms/step - loss: 0.7187 - accuracy: 0.7675 - val_loss: 0.8372 - val_accuracy: 0.7000\n",
      "Epoch 43/60\n",
      "30/30 [==============================] - 0s 3ms/step - loss: 0.7058 - accuracy: 0.7677 - val_loss: 0.8286 - val_accuracy: 0.7000\n",
      "Epoch 44/60\n",
      "30/30 [==============================] - 0s 3ms/step - loss: 0.6936 - accuracy: 0.7713 - val_loss: 0.8191 - val_accuracy: 0.7000\n",
      "Epoch 45/60\n",
      "30/30 [==============================] - 0s 3ms/step - loss: 0.6822 - accuracy: 0.7747 - val_loss: 0.8107 - val_accuracy: 0.7040\n",
      "Epoch 46/60\n",
      "30/30 [==============================] - 0s 3ms/step - loss: 0.6712 - accuracy: 0.7792 - val_loss: 0.8040 - val_accuracy: 0.7000\n",
      "Epoch 47/60\n",
      "30/30 [==============================] - ETA: 0s - loss: 0.6597 - accuracy: 0.78 - 0s 3ms/step - loss: 0.6608 - accuracy: 0.7825 - val_loss: 0.7963 - val_accuracy: 0.7110\n",
      "Epoch 48/60\n",
      "30/30 [==============================] - 0s 3ms/step - loss: 0.6503 - accuracy: 0.7844 - val_loss: 0.7900 - val_accuracy: 0.7070\n",
      "Epoch 49/60\n",
      "30/30 [==============================] - 0s 3ms/step - loss: 0.6411 - accuracy: 0.7852 - val_loss: 0.7839 - val_accuracy: 0.7120\n",
      "Epoch 50/60\n",
      "30/30 [==============================] - 0s 3ms/step - loss: 0.6322 - accuracy: 0.7889 - val_loss: 0.7777 - val_accuracy: 0.7100\n",
      "Epoch 51/60\n",
      "30/30 [==============================] - 0s 3ms/step - loss: 0.6234 - accuracy: 0.7911 - val_loss: 0.7750 - val_accuracy: 0.7100\n",
      "Epoch 52/60\n",
      "30/30 [==============================] - 0s 3ms/step - loss: 0.6150 - accuracy: 0.7924 - val_loss: 0.7679 - val_accuracy: 0.7150\n",
      "Epoch 53/60\n",
      "30/30 [==============================] - 0s 3ms/step - loss: 0.6076 - accuracy: 0.7963 - val_loss: 0.7642 - val_accuracy: 0.7190\n",
      "Epoch 54/60\n",
      "30/30 [==============================] - 0s 3ms/step - loss: 0.5998 - accuracy: 0.7981 - val_loss: 0.7606 - val_accuracy: 0.7180\n",
      "Epoch 55/60\n",
      "30/30 [==============================] - 0s 3ms/step - loss: 0.5923 - accuracy: 0.8009 - val_loss: 0.7548 - val_accuracy: 0.7190\n",
      "Epoch 56/60\n",
      "30/30 [==============================] - 0s 3ms/step - loss: 0.5858 - accuracy: 0.7995 - val_loss: 0.7502 - val_accuracy: 0.7140\n",
      "Epoch 57/60\n",
      "30/30 [==============================] - 0s 3ms/step - loss: 0.5789 - accuracy: 0.8036 - val_loss: 0.7482 - val_accuracy: 0.7160\n",
      "Epoch 58/60\n",
      "30/30 [==============================] - 0s 3ms/step - loss: 0.5726 - accuracy: 0.8065 - val_loss: 0.7450 - val_accuracy: 0.7170\n"
     ]
    },
    {
     "name": "stdout",
     "output_type": "stream",
     "text": [
      "Epoch 59/60\n",
      "30/30 [==============================] - 0s 3ms/step - loss: 0.5658 - accuracy: 0.8065 - val_loss: 0.7409 - val_accuracy: 0.7210\n",
      "Epoch 60/60\n",
      "30/30 [==============================] - 0s 3ms/step - loss: 0.5598 - accuracy: 0.8109 - val_loss: 0.7390 - val_accuracy: 0.7230\n"
     ]
    }
   ],
   "source": [
    "final_model = model.fit(train_final,\n",
    "                    label_train_final,\n",
    "                    epochs=60,\n",
    "                    batch_size=256,\n",
    "                    validation_data=(val, label_val))"
   ]
  },
  {
   "cell_type": "markdown",
   "metadata": {},
   "source": [
    "Now, as we did before, get our results using `model.evaluate()` on the appropriate variables. "
   ]
  },
  {
   "cell_type": "code",
   "execution_count": 76,
   "metadata": {},
   "outputs": [
    {
     "name": "stdout",
     "output_type": "stream",
     "text": [
      "235/235 [==============================] - 0s 396us/step - loss: 0.5546 - accuracy: 0.8091\n"
     ]
    }
   ],
   "source": [
    "results_train = model.evaluate(train_final, label_train_final)"
   ]
  },
  {
   "cell_type": "code",
   "execution_count": 77,
   "metadata": {},
   "outputs": [
    {
     "name": "stdout",
     "output_type": "stream",
     "text": [
      "47/47 [==============================] - 0s 447us/step - loss: 0.7255 - accuracy: 0.7280\n"
     ]
    }
   ],
   "source": [
    "results_test = model.evaluate(test, label_test)"
   ]
  },
  {
   "cell_type": "code",
   "execution_count": 78,
   "metadata": {},
   "outputs": [
    {
     "data": {
      "text/plain": [
       "[0.5545515418052673, 0.809066653251648]"
      ]
     },
     "execution_count": 78,
     "metadata": {},
     "output_type": "execute_result"
    }
   ],
   "source": [
    "results_train  # Expected Output: [0.58606486314137773, 0.79826666669845581]"
   ]
  },
  {
   "cell_type": "code",
   "execution_count": 79,
   "metadata": {},
   "outputs": [
    {
     "data": {
      "text/plain": [
       "[0.7255316376686096, 0.7279999852180481]"
      ]
     },
     "execution_count": 79,
     "metadata": {},
     "output_type": "execute_result"
    }
   ],
   "source": [
    "results_test # [0.74768974288304646, 0.71333333365122475]"
   ]
  },
  {
   "cell_type": "markdown",
   "metadata": {},
   "source": [
    "We've significantly reduced the variance, so this is already pretty good! Our test set accuracy is slightly worse, but this model will definitely be more robust than the 120 epochs one we fitted before.\n",
    "\n",
    "Now, let's see what else we can do to improve the result!"
   ]
  },
  {
   "cell_type": "markdown",
   "metadata": {},
   "source": [
    "## 4. L2 regularization"
   ]
  },
  {
   "cell_type": "markdown",
   "metadata": {},
   "source": [
    "Let's include L2 regularization. You can easily do this in keras adding the argument `kernel_regulizers.l2` and adding a value for the regularization parameter lambda between parentheses.\n",
    "\n",
    "In the cell below: \n",
    "\n",
    "* Recreate the same model we did before.\n",
    "* In our two hidden layers (but not our output layer), add in the parameter `kernel_regularizer=regularizers.l2(0.005)` to add L2 regularization to each hidden layer.  \n",
    "* Compile the model with the same hyperparameters as we did before. \n",
    "* Fit the model with the same hyperparameters as we did before, but this time for `120` epochs.\n",
    "* Store the fitted model that the `.fit` call returns inside a variable called `L2_model`."
   ]
  },
  {
   "cell_type": "code",
   "execution_count": 80,
   "metadata": {},
   "outputs": [],
   "source": [
    "from keras import regularizers\n",
    "model = Sequential()\n",
    "model.add(Dense(50, activation='relu',kernel_regularizer=regularizers.l2(0.005), input_shape=(2000,))) #2 hidden layers\n",
    "model.add(Dense(25, kernel_regularizer=regularizers.l2(0.005), activation='relu'))\n",
    "model.add(Dense(7, activation='softmax'))"
   ]
  },
  {
   "cell_type": "code",
   "execution_count": 81,
   "metadata": {},
   "outputs": [],
   "source": [
    "model.compile(optimizer='SGD',\n",
    "              loss='categorical_crossentropy',\n",
    "              metrics=['accuracy'])"
   ]
  },
  {
   "cell_type": "code",
   "execution_count": 82,
   "metadata": {},
   "outputs": [
    {
     "name": "stdout",
     "output_type": "stream",
     "text": [
      "Epoch 1/120\n",
      "30/30 [==============================] - 0s 6ms/step - loss: 2.5921 - accuracy: 0.1537 - val_loss: 2.5737 - val_accuracy: 0.1790\n",
      "Epoch 2/120\n",
      "30/30 [==============================] - 0s 3ms/step - loss: 2.5535 - accuracy: 0.1999 - val_loss: 2.5434 - val_accuracy: 0.2140\n",
      "Epoch 3/120\n",
      "30/30 [==============================] - 0s 3ms/step - loss: 2.5209 - accuracy: 0.2233 - val_loss: 2.5132 - val_accuracy: 0.2240\n",
      "Epoch 4/120\n",
      "30/30 [==============================] - 0s 3ms/step - loss: 2.4861 - accuracy: 0.2425 - val_loss: 2.4806 - val_accuracy: 0.2490\n",
      "Epoch 5/120\n",
      "30/30 [==============================] - 0s 3ms/step - loss: 2.4468 - accuracy: 0.2709 - val_loss: 2.4432 - val_accuracy: 0.2650\n",
      "Epoch 6/120\n",
      "30/30 [==============================] - 0s 3ms/step - loss: 2.4038 - accuracy: 0.3095 - val_loss: 2.4023 - val_accuracy: 0.2930\n",
      "Epoch 7/120\n",
      "30/30 [==============================] - 0s 3ms/step - loss: 2.3572 - accuracy: 0.3477 - val_loss: 2.3586 - val_accuracy: 0.3300\n",
      "Epoch 8/120\n",
      "30/30 [==============================] - 0s 3ms/step - loss: 2.3078 - accuracy: 0.3852 - val_loss: 2.3131 - val_accuracy: 0.3750\n",
      "Epoch 9/120\n",
      "30/30 [==============================] - 0s 3ms/step - loss: 2.2566 - accuracy: 0.4211 - val_loss: 2.2649 - val_accuracy: 0.4010\n",
      "Epoch 10/120\n",
      "30/30 [==============================] - 0s 3ms/step - loss: 2.2046 - accuracy: 0.4595 - val_loss: 2.2168 - val_accuracy: 0.4270\n",
      "Epoch 11/120\n",
      "30/30 [==============================] - 0s 3ms/step - loss: 2.1515 - accuracy: 0.4839 - val_loss: 2.1675 - val_accuracy: 0.4470\n",
      "Epoch 12/120\n",
      "30/30 [==============================] - 0s 3ms/step - loss: 2.0986 - accuracy: 0.5132 - val_loss: 2.1188 - val_accuracy: 0.4730\n",
      "Epoch 13/120\n",
      "30/30 [==============================] - 0s 3ms/step - loss: 2.0454 - accuracy: 0.5412 - val_loss: 2.0698 - val_accuracy: 0.4960\n",
      "Epoch 14/120\n",
      "30/30 [==============================] - 0s 3ms/step - loss: 1.9931 - accuracy: 0.5616 - val_loss: 2.0224 - val_accuracy: 0.5230\n",
      "Epoch 15/120\n",
      "30/30 [==============================] - 0s 3ms/step - loss: 1.9420 - accuracy: 0.5916 - val_loss: 1.9767 - val_accuracy: 0.5290\n",
      "Epoch 16/120\n",
      "30/30 [==============================] - 0s 3ms/step - loss: 1.8934 - accuracy: 0.6075 - val_loss: 1.9318 - val_accuracy: 0.5540\n",
      "Epoch 17/120\n",
      "30/30 [==============================] - 0s 3ms/step - loss: 1.8468 - accuracy: 0.6268 - val_loss: 1.8928 - val_accuracy: 0.5790\n",
      "Epoch 18/120\n",
      "30/30 [==============================] - 0s 3ms/step - loss: 1.8034 - accuracy: 0.6441 - val_loss: 1.8519 - val_accuracy: 0.5950\n",
      "Epoch 19/120\n",
      "30/30 [==============================] - 0s 3ms/step - loss: 1.7610 - accuracy: 0.6620 - val_loss: 1.8145 - val_accuracy: 0.6050\n",
      "Epoch 20/120\n",
      "30/30 [==============================] - 0s 3ms/step - loss: 1.7215 - accuracy: 0.6729 - val_loss: 1.7804 - val_accuracy: 0.6130\n",
      "Epoch 21/120\n",
      "30/30 [==============================] - 0s 3ms/step - loss: 1.6840 - accuracy: 0.6813 - val_loss: 1.7471 - val_accuracy: 0.6250\n",
      "Epoch 22/120\n",
      "30/30 [==============================] - 0s 3ms/step - loss: 1.6488 - accuracy: 0.6923 - val_loss: 1.7181 - val_accuracy: 0.6340\n",
      "Epoch 23/120\n",
      "30/30 [==============================] - 0s 3ms/step - loss: 1.6156 - accuracy: 0.6988 - val_loss: 1.6881 - val_accuracy: 0.6440\n",
      "Epoch 24/120\n",
      "30/30 [==============================] - 0s 3ms/step - loss: 1.5842 - accuracy: 0.7037 - val_loss: 1.6617 - val_accuracy: 0.6530\n",
      "Epoch 25/120\n",
      "30/30 [==============================] - 0s 3ms/step - loss: 1.5547 - accuracy: 0.7136 - val_loss: 1.6352 - val_accuracy: 0.6610\n",
      "Epoch 26/120\n",
      "30/30 [==============================] - 0s 3ms/step - loss: 1.5270 - accuracy: 0.7171 - val_loss: 1.6121 - val_accuracy: 0.6600\n",
      "Epoch 27/120\n",
      "30/30 [==============================] - 0s 3ms/step - loss: 1.5006 - accuracy: 0.7257 - val_loss: 1.5904 - val_accuracy: 0.6710\n",
      "Epoch 28/120\n",
      "30/30 [==============================] - 0s 3ms/step - loss: 1.4762 - accuracy: 0.7269 - val_loss: 1.5699 - val_accuracy: 0.6750\n",
      "Epoch 29/120\n",
      "30/30 [==============================] - 0s 3ms/step - loss: 1.4530 - accuracy: 0.7332 - val_loss: 1.5503 - val_accuracy: 0.6670\n",
      "Epoch 30/120\n",
      "30/30 [==============================] - 0s 3ms/step - loss: 1.4315 - accuracy: 0.7353 - val_loss: 1.5327 - val_accuracy: 0.6830\n",
      "Epoch 31/120\n",
      "30/30 [==============================] - 0s 3ms/step - loss: 1.4109 - accuracy: 0.7407 - val_loss: 1.5138 - val_accuracy: 0.6850\n",
      "Epoch 32/120\n",
      "30/30 [==============================] - 0s 3ms/step - loss: 1.3915 - accuracy: 0.7488 - val_loss: 1.4991 - val_accuracy: 0.6860\n",
      "Epoch 33/120\n",
      "30/30 [==============================] - 0s 3ms/step - loss: 1.3729 - accuracy: 0.7465 - val_loss: 1.4834 - val_accuracy: 0.6910\n",
      "Epoch 34/120\n",
      "30/30 [==============================] - 0s 3ms/step - loss: 1.3557 - accuracy: 0.7523 - val_loss: 1.4691 - val_accuracy: 0.6920\n",
      "Epoch 35/120\n",
      "30/30 [==============================] - 0s 3ms/step - loss: 1.3392 - accuracy: 0.7567 - val_loss: 1.4560 - val_accuracy: 0.6930\n",
      "Epoch 36/120\n",
      "30/30 [==============================] - 0s 3ms/step - loss: 1.3235 - accuracy: 0.7613 - val_loss: 1.4459 - val_accuracy: 0.6930\n",
      "Epoch 37/120\n",
      "30/30 [==============================] - 0s 3ms/step - loss: 1.3091 - accuracy: 0.7619 - val_loss: 1.4321 - val_accuracy: 0.6960\n",
      "Epoch 38/120\n",
      "30/30 [==============================] - 0s 3ms/step - loss: 1.2952 - accuracy: 0.7644 - val_loss: 1.4219 - val_accuracy: 0.7040\n",
      "Epoch 39/120\n",
      "30/30 [==============================] - 0s 3ms/step - loss: 1.2813 - accuracy: 0.7701 - val_loss: 1.4120 - val_accuracy: 0.7020\n",
      "Epoch 40/120\n",
      "30/30 [==============================] - 0s 3ms/step - loss: 1.2690 - accuracy: 0.7717 - val_loss: 1.4004 - val_accuracy: 0.7010\n",
      "Epoch 41/120\n",
      "30/30 [==============================] - 0s 3ms/step - loss: 1.2569 - accuracy: 0.7757 - val_loss: 1.3955 - val_accuracy: 0.7030\n",
      "Epoch 42/120\n",
      "30/30 [==============================] - 0s 3ms/step - loss: 1.2456 - accuracy: 0.7793 - val_loss: 1.3845 - val_accuracy: 0.7130\n",
      "Epoch 43/120\n",
      "30/30 [==============================] - 0s 3ms/step - loss: 1.2342 - accuracy: 0.7789 - val_loss: 1.3752 - val_accuracy: 0.7090\n",
      "Epoch 44/120\n",
      "30/30 [==============================] - 0s 3ms/step - loss: 1.2234 - accuracy: 0.7833 - val_loss: 1.3657 - val_accuracy: 0.7090\n",
      "Epoch 45/120\n",
      "30/30 [==============================] - 0s 3ms/step - loss: 1.2135 - accuracy: 0.7876 - val_loss: 1.3591 - val_accuracy: 0.7110\n",
      "Epoch 46/120\n",
      "30/30 [==============================] - 0s 3ms/step - loss: 1.2033 - accuracy: 0.7900 - val_loss: 1.3536 - val_accuracy: 0.7150\n",
      "Epoch 47/120\n",
      "30/30 [==============================] - 0s 3ms/step - loss: 1.1942 - accuracy: 0.7915 - val_loss: 1.3448 - val_accuracy: 0.7160\n",
      "Epoch 48/120\n",
      "30/30 [==============================] - 0s 3ms/step - loss: 1.1849 - accuracy: 0.7903 - val_loss: 1.3377 - val_accuracy: 0.7170\n",
      "Epoch 49/120\n",
      "30/30 [==============================] - 0s 3ms/step - loss: 1.1758 - accuracy: 0.7935 - val_loss: 1.3334 - val_accuracy: 0.7190\n",
      "Epoch 50/120\n",
      "30/30 [==============================] - 0s 3ms/step - loss: 1.1672 - accuracy: 0.7972 - val_loss: 1.3260 - val_accuracy: 0.7220\n",
      "Epoch 51/120\n",
      "30/30 [==============================] - 0s 3ms/step - loss: 1.1590 - accuracy: 0.7969 - val_loss: 1.3194 - val_accuracy: 0.7210\n",
      "Epoch 52/120\n",
      "30/30 [==============================] - 0s 3ms/step - loss: 1.1505 - accuracy: 0.8009 - val_loss: 1.3129 - val_accuracy: 0.7250\n",
      "Epoch 53/120\n",
      "30/30 [==============================] - 0s 3ms/step - loss: 1.1429 - accuracy: 0.8037 - val_loss: 1.3080 - val_accuracy: 0.7220\n",
      "Epoch 54/120\n",
      "30/30 [==============================] - 0s 3ms/step - loss: 1.1353 - accuracy: 0.8033 - val_loss: 1.3044 - val_accuracy: 0.7200\n",
      "Epoch 55/120\n",
      "30/30 [==============================] - 0s 3ms/step - loss: 1.1275 - accuracy: 0.8040 - val_loss: 1.3025 - val_accuracy: 0.7310\n",
      "Epoch 56/120\n",
      "30/30 [==============================] - 0s 3ms/step - loss: 1.1208 - accuracy: 0.8081 - val_loss: 1.2947 - val_accuracy: 0.7260\n",
      "Epoch 57/120\n",
      "30/30 [==============================] - 0s 3ms/step - loss: 1.1132 - accuracy: 0.8088 - val_loss: 1.2874 - val_accuracy: 0.7250\n",
      "Epoch 58/120\n",
      "30/30 [==============================] - 0s 3ms/step - loss: 1.1059 - accuracy: 0.8117 - val_loss: 1.2847 - val_accuracy: 0.7220\n"
     ]
    },
    {
     "name": "stdout",
     "output_type": "stream",
     "text": [
      "Epoch 59/120\n",
      "30/30 [==============================] - 0s 3ms/step - loss: 1.0993 - accuracy: 0.8143 - val_loss: 1.2821 - val_accuracy: 0.7310\n",
      "Epoch 60/120\n",
      "30/30 [==============================] - 0s 3ms/step - loss: 1.0924 - accuracy: 0.8155 - val_loss: 1.2744 - val_accuracy: 0.7360\n",
      "Epoch 61/120\n",
      "30/30 [==============================] - 0s 3ms/step - loss: 1.0862 - accuracy: 0.8165 - val_loss: 1.2700 - val_accuracy: 0.7330\n",
      "Epoch 62/120\n",
      "30/30 [==============================] - 0s 3ms/step - loss: 1.0793 - accuracy: 0.8197 - val_loss: 1.2660 - val_accuracy: 0.7360\n",
      "Epoch 63/120\n",
      "30/30 [==============================] - 0s 3ms/step - loss: 1.0730 - accuracy: 0.8201 - val_loss: 1.2640 - val_accuracy: 0.7400\n",
      "Epoch 64/120\n",
      "30/30 [==============================] - 0s 3ms/step - loss: 1.0672 - accuracy: 0.8227 - val_loss: 1.2590 - val_accuracy: 0.7410\n",
      "Epoch 65/120\n",
      "30/30 [==============================] - 0s 3ms/step - loss: 1.0607 - accuracy: 0.8263 - val_loss: 1.2542 - val_accuracy: 0.7410\n",
      "Epoch 66/120\n",
      "30/30 [==============================] - 0s 3ms/step - loss: 1.0548 - accuracy: 0.8247 - val_loss: 1.2524 - val_accuracy: 0.7390\n",
      "Epoch 67/120\n",
      "30/30 [==============================] - 0s 3ms/step - loss: 1.0488 - accuracy: 0.8273 - val_loss: 1.2460 - val_accuracy: 0.7420\n",
      "Epoch 68/120\n",
      "30/30 [==============================] - 0s 3ms/step - loss: 1.0431 - accuracy: 0.8289 - val_loss: 1.2456 - val_accuracy: 0.7430\n",
      "Epoch 69/120\n",
      "30/30 [==============================] - 0s 3ms/step - loss: 1.0376 - accuracy: 0.8283 - val_loss: 1.2408 - val_accuracy: 0.7420\n",
      "Epoch 70/120\n",
      "30/30 [==============================] - 0s 3ms/step - loss: 1.0318 - accuracy: 0.8329 - val_loss: 1.2368 - val_accuracy: 0.7450\n",
      "Epoch 71/120\n",
      "30/30 [==============================] - 0s 3ms/step - loss: 1.0262 - accuracy: 0.8319 - val_loss: 1.2324 - val_accuracy: 0.7460\n",
      "Epoch 72/120\n",
      "30/30 [==============================] - 0s 3ms/step - loss: 1.0211 - accuracy: 0.8345 - val_loss: 1.2294 - val_accuracy: 0.7540\n",
      "Epoch 73/120\n",
      "30/30 [==============================] - 0s 3ms/step - loss: 1.0155 - accuracy: 0.8383 - val_loss: 1.2276 - val_accuracy: 0.7480\n",
      "Epoch 74/120\n",
      "30/30 [==============================] - 0s 3ms/step - loss: 1.0102 - accuracy: 0.8361 - val_loss: 1.2245 - val_accuracy: 0.7510\n",
      "Epoch 75/120\n",
      "30/30 [==============================] - 0s 3ms/step - loss: 1.0051 - accuracy: 0.8385 - val_loss: 1.2209 - val_accuracy: 0.7530\n",
      "Epoch 76/120\n",
      "30/30 [==============================] - 0s 3ms/step - loss: 0.9999 - accuracy: 0.8401 - val_loss: 1.2177 - val_accuracy: 0.7510\n",
      "Epoch 77/120\n",
      "30/30 [==============================] - 0s 3ms/step - loss: 0.9947 - accuracy: 0.8417 - val_loss: 1.2165 - val_accuracy: 0.7510\n",
      "Epoch 78/120\n",
      "30/30 [==============================] - 0s 3ms/step - loss: 0.9899 - accuracy: 0.8428 - val_loss: 1.2132 - val_accuracy: 0.7520\n",
      "Epoch 79/120\n",
      "30/30 [==============================] - 0s 3ms/step - loss: 0.9848 - accuracy: 0.8433 - val_loss: 1.2077 - val_accuracy: 0.7500\n",
      "Epoch 80/120\n",
      "30/30 [==============================] - 0s 3ms/step - loss: 0.9802 - accuracy: 0.8467 - val_loss: 1.2066 - val_accuracy: 0.7530\n",
      "Epoch 81/120\n",
      "30/30 [==============================] - 0s 3ms/step - loss: 0.9754 - accuracy: 0.8452 - val_loss: 1.2047 - val_accuracy: 0.7540\n",
      "Epoch 82/120\n",
      "30/30 [==============================] - 0s 3ms/step - loss: 0.9711 - accuracy: 0.8467 - val_loss: 1.2000 - val_accuracy: 0.7520\n",
      "Epoch 83/120\n",
      "30/30 [==============================] - 0s 3ms/step - loss: 0.9659 - accuracy: 0.8497 - val_loss: 1.1984 - val_accuracy: 0.7560\n",
      "Epoch 84/120\n",
      "30/30 [==============================] - 0s 3ms/step - loss: 0.9611 - accuracy: 0.8487 - val_loss: 1.1955 - val_accuracy: 0.7550\n",
      "Epoch 85/120\n",
      "30/30 [==============================] - 0s 3ms/step - loss: 0.9563 - accuracy: 0.8516 - val_loss: 1.1927 - val_accuracy: 0.7550\n",
      "Epoch 86/120\n",
      "30/30 [==============================] - 0s 3ms/step - loss: 0.9520 - accuracy: 0.8527 - val_loss: 1.1916 - val_accuracy: 0.7550\n",
      "Epoch 87/120\n",
      "30/30 [==============================] - 0s 3ms/step - loss: 0.9475 - accuracy: 0.8528 - val_loss: 1.1913 - val_accuracy: 0.7500\n",
      "Epoch 88/120\n",
      "30/30 [==============================] - 0s 3ms/step - loss: 0.9431 - accuracy: 0.8568 - val_loss: 1.1862 - val_accuracy: 0.7530\n",
      "Epoch 89/120\n",
      "30/30 [==============================] - 0s 3ms/step - loss: 0.9387 - accuracy: 0.8568 - val_loss: 1.1861 - val_accuracy: 0.7590\n",
      "Epoch 90/120\n",
      "30/30 [==============================] - 0s 3ms/step - loss: 0.9341 - accuracy: 0.8573 - val_loss: 1.1803 - val_accuracy: 0.7520\n",
      "Epoch 91/120\n",
      "30/30 [==============================] - 0s 3ms/step - loss: 0.9296 - accuracy: 0.8607 - val_loss: 1.1781 - val_accuracy: 0.7610\n",
      "Epoch 92/120\n",
      "30/30 [==============================] - 0s 3ms/step - loss: 0.9257 - accuracy: 0.8589 - val_loss: 1.1781 - val_accuracy: 0.7540\n",
      "Epoch 93/120\n",
      "30/30 [==============================] - 0s 3ms/step - loss: 0.9214 - accuracy: 0.8611 - val_loss: 1.1726 - val_accuracy: 0.7540\n",
      "Epoch 94/120\n",
      "30/30 [==============================] - 0s 3ms/step - loss: 0.9169 - accuracy: 0.8625 - val_loss: 1.1707 - val_accuracy: 0.7530\n",
      "Epoch 95/120\n",
      "30/30 [==============================] - 0s 3ms/step - loss: 0.9131 - accuracy: 0.8628 - val_loss: 1.1689 - val_accuracy: 0.7560\n",
      "Epoch 96/120\n",
      "30/30 [==============================] - 0s 3ms/step - loss: 0.9089 - accuracy: 0.8623 - val_loss: 1.1659 - val_accuracy: 0.7570\n",
      "Epoch 97/120\n",
      "30/30 [==============================] - 0s 3ms/step - loss: 0.9049 - accuracy: 0.8637 - val_loss: 1.1643 - val_accuracy: 0.7610\n",
      "Epoch 98/120\n",
      "30/30 [==============================] - 0s 3ms/step - loss: 0.9012 - accuracy: 0.8656 - val_loss: 1.1634 - val_accuracy: 0.7560\n",
      "Epoch 99/120\n",
      "30/30 [==============================] - 0s 3ms/step - loss: 0.8969 - accuracy: 0.8671 - val_loss: 1.1612 - val_accuracy: 0.7580\n",
      "Epoch 100/120\n",
      "30/30 [==============================] - 0s 3ms/step - loss: 0.8928 - accuracy: 0.8661 - val_loss: 1.1602 - val_accuracy: 0.7500\n",
      "Epoch 101/120\n",
      "30/30 [==============================] - 0s 3ms/step - loss: 0.8894 - accuracy: 0.8687 - val_loss: 1.1559 - val_accuracy: 0.7600\n",
      "Epoch 102/120\n",
      "30/30 [==============================] - 0s 3ms/step - loss: 0.8853 - accuracy: 0.8699 - val_loss: 1.1545 - val_accuracy: 0.7560\n",
      "Epoch 103/120\n",
      "30/30 [==============================] - 0s 3ms/step - loss: 0.8816 - accuracy: 0.8703 - val_loss: 1.1524 - val_accuracy: 0.7540\n",
      "Epoch 104/120\n",
      "30/30 [==============================] - 0s 3ms/step - loss: 0.8774 - accuracy: 0.8725 - val_loss: 1.1508 - val_accuracy: 0.7580\n",
      "Epoch 105/120\n",
      "30/30 [==============================] - 0s 3ms/step - loss: 0.8738 - accuracy: 0.8752 - val_loss: 1.1470 - val_accuracy: 0.7610\n",
      "Epoch 106/120\n",
      "30/30 [==============================] - 0s 3ms/step - loss: 0.8700 - accuracy: 0.8749 - val_loss: 1.1477 - val_accuracy: 0.7600\n",
      "Epoch 107/120\n",
      "30/30 [==============================] - 0s 3ms/step - loss: 0.8663 - accuracy: 0.8739 - val_loss: 1.1451 - val_accuracy: 0.7560\n",
      "Epoch 108/120\n",
      "30/30 [==============================] - 0s 3ms/step - loss: 0.8630 - accuracy: 0.8744 - val_loss: 1.1448 - val_accuracy: 0.7610\n",
      "Epoch 109/120\n",
      "30/30 [==============================] - 0s 3ms/step - loss: 0.8591 - accuracy: 0.8777 - val_loss: 1.1422 - val_accuracy: 0.7570\n",
      "Epoch 110/120\n",
      "30/30 [==============================] - 0s 3ms/step - loss: 0.8558 - accuracy: 0.8791 - val_loss: 1.1387 - val_accuracy: 0.7550\n",
      "Epoch 111/120\n",
      "30/30 [==============================] - 0s 3ms/step - loss: 0.8517 - accuracy: 0.8797 - val_loss: 1.1366 - val_accuracy: 0.7560\n",
      "Epoch 112/120\n",
      "30/30 [==============================] - 0s 3ms/step - loss: 0.8482 - accuracy: 0.8800 - val_loss: 1.1351 - val_accuracy: 0.7590\n",
      "Epoch 113/120\n",
      "30/30 [==============================] - 0s 3ms/step - loss: 0.8446 - accuracy: 0.8811 - val_loss: 1.1360 - val_accuracy: 0.7580\n",
      "Epoch 114/120\n",
      "30/30 [==============================] - 0s 3ms/step - loss: 0.8417 - accuracy: 0.8795 - val_loss: 1.1324 - val_accuracy: 0.7560\n",
      "Epoch 115/120\n",
      "30/30 [==============================] - 0s 3ms/step - loss: 0.8378 - accuracy: 0.8813 - val_loss: 1.1301 - val_accuracy: 0.7580\n",
      "Epoch 116/120\n"
     ]
    },
    {
     "name": "stdout",
     "output_type": "stream",
     "text": [
      "30/30 [==============================] - 0s 3ms/step - loss: 0.8343 - accuracy: 0.8817 - val_loss: 1.1292 - val_accuracy: 0.7640\n",
      "Epoch 117/120\n",
      "30/30 [==============================] - 0s 3ms/step - loss: 0.8314 - accuracy: 0.8848 - val_loss: 1.1268 - val_accuracy: 0.7620\n",
      "Epoch 118/120\n",
      "30/30 [==============================] - 0s 3ms/step - loss: 0.8277 - accuracy: 0.8851 - val_loss: 1.1261 - val_accuracy: 0.7600\n",
      "Epoch 119/120\n",
      "30/30 [==============================] - 0s 3ms/step - loss: 0.8242 - accuracy: 0.8849 - val_loss: 1.1240 - val_accuracy: 0.7580\n",
      "Epoch 120/120\n",
      "30/30 [==============================] - 0s 3ms/step - loss: 0.8212 - accuracy: 0.8871 - val_loss: 1.1228 - val_accuracy: 0.7600\n"
     ]
    }
   ],
   "source": [
    "L2_model = model.fit(train_final,\n",
    "                    label_train_final,\n",
    "                    epochs=120,\n",
    "                    batch_size=256,\n",
    "                    validation_data=(val, label_val))"
   ]
  },
  {
   "cell_type": "markdown",
   "metadata": {},
   "source": [
    "Now, let's see how regularization has affected our model results.  \n",
    "\n",
    "Run the cell below to get the model's `.history`."
   ]
  },
  {
   "cell_type": "code",
   "execution_count": 83,
   "metadata": {},
   "outputs": [
    {
     "data": {
      "text/plain": [
       "dict_keys(['loss', 'accuracy', 'val_loss', 'val_accuracy'])"
      ]
     },
     "execution_count": 83,
     "metadata": {},
     "output_type": "execute_result"
    }
   ],
   "source": [
    "L2_model_dict = L2_model.history\n",
    "L2_model_dict.keys()"
   ]
  },
  {
   "cell_type": "markdown",
   "metadata": {},
   "source": [
    "Let's look at the training accuracy as well as the validation accuracy for both the L2 and the model without regularization (for 120 epochs).\n",
    "\n",
    "Run the cell below to visualize our training and validation accuracy both with and without L2 regularization, so that we can compare them directly."
   ]
  },
  {
   "cell_type": "code",
   "execution_count": 84,
   "metadata": {},
   "outputs": [
    {
     "ename": "KeyError",
     "evalue": "'acc'",
     "output_type": "error",
     "traceback": [
      "\u001b[1;31m---------------------------------------------------------------------------\u001b[0m",
      "\u001b[1;31mKeyError\u001b[0m                                  Traceback (most recent call last)",
      "\u001b[1;32m<ipython-input-84-3a3d5a567663>\u001b[0m in \u001b[0;36m<module>\u001b[1;34m\u001b[0m\n\u001b[0;32m      1\u001b[0m \u001b[0mplt\u001b[0m\u001b[1;33m.\u001b[0m\u001b[0mclf\u001b[0m\u001b[1;33m(\u001b[0m\u001b[1;33m)\u001b[0m\u001b[1;33m\u001b[0m\u001b[1;33m\u001b[0m\u001b[0m\n\u001b[0;32m      2\u001b[0m \u001b[1;33m\u001b[0m\u001b[0m\n\u001b[1;32m----> 3\u001b[1;33m \u001b[0macc_values\u001b[0m \u001b[1;33m=\u001b[0m \u001b[0mL2_model_dict\u001b[0m\u001b[1;33m[\u001b[0m\u001b[1;34m'acc'\u001b[0m\u001b[1;33m]\u001b[0m\u001b[1;33m\u001b[0m\u001b[1;33m\u001b[0m\u001b[0m\n\u001b[0m\u001b[0;32m      4\u001b[0m \u001b[0mval_acc_values\u001b[0m \u001b[1;33m=\u001b[0m \u001b[0mL2_model_dict\u001b[0m\u001b[1;33m[\u001b[0m\u001b[1;34m'val_acc'\u001b[0m\u001b[1;33m]\u001b[0m\u001b[1;33m\u001b[0m\u001b[1;33m\u001b[0m\u001b[0m\n\u001b[0;32m      5\u001b[0m \u001b[0mmodel_acc\u001b[0m \u001b[1;33m=\u001b[0m \u001b[0mmodel_val_dict\u001b[0m\u001b[1;33m[\u001b[0m\u001b[1;34m'acc'\u001b[0m\u001b[1;33m]\u001b[0m\u001b[1;33m\u001b[0m\u001b[1;33m\u001b[0m\u001b[0m\n",
      "\u001b[1;31mKeyError\u001b[0m: 'acc'"
     ]
    },
    {
     "data": {
      "text/plain": [
       "<Figure size 432x288 with 0 Axes>"
      ]
     },
     "metadata": {},
     "output_type": "display_data"
    }
   ],
   "source": [
    "plt.clf()\n",
    "\n",
    "acc_values = L2_model_dict['acc'] \n",
    "val_acc_values = L2_model_dict['val_acc']\n",
    "model_acc = model_val_dict['acc']\n",
    "model_val_acc = model_val_dict['val_acc']\n",
    "\n",
    "epochs = range(1, len(acc_values) + 1)\n",
    "plt.plot(epochs, acc_values, 'g', label='Training acc L2')\n",
    "plt.plot(epochs, val_acc_values, 'g', label='Validation acc L2')\n",
    "plt.plot(epochs, model_acc, 'r', label='Training acc')\n",
    "plt.plot(epochs, model_val_acc, 'r', label='Validation acc')\n",
    "plt.title('Training & validation accuracy L2 vs regular')\n",
    "plt.xlabel('Epochs')\n",
    "plt.ylabel('Loss')\n",
    "plt.legend()\n",
    "plt.show()"
   ]
  },
  {
   "cell_type": "markdown",
   "metadata": {},
   "source": [
    "The results of L2 regularization are quite disappointing here. We notice the discrepancy between validation and training accuracy seems to have decreased slightly, but the end result is definitely not getting better. "
   ]
  },
  {
   "cell_type": "markdown",
   "metadata": {},
   "source": [
    "## 5.  L1 regularization"
   ]
  },
  {
   "cell_type": "markdown",
   "metadata": {},
   "source": [
    "Let's have a look at L1 regularization. Will this work better?\n",
    "\n",
    "In the cell below: \n",
    "\n",
    "* Recreate the same model we did above, but this time, set the `kernel_regularizer` to `regularizers.l1(0.005)` inside both hidden layers. \n",
    "* Compile and fit the model exactly as we did for our L2 Regularization experiment (`120` epochs) \n",
    "* Store the fitted model that the `.fit` call returns inside a variable called `L1_model`."
   ]
  },
  {
   "cell_type": "code",
   "execution_count": 85,
   "metadata": {},
   "outputs": [],
   "source": [
    "model = Sequential()\n",
    "model.add(Dense(50, activation='relu',kernel_regularizer=regularizers.l1(0.005), input_shape=(2000,))) #2 hidden layers\n",
    "model.add(Dense(25, kernel_regularizer=regularizers.l1(0.005), activation='relu'))\n",
    "model.add(Dense(7, activation='softmax'))"
   ]
  },
  {
   "cell_type": "code",
   "execution_count": 86,
   "metadata": {},
   "outputs": [],
   "source": [
    "model.compile(optimizer='SGD',\n",
    "              loss='categorical_crossentropy',\n",
    "              metrics=['accuracy'])"
   ]
  },
  {
   "cell_type": "code",
   "execution_count": 87,
   "metadata": {},
   "outputs": [
    {
     "name": "stdout",
     "output_type": "stream",
     "text": [
      "Epoch 1/120\n",
      "30/30 [==============================] - 0s 7ms/step - loss: 16.0706 - accuracy: 0.1401 - val_loss: 15.6554 - val_accuracy: 0.1530\n",
      "Epoch 2/120\n",
      "30/30 [==============================] - 0s 3ms/step - loss: 15.2983 - accuracy: 0.1833 - val_loss: 14.9056 - val_accuracy: 0.1980\n",
      "Epoch 3/120\n",
      "30/30 [==============================] - 0s 4ms/step - loss: 14.5606 - accuracy: 0.2164 - val_loss: 14.1841 - val_accuracy: 0.2330\n",
      "Epoch 4/120\n",
      "30/30 [==============================] - 0s 3ms/step - loss: 13.8480 - accuracy: 0.2437 - val_loss: 13.4844 - val_accuracy: 0.2540\n",
      "Epoch 5/120\n",
      "30/30 [==============================] - 0s 3ms/step - loss: 13.1566 - accuracy: 0.2584 - val_loss: 12.8045 - val_accuracy: 0.2720\n",
      "Epoch 6/120\n",
      "30/30 [==============================] - 0s 3ms/step - loss: 12.4844 - accuracy: 0.2797 - val_loss: 12.1430 - val_accuracy: 0.2840\n",
      "Epoch 7/120\n",
      "30/30 [==============================] - 0s 3ms/step - loss: 11.8298 - accuracy: 0.2992 - val_loss: 11.4992 - val_accuracy: 0.3080\n",
      "Epoch 8/120\n",
      "30/30 [==============================] - 0s 3ms/step - loss: 11.1930 - accuracy: 0.3279 - val_loss: 10.8747 - val_accuracy: 0.3310\n",
      "Epoch 9/120\n",
      "30/30 [==============================] - 0s 3ms/step - loss: 10.5748 - accuracy: 0.3589 - val_loss: 10.2689 - val_accuracy: 0.3440\n",
      "Epoch 10/120\n",
      "30/30 [==============================] - 0s 3ms/step - loss: 9.9750 - accuracy: 0.3933 - val_loss: 9.6819 - val_accuracy: 0.3610\n",
      "Epoch 11/120\n",
      "30/30 [==============================] - 0s 3ms/step - loss: 9.3941 - accuracy: 0.4148 - val_loss: 9.1139 - val_accuracy: 0.3920\n",
      "Epoch 12/120\n",
      "30/30 [==============================] - 0s 3ms/step - loss: 8.8320 - accuracy: 0.4496 - val_loss: 8.5652 - val_accuracy: 0.4130\n",
      "Epoch 13/120\n",
      "30/30 [==============================] - 0s 3ms/step - loss: 8.2897 - accuracy: 0.4724 - val_loss: 8.0357 - val_accuracy: 0.4380\n",
      "Epoch 14/120\n",
      "30/30 [==============================] - 0s 4ms/step - loss: 7.7674 - accuracy: 0.5039 - val_loss: 7.5269 - val_accuracy: 0.4820\n",
      "Epoch 15/120\n",
      "30/30 [==============================] - 0s 3ms/step - loss: 7.2662 - accuracy: 0.5280 - val_loss: 7.0402 - val_accuracy: 0.5090\n",
      "Epoch 16/120\n",
      "30/30 [==============================] - 0s 3ms/step - loss: 6.7867 - accuracy: 0.5553 - val_loss: 6.5739 - val_accuracy: 0.5290\n",
      "Epoch 17/120\n",
      "30/30 [==============================] - 0s 3ms/step - loss: 6.3299 - accuracy: 0.5837 - val_loss: 6.1319 - val_accuracy: 0.5490\n",
      "Epoch 18/120\n",
      "30/30 [==============================] - 0s 3ms/step - loss: 5.8967 - accuracy: 0.6012 - val_loss: 5.7143 - val_accuracy: 0.5740\n",
      "Epoch 19/120\n",
      "30/30 [==============================] - 0s 3ms/step - loss: 5.4882 - accuracy: 0.6245 - val_loss: 5.3199 - val_accuracy: 0.5880\n",
      "Epoch 20/120\n",
      "30/30 [==============================] - 0s 3ms/step - loss: 5.1033 - accuracy: 0.6417 - val_loss: 4.9494 - val_accuracy: 0.6130\n",
      "Epoch 21/120\n",
      "30/30 [==============================] - 0s 3ms/step - loss: 4.7429 - accuracy: 0.6605 - val_loss: 4.6034 - val_accuracy: 0.6160\n",
      "Epoch 22/120\n",
      "30/30 [==============================] - 0s 3ms/step - loss: 4.4065 - accuracy: 0.6681 - val_loss: 4.2816 - val_accuracy: 0.6300\n",
      "Epoch 23/120\n",
      "30/30 [==============================] - 0s 3ms/step - loss: 4.0939 - accuracy: 0.6769 - val_loss: 3.9844 - val_accuracy: 0.6440\n",
      "Epoch 24/120\n",
      "30/30 [==============================] - 0s 3ms/step - loss: 3.8053 - accuracy: 0.6845 - val_loss: 3.7089 - val_accuracy: 0.6420\n",
      "Epoch 25/120\n",
      "30/30 [==============================] - 0s 3ms/step - loss: 3.5393 - accuracy: 0.6897 - val_loss: 3.4554 - val_accuracy: 0.6500\n",
      "Epoch 26/120\n",
      "30/30 [==============================] - 0s 3ms/step - loss: 3.2958 - accuracy: 0.6921 - val_loss: 3.2258 - val_accuracy: 0.6570\n",
      "Epoch 27/120\n",
      "30/30 [==============================] - 0s 3ms/step - loss: 3.0754 - accuracy: 0.6937 - val_loss: 3.0157 - val_accuracy: 0.6600\n",
      "Epoch 28/120\n",
      "30/30 [==============================] - 0s 3ms/step - loss: 2.8763 - accuracy: 0.6953 - val_loss: 2.8302 - val_accuracy: 0.6600\n",
      "Epoch 29/120\n",
      "30/30 [==============================] - 0s 3ms/step - loss: 2.6995 - accuracy: 0.6979 - val_loss: 2.6651 - val_accuracy: 0.6650\n",
      "Epoch 30/120\n",
      "30/30 [==============================] - 0s 3ms/step - loss: 2.5445 - accuracy: 0.7013 - val_loss: 2.5203 - val_accuracy: 0.6640\n",
      "Epoch 31/120\n",
      "30/30 [==============================] - 0s 3ms/step - loss: 2.4096 - accuracy: 0.7025 - val_loss: 2.3995 - val_accuracy: 0.6620\n",
      "Epoch 32/120\n",
      "30/30 [==============================] - 0s 3ms/step - loss: 2.2959 - accuracy: 0.6992 - val_loss: 2.2914 - val_accuracy: 0.6630\n",
      "Epoch 33/120\n",
      "30/30 [==============================] - 0s 3ms/step - loss: 2.2008 - accuracy: 0.7013 - val_loss: 2.2071 - val_accuracy: 0.6580\n",
      "Epoch 34/120\n",
      "30/30 [==============================] - 0s 3ms/step - loss: 2.1244 - accuracy: 0.7040 - val_loss: 2.1381 - val_accuracy: 0.6710\n",
      "Epoch 35/120\n",
      "30/30 [==============================] - 0s 3ms/step - loss: 2.0656 - accuracy: 0.7005 - val_loss: 2.0885 - val_accuracy: 0.6630\n",
      "Epoch 36/120\n",
      "30/30 [==============================] - 0s 3ms/step - loss: 2.0219 - accuracy: 0.7016 - val_loss: 2.0503 - val_accuracy: 0.6660\n",
      "Epoch 37/120\n",
      "30/30 [==============================] - 0s 3ms/step - loss: 1.9891 - accuracy: 0.7013 - val_loss: 2.0274 - val_accuracy: 0.6640\n",
      "Epoch 38/120\n",
      "30/30 [==============================] - 0s 3ms/step - loss: 1.9632 - accuracy: 0.7013 - val_loss: 1.9976 - val_accuracy: 0.6720\n",
      "Epoch 39/120\n",
      "30/30 [==============================] - 0s 3ms/step - loss: 1.9410 - accuracy: 0.7029 - val_loss: 1.9793 - val_accuracy: 0.6690\n",
      "Epoch 40/120\n",
      "30/30 [==============================] - 0s 3ms/step - loss: 1.9210 - accuracy: 0.7048 - val_loss: 1.9586 - val_accuracy: 0.6710\n",
      "Epoch 41/120\n",
      "30/30 [==============================] - 0s 3ms/step - loss: 1.9026 - accuracy: 0.7063 - val_loss: 1.9414 - val_accuracy: 0.6700\n",
      "Epoch 42/120\n",
      "30/30 [==============================] - 0s 3ms/step - loss: 1.8850 - accuracy: 0.7053 - val_loss: 1.9297 - val_accuracy: 0.6740\n",
      "Epoch 43/120\n",
      "30/30 [==============================] - 0s 3ms/step - loss: 1.8692 - accuracy: 0.7048 - val_loss: 1.9080 - val_accuracy: 0.6670\n",
      "Epoch 44/120\n",
      "30/30 [==============================] - 0s 3ms/step - loss: 1.8537 - accuracy: 0.7061 - val_loss: 1.8921 - val_accuracy: 0.6700\n",
      "Epoch 45/120\n",
      "30/30 [==============================] - 0s 3ms/step - loss: 1.8389 - accuracy: 0.7061 - val_loss: 1.8811 - val_accuracy: 0.6750\n",
      "Epoch 46/120\n",
      "30/30 [==============================] - 0s 3ms/step - loss: 1.8250 - accuracy: 0.7068 - val_loss: 1.8665 - val_accuracy: 0.6700\n",
      "Epoch 47/120\n",
      "30/30 [==============================] - 0s 3ms/step - loss: 1.8114 - accuracy: 0.7091 - val_loss: 1.8567 - val_accuracy: 0.6760\n",
      "Epoch 48/120\n",
      "30/30 [==============================] - 0s 3ms/step - loss: 1.7986 - accuracy: 0.7084 - val_loss: 1.8407 - val_accuracy: 0.6740\n",
      "Epoch 49/120\n",
      "30/30 [==============================] - 0s 3ms/step - loss: 1.7862 - accuracy: 0.7093 - val_loss: 1.8303 - val_accuracy: 0.6760\n",
      "Epoch 50/120\n",
      "30/30 [==============================] - 0s 3ms/step - loss: 1.7739 - accuracy: 0.7103 - val_loss: 1.8150 - val_accuracy: 0.6750\n",
      "Epoch 51/120\n",
      "30/30 [==============================] - 0s 3ms/step - loss: 1.7623 - accuracy: 0.7100 - val_loss: 1.8044 - val_accuracy: 0.6710\n",
      "Epoch 52/120\n",
      "30/30 [==============================] - 0s 3ms/step - loss: 1.7511 - accuracy: 0.7107 - val_loss: 1.7945 - val_accuracy: 0.6810\n",
      "Epoch 53/120\n",
      "30/30 [==============================] - 0s 3ms/step - loss: 1.7399 - accuracy: 0.7121 - val_loss: 1.7825 - val_accuracy: 0.6780\n",
      "Epoch 54/120\n",
      "30/30 [==============================] - 0s 3ms/step - loss: 1.7291 - accuracy: 0.7113 - val_loss: 1.7715 - val_accuracy: 0.6730\n",
      "Epoch 55/120\n",
      "30/30 [==============================] - 0s 3ms/step - loss: 1.7183 - accuracy: 0.7133 - val_loss: 1.7640 - val_accuracy: 0.6800\n",
      "Epoch 56/120\n",
      "30/30 [==============================] - 0s 3ms/step - loss: 1.7083 - accuracy: 0.7145 - val_loss: 1.7537 - val_accuracy: 0.6750\n",
      "Epoch 57/120\n",
      "30/30 [==============================] - 0s 3ms/step - loss: 1.6987 - accuracy: 0.7128 - val_loss: 1.7434 - val_accuracy: 0.6790\n",
      "Epoch 58/120\n"
     ]
    },
    {
     "name": "stdout",
     "output_type": "stream",
     "text": [
      "30/30 [==============================] - 0s 3ms/step - loss: 1.6884 - accuracy: 0.7141 - val_loss: 1.7334 - val_accuracy: 0.6770\n",
      "Epoch 59/120\n",
      "30/30 [==============================] - 0s 3ms/step - loss: 1.6792 - accuracy: 0.7149 - val_loss: 1.7237 - val_accuracy: 0.6810\n",
      "Epoch 60/120\n",
      "30/30 [==============================] - 0s 3ms/step - loss: 1.6698 - accuracy: 0.7152 - val_loss: 1.7192 - val_accuracy: 0.6800\n",
      "Epoch 61/120\n",
      "30/30 [==============================] - 0s 3ms/step - loss: 1.6609 - accuracy: 0.7141 - val_loss: 1.7057 - val_accuracy: 0.6800\n",
      "Epoch 62/120\n",
      "30/30 [==============================] - 0s 3ms/step - loss: 1.6518 - accuracy: 0.7171 - val_loss: 1.6958 - val_accuracy: 0.6810\n",
      "Epoch 63/120\n",
      "30/30 [==============================] - 0s 3ms/step - loss: 1.6431 - accuracy: 0.7175 - val_loss: 1.6877 - val_accuracy: 0.6840\n",
      "Epoch 64/120\n",
      "30/30 [==============================] - 0s 3ms/step - loss: 1.6343 - accuracy: 0.7175 - val_loss: 1.6811 - val_accuracy: 0.6860\n",
      "Epoch 65/120\n",
      "30/30 [==============================] - 0s 3ms/step - loss: 1.6262 - accuracy: 0.7177 - val_loss: 1.6717 - val_accuracy: 0.6880\n",
      "Epoch 66/120\n",
      "30/30 [==============================] - 0s 3ms/step - loss: 1.6171 - accuracy: 0.7176 - val_loss: 1.6633 - val_accuracy: 0.6910\n",
      "Epoch 67/120\n",
      "30/30 [==============================] - 0s 3ms/step - loss: 1.6095 - accuracy: 0.7187 - val_loss: 1.6592 - val_accuracy: 0.6910\n",
      "Epoch 68/120\n",
      "30/30 [==============================] - 0s 3ms/step - loss: 1.6016 - accuracy: 0.7196 - val_loss: 1.6472 - val_accuracy: 0.6930\n",
      "Epoch 69/120\n",
      "30/30 [==============================] - 0s 3ms/step - loss: 1.5937 - accuracy: 0.7195 - val_loss: 1.6405 - val_accuracy: 0.6900\n",
      "Epoch 70/120\n",
      "30/30 [==============================] - 0s 3ms/step - loss: 1.5856 - accuracy: 0.7203 - val_loss: 1.6334 - val_accuracy: 0.6900\n",
      "Epoch 71/120\n",
      "30/30 [==============================] - 0s 3ms/step - loss: 1.5783 - accuracy: 0.7200 - val_loss: 1.6263 - val_accuracy: 0.6930\n",
      "Epoch 72/120\n",
      "30/30 [==============================] - 0s 3ms/step - loss: 1.5710 - accuracy: 0.7200 - val_loss: 1.6190 - val_accuracy: 0.6950\n",
      "Epoch 73/120\n",
      "30/30 [==============================] - 0s 3ms/step - loss: 1.5635 - accuracy: 0.7216 - val_loss: 1.6110 - val_accuracy: 0.6950\n",
      "Epoch 74/120\n",
      "30/30 [==============================] - 0s 3ms/step - loss: 1.5566 - accuracy: 0.7228 - val_loss: 1.6053 - val_accuracy: 0.6890\n",
      "Epoch 75/120\n",
      "30/30 [==============================] - 0s 3ms/step - loss: 1.5493 - accuracy: 0.7221 - val_loss: 1.6002 - val_accuracy: 0.6960\n",
      "Epoch 76/120\n",
      "30/30 [==============================] - 0s 3ms/step - loss: 1.5425 - accuracy: 0.7237 - val_loss: 1.5907 - val_accuracy: 0.6930\n",
      "Epoch 77/120\n",
      "30/30 [==============================] - 0s 3ms/step - loss: 1.5349 - accuracy: 0.7219 - val_loss: 1.5896 - val_accuracy: 0.6970\n",
      "Epoch 78/120\n",
      "30/30 [==============================] - 0s 3ms/step - loss: 1.5286 - accuracy: 0.7243 - val_loss: 1.5806 - val_accuracy: 0.6910\n",
      "Epoch 79/120\n",
      "30/30 [==============================] - 0s 3ms/step - loss: 1.5217 - accuracy: 0.7225 - val_loss: 1.5718 - val_accuracy: 0.6990\n",
      "Epoch 80/120\n",
      "30/30 [==============================] - 0s 3ms/step - loss: 1.5145 - accuracy: 0.7223 - val_loss: 1.5639 - val_accuracy: 0.6950\n",
      "Epoch 81/120\n",
      "30/30 [==============================] - 0s 3ms/step - loss: 1.5078 - accuracy: 0.7240 - val_loss: 1.5596 - val_accuracy: 0.7000\n",
      "Epoch 82/120\n",
      "30/30 [==============================] - 0s 3ms/step - loss: 1.5012 - accuracy: 0.7267 - val_loss: 1.5506 - val_accuracy: 0.6970\n",
      "Epoch 83/120\n",
      "30/30 [==============================] - 0s 3ms/step - loss: 1.4946 - accuracy: 0.7272 - val_loss: 1.5489 - val_accuracy: 0.7000\n",
      "Epoch 84/120\n",
      "30/30 [==============================] - 0s 3ms/step - loss: 1.4889 - accuracy: 0.7261 - val_loss: 1.5432 - val_accuracy: 0.7000\n",
      "Epoch 85/120\n",
      "30/30 [==============================] - 0s 3ms/step - loss: 1.4822 - accuracy: 0.7283 - val_loss: 1.5364 - val_accuracy: 0.7000\n",
      "Epoch 86/120\n",
      "30/30 [==============================] - 0s 3ms/step - loss: 1.4758 - accuracy: 0.7285 - val_loss: 1.5320 - val_accuracy: 0.6920\n",
      "Epoch 87/120\n",
      "30/30 [==============================] - 0s 3ms/step - loss: 1.4699 - accuracy: 0.7289 - val_loss: 1.5221 - val_accuracy: 0.6980\n",
      "Epoch 88/120\n",
      "30/30 [==============================] - 0s 3ms/step - loss: 1.4630 - accuracy: 0.7277 - val_loss: 1.5174 - val_accuracy: 0.7030\n",
      "Epoch 89/120\n",
      "30/30 [==============================] - 0s 3ms/step - loss: 1.4571 - accuracy: 0.7305 - val_loss: 1.5086 - val_accuracy: 0.7010\n",
      "Epoch 90/120\n",
      "30/30 [==============================] - 0s 3ms/step - loss: 1.4515 - accuracy: 0.7291 - val_loss: 1.5011 - val_accuracy: 0.6990\n",
      "Epoch 91/120\n",
      "30/30 [==============================] - 0s 3ms/step - loss: 1.4450 - accuracy: 0.7313 - val_loss: 1.4962 - val_accuracy: 0.7000\n",
      "Epoch 92/120\n",
      "30/30 [==============================] - 0s 3ms/step - loss: 1.4390 - accuracy: 0.7305 - val_loss: 1.4898 - val_accuracy: 0.7010\n",
      "Epoch 93/120\n",
      "30/30 [==============================] - 0s 3ms/step - loss: 1.4336 - accuracy: 0.7305 - val_loss: 1.4839 - val_accuracy: 0.7020\n",
      "Epoch 94/120\n",
      "30/30 [==============================] - 0s 3ms/step - loss: 1.4275 - accuracy: 0.7320 - val_loss: 1.4796 - val_accuracy: 0.7070\n",
      "Epoch 95/120\n",
      "30/30 [==============================] - 0s 3ms/step - loss: 1.4219 - accuracy: 0.7320 - val_loss: 1.4747 - val_accuracy: 0.6990\n",
      "Epoch 96/120\n",
      "30/30 [==============================] - 0s 3ms/step - loss: 1.4159 - accuracy: 0.7335 - val_loss: 1.4679 - val_accuracy: 0.7000\n",
      "Epoch 97/120\n",
      "30/30 [==============================] - 0s 3ms/step - loss: 1.4109 - accuracy: 0.7315 - val_loss: 1.4627 - val_accuracy: 0.7080\n",
      "Epoch 98/120\n",
      "30/30 [==============================] - 0s 3ms/step - loss: 1.4053 - accuracy: 0.7313 - val_loss: 1.4566 - val_accuracy: 0.7030\n",
      "Epoch 99/120\n",
      "30/30 [==============================] - 0s 3ms/step - loss: 1.3993 - accuracy: 0.7337 - val_loss: 1.4535 - val_accuracy: 0.7030\n",
      "Epoch 100/120\n",
      "30/30 [==============================] - 0s 3ms/step - loss: 1.3939 - accuracy: 0.7328 - val_loss: 1.4456 - val_accuracy: 0.7000\n",
      "Epoch 101/120\n",
      "30/30 [==============================] - 0s 3ms/step - loss: 1.3885 - accuracy: 0.7345 - val_loss: 1.4447 - val_accuracy: 0.6990\n",
      "Epoch 102/120\n",
      "30/30 [==============================] - 0s 3ms/step - loss: 1.3835 - accuracy: 0.7341 - val_loss: 1.4362 - val_accuracy: 0.7040\n",
      "Epoch 103/120\n",
      "30/30 [==============================] - 0s 3ms/step - loss: 1.3779 - accuracy: 0.7340 - val_loss: 1.4335 - val_accuracy: 0.6990\n",
      "Epoch 104/120\n",
      "30/30 [==============================] - 0s 3ms/step - loss: 1.3734 - accuracy: 0.7336 - val_loss: 1.4278 - val_accuracy: 0.7040\n",
      "Epoch 105/120\n",
      "30/30 [==============================] - 0s 3ms/step - loss: 1.3680 - accuracy: 0.7357 - val_loss: 1.4218 - val_accuracy: 0.7040\n",
      "Epoch 106/120\n",
      "30/30 [==============================] - 0s 3ms/step - loss: 1.3627 - accuracy: 0.7365 - val_loss: 1.4189 - val_accuracy: 0.7090\n",
      "Epoch 107/120\n",
      "30/30 [==============================] - 0s 3ms/step - loss: 1.3579 - accuracy: 0.7355 - val_loss: 1.4143 - val_accuracy: 0.7070\n",
      "Epoch 108/120\n",
      "30/30 [==============================] - 0s 3ms/step - loss: 1.3527 - accuracy: 0.7368 - val_loss: 1.4080 - val_accuracy: 0.7030\n",
      "Epoch 109/120\n",
      "30/30 [==============================] - 0s 3ms/step - loss: 1.3476 - accuracy: 0.7355 - val_loss: 1.4039 - val_accuracy: 0.7030\n",
      "Epoch 110/120\n",
      "30/30 [==============================] - 0s 3ms/step - loss: 1.3431 - accuracy: 0.7375 - val_loss: 1.4014 - val_accuracy: 0.7090\n",
      "Epoch 111/120\n",
      "30/30 [==============================] - 0s 3ms/step - loss: 1.3381 - accuracy: 0.7372 - val_loss: 1.3956 - val_accuracy: 0.7090\n",
      "Epoch 112/120\n",
      "30/30 [==============================] - 0s 3ms/step - loss: 1.3332 - accuracy: 0.7379 - val_loss: 1.3878 - val_accuracy: 0.7090\n",
      "Epoch 113/120\n",
      "30/30 [==============================] - 0s 3ms/step - loss: 1.3290 - accuracy: 0.7376 - val_loss: 1.3862 - val_accuracy: 0.7100\n",
      "Epoch 114/120\n",
      "30/30 [==============================] - 0s 3ms/step - loss: 1.3236 - accuracy: 0.7376 - val_loss: 1.3776 - val_accuracy: 0.7040\n",
      "Epoch 115/120\n",
      "30/30 [==============================] - 0s 3ms/step - loss: 1.3187 - accuracy: 0.7365 - val_loss: 1.3771 - val_accuracy: 0.7150\n"
     ]
    },
    {
     "name": "stdout",
     "output_type": "stream",
     "text": [
      "Epoch 116/120\n",
      "30/30 [==============================] - 0s 3ms/step - loss: 1.3150 - accuracy: 0.7375 - val_loss: 1.3705 - val_accuracy: 0.7070\n",
      "Epoch 117/120\n",
      "30/30 [==============================] - 0s 3ms/step - loss: 1.3105 - accuracy: 0.7380 - val_loss: 1.3651 - val_accuracy: 0.7150\n",
      "Epoch 118/120\n",
      "30/30 [==============================] - 0s 3ms/step - loss: 1.3048 - accuracy: 0.7396 - val_loss: 1.3667 - val_accuracy: 0.7060\n",
      "Epoch 119/120\n",
      "30/30 [==============================] - 0s 3ms/step - loss: 1.3014 - accuracy: 0.7385 - val_loss: 1.3578 - val_accuracy: 0.7080\n",
      "Epoch 120/120\n",
      "30/30 [==============================] - 0s 3ms/step - loss: 1.2961 - accuracy: 0.7403 - val_loss: 1.3544 - val_accuracy: 0.7070\n"
     ]
    }
   ],
   "source": [
    "L1_model = model.fit(train_final,\n",
    "                    label_train_final,\n",
    "                    epochs=120,\n",
    "                    batch_size=256,\n",
    "                    validation_data=(val, label_val))"
   ]
  },
  {
   "cell_type": "markdown",
   "metadata": {},
   "source": [
    "Now, run the cell below to get and visualize the model's `.history`."
   ]
  },
  {
   "cell_type": "code",
   "execution_count": 88,
   "metadata": {},
   "outputs": [
    {
     "ename": "KeyError",
     "evalue": "'acc'",
     "output_type": "error",
     "traceback": [
      "\u001b[1;31m---------------------------------------------------------------------------\u001b[0m",
      "\u001b[1;31mKeyError\u001b[0m                                  Traceback (most recent call last)",
      "\u001b[1;32m<ipython-input-88-d9f7a74ada55>\u001b[0m in \u001b[0;36m<module>\u001b[1;34m\u001b[0m\n\u001b[0;32m      2\u001b[0m \u001b[0mplt\u001b[0m\u001b[1;33m.\u001b[0m\u001b[0mclf\u001b[0m\u001b[1;33m(\u001b[0m\u001b[1;33m)\u001b[0m\u001b[1;33m\u001b[0m\u001b[1;33m\u001b[0m\u001b[0m\n\u001b[0;32m      3\u001b[0m \u001b[1;33m\u001b[0m\u001b[0m\n\u001b[1;32m----> 4\u001b[1;33m \u001b[0macc_values\u001b[0m \u001b[1;33m=\u001b[0m \u001b[0mL1_model_dict\u001b[0m\u001b[1;33m[\u001b[0m\u001b[1;34m'acc'\u001b[0m\u001b[1;33m]\u001b[0m\u001b[1;33m\u001b[0m\u001b[1;33m\u001b[0m\u001b[0m\n\u001b[0m\u001b[0;32m      5\u001b[0m \u001b[0mval_acc_values\u001b[0m \u001b[1;33m=\u001b[0m \u001b[0mL1_model_dict\u001b[0m\u001b[1;33m[\u001b[0m\u001b[1;34m'val_acc'\u001b[0m\u001b[1;33m]\u001b[0m\u001b[1;33m\u001b[0m\u001b[1;33m\u001b[0m\u001b[0m\n\u001b[0;32m      6\u001b[0m \u001b[1;33m\u001b[0m\u001b[0m\n",
      "\u001b[1;31mKeyError\u001b[0m: 'acc'"
     ]
    },
    {
     "data": {
      "text/plain": [
       "<Figure size 432x288 with 0 Axes>"
      ]
     },
     "metadata": {},
     "output_type": "display_data"
    }
   ],
   "source": [
    "L1_model_dict = L1_model.history\n",
    "plt.clf()\n",
    "\n",
    "acc_values = L1_model_dict['acc'] \n",
    "val_acc_values = L1_model_dict['val_acc']\n",
    "\n",
    "epochs = range(1, len(acc_values) + 1)\n",
    "plt.plot(epochs, acc_values, 'g', label='Training acc L1')\n",
    "plt.plot(epochs, val_acc_values, 'g.', label='Validation acc L1')\n",
    "plt.title('Training & validation accuracy with L1 regularization')\n",
    "plt.xlabel('Epochs')\n",
    "plt.ylabel('Loss')\n",
    "plt.legend()\n",
    "plt.show()"
   ]
  },
  {
   "cell_type": "markdown",
   "metadata": {},
   "source": [
    "Notice how The training and validation accuracy don't diverge as much as before! Unfortunately, the validation accuracy doesn't reach rates much higher than 70%. It does seem like we can still improve the model by training much longer.\n",
    "\n",
    "To complete our comparison, let's use `model.evaluate()` again on the appropriate variables to compare results. "
   ]
  },
  {
   "cell_type": "code",
   "execution_count": null,
   "metadata": {},
   "outputs": [],
   "source": [
    "results_train = None\n",
    "\n",
    "results_test = None"
   ]
  },
  {
   "cell_type": "code",
   "execution_count": null,
   "metadata": {},
   "outputs": [],
   "source": [
    "results_train # Expected Output: [1.3186310468037923, 0.72266666663487755]"
   ]
  },
  {
   "cell_type": "code",
   "execution_count": null,
   "metadata": {},
   "outputs": [],
   "source": [
    "results_test # Expected Output: [1.3541648308436076, 0.70800000031789145]"
   ]
  },
  {
   "cell_type": "markdown",
   "metadata": {},
   "source": [
    "This is about the best we've seen so far, but we were training for quite a while! Let's see if dropout regularization can do even better and/or be more efficient!"
   ]
  },
  {
   "cell_type": "markdown",
   "metadata": {},
   "source": [
    "## 6. Dropout Regularization\n",
    "\n",
    "Dropout Regularization is accomplished by adding in an additional `Dropout` layer wherever we want to use it, and providing a percentage value for how likely any given neuron is to get \"dropped out\" during this layer. \n",
    "\n",
    "In the cell below:\n",
    "\n",
    "* Import `Dropout` from `keras.layers`\n",
    "* Recreate the same network we have above, but this time without any L1 or L2 regularization\n",
    "* Add a `Dropout` layer between hidden layer 1 and hidden layer 2.  This should have a dropout chance of `0.3`.\n",
    "* Add a `Dropout` layer between hidden layer 2 and the output layer.  This should have a dropout chance of `0.3`.\n",
    "* Compile the model with the exact same hyperparameters as all other models we've built. \n",
    "* Fit the model with the same hyperparameters we've used above.  But this time, train the model for `200` epochs. "
   ]
  },
  {
   "cell_type": "code",
   "execution_count": 90,
   "metadata": {},
   "outputs": [],
   "source": [
    "from keras.layers import Dropout\n",
    "model = Sequential()\n",
    "model.add(Dense(50, activation='relu', input_shape=(2000,))) #2 hidden layers\n",
    "model.add(Dropout(0.3))\n",
    "model.add(Dense(25, activation='relu'))\n",
    "model.add(Dropout(0.3))\n",
    "model.add(Dense(7, activation='softmax'))"
   ]
  },
  {
   "cell_type": "code",
   "execution_count": 91,
   "metadata": {},
   "outputs": [],
   "source": [
    "model.compile(optimizer='SGD',\n",
    "              loss='categorical_crossentropy',\n",
    "              metrics=['accuracy'])"
   ]
  },
  {
   "cell_type": "code",
   "execution_count": 92,
   "metadata": {},
   "outputs": [
    {
     "name": "stdout",
     "output_type": "stream",
     "text": [
      "Epoch 1/200\n",
      "30/30 [==============================] - 0s 6ms/step - loss: 1.9576 - accuracy: 0.1660 - val_loss: 1.9267 - val_accuracy: 0.1960\n",
      "Epoch 2/200\n",
      "30/30 [==============================] - 0s 3ms/step - loss: 1.9376 - accuracy: 0.1817 - val_loss: 1.9136 - val_accuracy: 0.2010\n",
      "Epoch 3/200\n",
      "30/30 [==============================] - 0s 3ms/step - loss: 1.9254 - accuracy: 0.1856 - val_loss: 1.9016 - val_accuracy: 0.2100\n",
      "Epoch 4/200\n",
      "30/30 [==============================] - 0s 3ms/step - loss: 1.9072 - accuracy: 0.2059 - val_loss: 1.8892 - val_accuracy: 0.2220\n",
      "Epoch 5/200\n",
      "30/30 [==============================] - 0s 3ms/step - loss: 1.8946 - accuracy: 0.2084 - val_loss: 1.8766 - val_accuracy: 0.2350\n",
      "Epoch 6/200\n",
      "30/30 [==============================] - 0s 3ms/step - loss: 1.8857 - accuracy: 0.2188 - val_loss: 1.8626 - val_accuracy: 0.2450\n",
      "Epoch 7/200\n",
      "30/30 [==============================] - 0s 3ms/step - loss: 1.8708 - accuracy: 0.2315 - val_loss: 1.8464 - val_accuracy: 0.2570\n",
      "Epoch 8/200\n",
      "30/30 [==============================] - 0s 3ms/step - loss: 1.8526 - accuracy: 0.2509 - val_loss: 1.8281 - val_accuracy: 0.2610\n",
      "Epoch 9/200\n",
      "30/30 [==============================] - 0s 3ms/step - loss: 1.8391 - accuracy: 0.2495 - val_loss: 1.8096 - val_accuracy: 0.2810\n",
      "Epoch 10/200\n",
      "30/30 [==============================] - 0s 3ms/step - loss: 1.8286 - accuracy: 0.2561 - val_loss: 1.7905 - val_accuracy: 0.2970\n",
      "Epoch 11/200\n",
      "30/30 [==============================] - 0s 3ms/step - loss: 1.8037 - accuracy: 0.2689 - val_loss: 1.7669 - val_accuracy: 0.3030\n",
      "Epoch 12/200\n",
      "30/30 [==============================] - 0s 3ms/step - loss: 1.7834 - accuracy: 0.2857 - val_loss: 1.7436 - val_accuracy: 0.3200\n",
      "Epoch 13/200\n",
      "30/30 [==============================] - 0s 3ms/step - loss: 1.7658 - accuracy: 0.2956 - val_loss: 1.7192 - val_accuracy: 0.3370\n",
      "Epoch 14/200\n",
      "30/30 [==============================] - 0s 3ms/step - loss: 1.7490 - accuracy: 0.3008 - val_loss: 1.6938 - val_accuracy: 0.3660\n",
      "Epoch 15/200\n",
      "30/30 [==============================] - 0s 3ms/step - loss: 1.7233 - accuracy: 0.3221 - val_loss: 1.6684 - val_accuracy: 0.3770\n",
      "Epoch 16/200\n",
      "30/30 [==============================] - 0s 3ms/step - loss: 1.7008 - accuracy: 0.3376 - val_loss: 1.6408 - val_accuracy: 0.3880\n",
      "Epoch 17/200\n",
      "30/30 [==============================] - 0s 3ms/step - loss: 1.6710 - accuracy: 0.3524 - val_loss: 1.6122 - val_accuracy: 0.4140\n",
      "Epoch 18/200\n",
      "30/30 [==============================] - 0s 3ms/step - loss: 1.6565 - accuracy: 0.3516 - val_loss: 1.5856 - val_accuracy: 0.4360\n",
      "Epoch 19/200\n",
      "30/30 [==============================] - 0s 3ms/step - loss: 1.6303 - accuracy: 0.3789 - val_loss: 1.5587 - val_accuracy: 0.4530\n",
      "Epoch 20/200\n",
      "30/30 [==============================] - 0s 3ms/step - loss: 1.6088 - accuracy: 0.3839 - val_loss: 1.5306 - val_accuracy: 0.4710\n",
      "Epoch 21/200\n",
      "30/30 [==============================] - 0s 3ms/step - loss: 1.5791 - accuracy: 0.3963 - val_loss: 1.5002 - val_accuracy: 0.4780\n",
      "Epoch 22/200\n",
      "30/30 [==============================] - 0s 3ms/step - loss: 1.5629 - accuracy: 0.4079 - val_loss: 1.4740 - val_accuracy: 0.5090\n",
      "Epoch 23/200\n",
      "30/30 [==============================] - 0s 3ms/step - loss: 1.5452 - accuracy: 0.4173 - val_loss: 1.4483 - val_accuracy: 0.5170\n",
      "Epoch 24/200\n",
      "30/30 [==============================] - 0s 3ms/step - loss: 1.5092 - accuracy: 0.4347 - val_loss: 1.4195 - val_accuracy: 0.5290\n",
      "Epoch 25/200\n",
      "30/30 [==============================] - 0s 4ms/step - loss: 1.5009 - accuracy: 0.4340 - val_loss: 1.3957 - val_accuracy: 0.5300\n",
      "Epoch 26/200\n",
      "30/30 [==============================] - 0s 4ms/step - loss: 1.4687 - accuracy: 0.4489 - val_loss: 1.3694 - val_accuracy: 0.5440\n",
      "Epoch 27/200\n",
      "30/30 [==============================] - 0s 3ms/step - loss: 1.4509 - accuracy: 0.4543 - val_loss: 1.3472 - val_accuracy: 0.5530\n",
      "Epoch 28/200\n",
      "30/30 [==============================] - 0s 4ms/step - loss: 1.4310 - accuracy: 0.4619 - val_loss: 1.3250 - val_accuracy: 0.5560\n",
      "Epoch 29/200\n",
      "30/30 [==============================] - 0s 4ms/step - loss: 1.4147 - accuracy: 0.4708 - val_loss: 1.3041 - val_accuracy: 0.5670\n",
      "Epoch 30/200\n",
      "30/30 [==============================] - 0s 3ms/step - loss: 1.3863 - accuracy: 0.4864 - val_loss: 1.2808 - val_accuracy: 0.5840\n",
      "Epoch 31/200\n",
      "30/30 [==============================] - 0s 3ms/step - loss: 1.3765 - accuracy: 0.4851 - val_loss: 1.2621 - val_accuracy: 0.5840\n",
      "Epoch 32/200\n",
      "30/30 [==============================] - 0s 3ms/step - loss: 1.3605 - accuracy: 0.4901 - val_loss: 1.2417 - val_accuracy: 0.5960\n",
      "Epoch 33/200\n",
      "30/30 [==============================] - 0s 3ms/step - loss: 1.3348 - accuracy: 0.5028 - val_loss: 1.2218 - val_accuracy: 0.5960\n",
      "Epoch 34/200\n",
      "30/30 [==============================] - 0s 3ms/step - loss: 1.3234 - accuracy: 0.5117 - val_loss: 1.2019 - val_accuracy: 0.6070\n",
      "Epoch 35/200\n",
      "30/30 [==============================] - 0s 3ms/step - loss: 1.3032 - accuracy: 0.5195 - val_loss: 1.1831 - val_accuracy: 0.6200\n",
      "Epoch 36/200\n",
      "30/30 [==============================] - 0s 3ms/step - loss: 1.2993 - accuracy: 0.5221 - val_loss: 1.1680 - val_accuracy: 0.6370\n",
      "Epoch 37/200\n",
      "30/30 [==============================] - 0s 3ms/step - loss: 1.2681 - accuracy: 0.5340 - val_loss: 1.1492 - val_accuracy: 0.6320\n",
      "Epoch 38/200\n",
      "30/30 [==============================] - 0s 3ms/step - loss: 1.2598 - accuracy: 0.5276 - val_loss: 1.1316 - val_accuracy: 0.6400\n",
      "Epoch 39/200\n",
      "30/30 [==============================] - 0s 3ms/step - loss: 1.2374 - accuracy: 0.5483 - val_loss: 1.1153 - val_accuracy: 0.6390\n",
      "Epoch 40/200\n",
      "30/30 [==============================] - 0s 3ms/step - loss: 1.2228 - accuracy: 0.5537 - val_loss: 1.1005 - val_accuracy: 0.6460\n",
      "Epoch 41/200\n",
      "30/30 [==============================] - 0s 3ms/step - loss: 1.2019 - accuracy: 0.5644 - val_loss: 1.0849 - val_accuracy: 0.6460\n",
      "Epoch 42/200\n",
      "30/30 [==============================] - 0s 4ms/step - loss: 1.1931 - accuracy: 0.5631 - val_loss: 1.0689 - val_accuracy: 0.6560\n",
      "Epoch 43/200\n",
      "30/30 [==============================] - 0s 3ms/step - loss: 1.1843 - accuracy: 0.5743 - val_loss: 1.0565 - val_accuracy: 0.6530\n",
      "Epoch 44/200\n",
      "30/30 [==============================] - 0s 3ms/step - loss: 1.1746 - accuracy: 0.5723 - val_loss: 1.0415 - val_accuracy: 0.6610\n",
      "Epoch 45/200\n",
      "30/30 [==============================] - 0s 3ms/step - loss: 1.1497 - accuracy: 0.5855 - val_loss: 1.0287 - val_accuracy: 0.6560\n",
      "Epoch 46/200\n",
      "30/30 [==============================] - 0s 3ms/step - loss: 1.1344 - accuracy: 0.5861 - val_loss: 1.0150 - val_accuracy: 0.6630\n",
      "Epoch 47/200\n",
      "30/30 [==============================] - 0s 3ms/step - loss: 1.1223 - accuracy: 0.5889 - val_loss: 1.0006 - val_accuracy: 0.6690\n",
      "Epoch 48/200\n",
      "30/30 [==============================] - 0s 3ms/step - loss: 1.1168 - accuracy: 0.5805 - val_loss: 0.9902 - val_accuracy: 0.6730\n",
      "Epoch 49/200\n",
      "30/30 [==============================] - 0s 3ms/step - loss: 1.1095 - accuracy: 0.5900 - val_loss: 0.9806 - val_accuracy: 0.6790\n",
      "Epoch 50/200\n",
      "30/30 [==============================] - 0s 3ms/step - loss: 1.0878 - accuracy: 0.6101 - val_loss: 0.9695 - val_accuracy: 0.6830\n",
      "Epoch 51/200\n",
      "30/30 [==============================] - 0s 3ms/step - loss: 1.0723 - accuracy: 0.6152 - val_loss: 0.9566 - val_accuracy: 0.6900\n",
      "Epoch 52/200\n",
      "30/30 [==============================] - 0s 3ms/step - loss: 1.0691 - accuracy: 0.6052 - val_loss: 0.9470 - val_accuracy: 0.6940\n",
      "Epoch 53/200\n",
      "30/30 [==============================] - 0s 3ms/step - loss: 1.0525 - accuracy: 0.6145 - val_loss: 0.9365 - val_accuracy: 0.6990\n",
      "Epoch 54/200\n",
      "30/30 [==============================] - 0s 3ms/step - loss: 1.0498 - accuracy: 0.6087 - val_loss: 0.9289 - val_accuracy: 0.6990\n",
      "Epoch 55/200\n",
      "30/30 [==============================] - 0s 3ms/step - loss: 1.0429 - accuracy: 0.6189 - val_loss: 0.9187 - val_accuracy: 0.7020\n",
      "Epoch 56/200\n",
      "30/30 [==============================] - 0s 3ms/step - loss: 1.0226 - accuracy: 0.6265 - val_loss: 0.9102 - val_accuracy: 0.7060\n",
      "Epoch 57/200\n",
      "30/30 [==============================] - 0s 3ms/step - loss: 1.0125 - accuracy: 0.6315 - val_loss: 0.9003 - val_accuracy: 0.7030\n",
      "Epoch 58/200\n",
      "30/30 [==============================] - 0s 3ms/step - loss: 1.0056 - accuracy: 0.6340 - val_loss: 0.8908 - val_accuracy: 0.7090\n"
     ]
    },
    {
     "name": "stdout",
     "output_type": "stream",
     "text": [
      "Epoch 59/200\n",
      "30/30 [==============================] - 0s 3ms/step - loss: 0.9907 - accuracy: 0.6392 - val_loss: 0.8816 - val_accuracy: 0.7090\n",
      "Epoch 60/200\n",
      "30/30 [==============================] - 0s 3ms/step - loss: 0.9825 - accuracy: 0.6376 - val_loss: 0.8720 - val_accuracy: 0.7070\n",
      "Epoch 61/200\n",
      "30/30 [==============================] - 0s 3ms/step - loss: 0.9726 - accuracy: 0.6441 - val_loss: 0.8665 - val_accuracy: 0.7070\n",
      "Epoch 62/200\n",
      "30/30 [==============================] - 0s 3ms/step - loss: 0.9665 - accuracy: 0.6463 - val_loss: 0.8584 - val_accuracy: 0.7120\n",
      "Epoch 63/200\n",
      "30/30 [==============================] - 0s 3ms/step - loss: 0.9595 - accuracy: 0.6497 - val_loss: 0.8531 - val_accuracy: 0.7050\n",
      "Epoch 64/200\n",
      "30/30 [==============================] - 0s 3ms/step - loss: 0.9545 - accuracy: 0.6524 - val_loss: 0.8476 - val_accuracy: 0.7090\n",
      "Epoch 65/200\n",
      "30/30 [==============================] - 0s 3ms/step - loss: 0.9474 - accuracy: 0.6540 - val_loss: 0.8412 - val_accuracy: 0.7030\n",
      "Epoch 66/200\n",
      "30/30 [==============================] - 0s 3ms/step - loss: 0.9333 - accuracy: 0.6615 - val_loss: 0.8336 - val_accuracy: 0.7100\n",
      "Epoch 67/200\n",
      "30/30 [==============================] - 0s 3ms/step - loss: 0.9327 - accuracy: 0.6588 - val_loss: 0.8290 - val_accuracy: 0.7130\n",
      "Epoch 68/200\n",
      "30/30 [==============================] - 0s 3ms/step - loss: 0.9307 - accuracy: 0.6597 - val_loss: 0.8221 - val_accuracy: 0.7170\n",
      "Epoch 69/200\n",
      "30/30 [==============================] - 0s 3ms/step - loss: 0.9181 - accuracy: 0.6689 - val_loss: 0.8187 - val_accuracy: 0.7090\n",
      "Epoch 70/200\n",
      "30/30 [==============================] - 0s 3ms/step - loss: 0.9055 - accuracy: 0.6713 - val_loss: 0.8100 - val_accuracy: 0.7140\n",
      "Epoch 71/200\n",
      "30/30 [==============================] - 0s 3ms/step - loss: 0.9031 - accuracy: 0.6736 - val_loss: 0.8049 - val_accuracy: 0.7140\n",
      "Epoch 72/200\n",
      "30/30 [==============================] - 0s 3ms/step - loss: 0.8889 - accuracy: 0.6741 - val_loss: 0.8007 - val_accuracy: 0.7090\n",
      "Epoch 73/200\n",
      "30/30 [==============================] - 0s 3ms/step - loss: 0.8842 - accuracy: 0.6741 - val_loss: 0.7965 - val_accuracy: 0.7100\n",
      "Epoch 74/200\n",
      "30/30 [==============================] - 0s 3ms/step - loss: 0.8779 - accuracy: 0.6779 - val_loss: 0.7904 - val_accuracy: 0.7100\n",
      "Epoch 75/200\n",
      "30/30 [==============================] - 0s 3ms/step - loss: 0.8806 - accuracy: 0.6799 - val_loss: 0.7856 - val_accuracy: 0.7180\n",
      "Epoch 76/200\n",
      "30/30 [==============================] - 0s 3ms/step - loss: 0.8619 - accuracy: 0.6817 - val_loss: 0.7829 - val_accuracy: 0.7210\n",
      "Epoch 77/200\n",
      "30/30 [==============================] - 0s 3ms/step - loss: 0.8656 - accuracy: 0.6808 - val_loss: 0.7772 - val_accuracy: 0.7210\n",
      "Epoch 78/200\n",
      "30/30 [==============================] - 0s 3ms/step - loss: 0.8509 - accuracy: 0.6871 - val_loss: 0.7732 - val_accuracy: 0.7190\n",
      "Epoch 79/200\n",
      "30/30 [==============================] - 0s 3ms/step - loss: 0.8479 - accuracy: 0.6887 - val_loss: 0.7696 - val_accuracy: 0.7190\n",
      "Epoch 80/200\n",
      "30/30 [==============================] - 0s 3ms/step - loss: 0.8391 - accuracy: 0.6899 - val_loss: 0.7651 - val_accuracy: 0.7230\n",
      "Epoch 81/200\n",
      "30/30 [==============================] - 0s 3ms/step - loss: 0.8381 - accuracy: 0.6977 - val_loss: 0.7616 - val_accuracy: 0.7270\n",
      "Epoch 82/200\n",
      "30/30 [==============================] - 0s 3ms/step - loss: 0.8302 - accuracy: 0.6941 - val_loss: 0.7596 - val_accuracy: 0.7210\n",
      "Epoch 83/200\n",
      "30/30 [==============================] - 0s 3ms/step - loss: 0.8340 - accuracy: 0.6929 - val_loss: 0.7561 - val_accuracy: 0.7200\n",
      "Epoch 84/200\n",
      "30/30 [==============================] - 0s 3ms/step - loss: 0.8212 - accuracy: 0.6988 - val_loss: 0.7513 - val_accuracy: 0.7290\n",
      "Epoch 85/200\n",
      "30/30 [==============================] - 0s 3ms/step - loss: 0.8240 - accuracy: 0.6947 - val_loss: 0.7488 - val_accuracy: 0.7210\n",
      "Epoch 86/200\n",
      "30/30 [==============================] - 0s 3ms/step - loss: 0.8185 - accuracy: 0.6895 - val_loss: 0.7457 - val_accuracy: 0.7210\n",
      "Epoch 87/200\n",
      "30/30 [==============================] - 0s 3ms/step - loss: 0.8071 - accuracy: 0.7017 - val_loss: 0.7445 - val_accuracy: 0.7320\n",
      "Epoch 88/200\n",
      "30/30 [==============================] - 0s 3ms/step - loss: 0.7984 - accuracy: 0.7092 - val_loss: 0.7418 - val_accuracy: 0.7270\n",
      "Epoch 89/200\n",
      "30/30 [==============================] - 0s 3ms/step - loss: 0.7911 - accuracy: 0.7103 - val_loss: 0.7380 - val_accuracy: 0.7290\n",
      "Epoch 90/200\n",
      "30/30 [==============================] - 0s 3ms/step - loss: 0.8004 - accuracy: 0.7028 - val_loss: 0.7373 - val_accuracy: 0.7290\n",
      "Epoch 91/200\n",
      "30/30 [==============================] - 0s 3ms/step - loss: 0.7918 - accuracy: 0.7015 - val_loss: 0.7333 - val_accuracy: 0.7300\n",
      "Epoch 92/200\n",
      "30/30 [==============================] - 0s 3ms/step - loss: 0.7815 - accuracy: 0.7087 - val_loss: 0.7293 - val_accuracy: 0.7330\n",
      "Epoch 93/200\n",
      "30/30 [==============================] - 0s 3ms/step - loss: 0.7779 - accuracy: 0.7084 - val_loss: 0.7266 - val_accuracy: 0.7320\n",
      "Epoch 94/200\n",
      "30/30 [==============================] - 0s 3ms/step - loss: 0.7721 - accuracy: 0.7133 - val_loss: 0.7246 - val_accuracy: 0.7330\n",
      "Epoch 95/200\n",
      "30/30 [==============================] - 0s 3ms/step - loss: 0.7622 - accuracy: 0.7163 - val_loss: 0.7233 - val_accuracy: 0.7370\n",
      "Epoch 96/200\n",
      "30/30 [==============================] - 0s 3ms/step - loss: 0.7599 - accuracy: 0.7165 - val_loss: 0.7193 - val_accuracy: 0.7280\n",
      "Epoch 97/200\n",
      "30/30 [==============================] - 0s 3ms/step - loss: 0.7615 - accuracy: 0.7132 - val_loss: 0.7189 - val_accuracy: 0.7320\n",
      "Epoch 98/200\n",
      "30/30 [==============================] - 0s 3ms/step - loss: 0.7502 - accuracy: 0.7216 - val_loss: 0.7166 - val_accuracy: 0.7330\n",
      "Epoch 99/200\n",
      "30/30 [==============================] - 0s 3ms/step - loss: 0.7561 - accuracy: 0.7192 - val_loss: 0.7152 - val_accuracy: 0.7320\n",
      "Epoch 100/200\n",
      "30/30 [==============================] - 0s 3ms/step - loss: 0.7439 - accuracy: 0.7313 - val_loss: 0.7124 - val_accuracy: 0.7350\n",
      "Epoch 101/200\n",
      "30/30 [==============================] - 0s 3ms/step - loss: 0.7445 - accuracy: 0.7275 - val_loss: 0.7114 - val_accuracy: 0.7380\n",
      "Epoch 102/200\n",
      "30/30 [==============================] - 0s 3ms/step - loss: 0.7429 - accuracy: 0.7216 - val_loss: 0.7101 - val_accuracy: 0.7370\n",
      "Epoch 103/200\n",
      "30/30 [==============================] - 0s 3ms/step - loss: 0.7344 - accuracy: 0.7256 - val_loss: 0.7072 - val_accuracy: 0.7330\n",
      "Epoch 104/200\n",
      "30/30 [==============================] - 0s 3ms/step - loss: 0.7285 - accuracy: 0.7279 - val_loss: 0.7041 - val_accuracy: 0.7390\n",
      "Epoch 105/200\n",
      "30/30 [==============================] - 0s 3ms/step - loss: 0.7258 - accuracy: 0.7324 - val_loss: 0.7052 - val_accuracy: 0.7390\n",
      "Epoch 106/200\n",
      "30/30 [==============================] - 0s 3ms/step - loss: 0.7194 - accuracy: 0.7329 - val_loss: 0.7017 - val_accuracy: 0.7340\n",
      "Epoch 107/200\n",
      "30/30 [==============================] - 0s 3ms/step - loss: 0.7148 - accuracy: 0.7332 - val_loss: 0.6989 - val_accuracy: 0.7360\n",
      "Epoch 108/200\n",
      "30/30 [==============================] - 0s 3ms/step - loss: 0.7186 - accuracy: 0.7361 - val_loss: 0.6982 - val_accuracy: 0.7360\n",
      "Epoch 109/200\n",
      "30/30 [==============================] - 0s 3ms/step - loss: 0.7105 - accuracy: 0.7368 - val_loss: 0.6973 - val_accuracy: 0.7400\n",
      "Epoch 110/200\n",
      "30/30 [==============================] - 0s 3ms/step - loss: 0.7032 - accuracy: 0.7360 - val_loss: 0.6961 - val_accuracy: 0.7400\n",
      "Epoch 111/200\n",
      "30/30 [==============================] - 0s 3ms/step - loss: 0.6992 - accuracy: 0.7364 - val_loss: 0.6934 - val_accuracy: 0.7380\n",
      "Epoch 112/200\n",
      "30/30 [==============================] - 0s 3ms/step - loss: 0.7076 - accuracy: 0.7328 - val_loss: 0.6936 - val_accuracy: 0.7380\n",
      "Epoch 113/200\n",
      "30/30 [==============================] - 0s 3ms/step - loss: 0.6923 - accuracy: 0.7424 - val_loss: 0.6912 - val_accuracy: 0.7400\n",
      "Epoch 114/200\n",
      "30/30 [==============================] - 0s 3ms/step - loss: 0.6984 - accuracy: 0.7357 - val_loss: 0.6916 - val_accuracy: 0.7380\n",
      "Epoch 115/200\n",
      "30/30 [==============================] - 0s 3ms/step - loss: 0.6862 - accuracy: 0.7460 - val_loss: 0.6890 - val_accuracy: 0.7410\n",
      "Epoch 116/200\n"
     ]
    },
    {
     "name": "stdout",
     "output_type": "stream",
     "text": [
      "30/30 [==============================] - 0s 3ms/step - loss: 0.6863 - accuracy: 0.7425 - val_loss: 0.6879 - val_accuracy: 0.7390\n",
      "Epoch 117/200\n",
      "30/30 [==============================] - 0s 3ms/step - loss: 0.6842 - accuracy: 0.7492 - val_loss: 0.6871 - val_accuracy: 0.7350\n",
      "Epoch 118/200\n",
      "30/30 [==============================] - 0s 3ms/step - loss: 0.6772 - accuracy: 0.7537 - val_loss: 0.6855 - val_accuracy: 0.7390\n",
      "Epoch 119/200\n",
      "30/30 [==============================] - 0s 3ms/step - loss: 0.6767 - accuracy: 0.7455 - val_loss: 0.6856 - val_accuracy: 0.7400\n",
      "Epoch 120/200\n",
      "30/30 [==============================] - 0s 3ms/step - loss: 0.6795 - accuracy: 0.7519 - val_loss: 0.6840 - val_accuracy: 0.7420\n",
      "Epoch 121/200\n",
      "30/30 [==============================] - 0s 4ms/step - loss: 0.6748 - accuracy: 0.7487 - val_loss: 0.6825 - val_accuracy: 0.7430\n",
      "Epoch 122/200\n",
      "30/30 [==============================] - 0s 4ms/step - loss: 0.6664 - accuracy: 0.7527 - val_loss: 0.6829 - val_accuracy: 0.7400\n",
      "Epoch 123/200\n",
      "30/30 [==============================] - 0s 4ms/step - loss: 0.6665 - accuracy: 0.7532 - val_loss: 0.6806 - val_accuracy: 0.7380\n",
      "Epoch 124/200\n",
      "30/30 [==============================] - 0s 4ms/step - loss: 0.6707 - accuracy: 0.7499 - val_loss: 0.6812 - val_accuracy: 0.7360\n",
      "Epoch 125/200\n",
      "30/30 [==============================] - 0s 4ms/step - loss: 0.6668 - accuracy: 0.7532 - val_loss: 0.6798 - val_accuracy: 0.7400\n",
      "Epoch 126/200\n",
      "30/30 [==============================] - 0s 4ms/step - loss: 0.6592 - accuracy: 0.7516 - val_loss: 0.6794 - val_accuracy: 0.7410\n",
      "Epoch 127/200\n",
      "30/30 [==============================] - 0s 3ms/step - loss: 0.6626 - accuracy: 0.7532 - val_loss: 0.6798 - val_accuracy: 0.7380\n",
      "Epoch 128/200\n",
      "30/30 [==============================] - 0s 4ms/step - loss: 0.6458 - accuracy: 0.7593 - val_loss: 0.6771 - val_accuracy: 0.7380\n",
      "Epoch 129/200\n",
      "30/30 [==============================] - 0s 3ms/step - loss: 0.6439 - accuracy: 0.7632 - val_loss: 0.6760 - val_accuracy: 0.7430\n",
      "Epoch 130/200\n",
      "30/30 [==============================] - 0s 3ms/step - loss: 0.6533 - accuracy: 0.7513 - val_loss: 0.6787 - val_accuracy: 0.7390\n",
      "Epoch 131/200\n",
      "30/30 [==============================] - 0s 3ms/step - loss: 0.6501 - accuracy: 0.7571 - val_loss: 0.6769 - val_accuracy: 0.7400\n",
      "Epoch 132/200\n",
      "30/30 [==============================] - 0s 3ms/step - loss: 0.6443 - accuracy: 0.7641 - val_loss: 0.6757 - val_accuracy: 0.7390\n",
      "Epoch 133/200\n",
      "30/30 [==============================] - 0s 4ms/step - loss: 0.6438 - accuracy: 0.7568 - val_loss: 0.6739 - val_accuracy: 0.7390\n",
      "Epoch 134/200\n",
      "30/30 [==============================] - 0s 4ms/step - loss: 0.6296 - accuracy: 0.7612 - val_loss: 0.6736 - val_accuracy: 0.7400\n",
      "Epoch 135/200\n",
      "30/30 [==============================] - 0s 4ms/step - loss: 0.6254 - accuracy: 0.7635 - val_loss: 0.6739 - val_accuracy: 0.7400\n",
      "Epoch 136/200\n",
      "30/30 [==============================] - 0s 4ms/step - loss: 0.6444 - accuracy: 0.7539 - val_loss: 0.6732 - val_accuracy: 0.7380\n",
      "Epoch 137/200\n",
      "30/30 [==============================] - 0s 4ms/step - loss: 0.6292 - accuracy: 0.7611 - val_loss: 0.6722 - val_accuracy: 0.7360\n",
      "Epoch 138/200\n",
      "30/30 [==============================] - 0s 4ms/step - loss: 0.6237 - accuracy: 0.7668 - val_loss: 0.6724 - val_accuracy: 0.7390\n",
      "Epoch 139/200\n",
      "30/30 [==============================] - 0s 4ms/step - loss: 0.6141 - accuracy: 0.7635 - val_loss: 0.6715 - val_accuracy: 0.7390\n",
      "Epoch 140/200\n",
      "30/30 [==============================] - 0s 4ms/step - loss: 0.6103 - accuracy: 0.7700 - val_loss: 0.6716 - val_accuracy: 0.7390\n",
      "Epoch 141/200\n",
      "30/30 [==============================] - 0s 4ms/step - loss: 0.6215 - accuracy: 0.7637 - val_loss: 0.6707 - val_accuracy: 0.7410\n",
      "Epoch 142/200\n",
      "30/30 [==============================] - 0s 4ms/step - loss: 0.6161 - accuracy: 0.7664 - val_loss: 0.6696 - val_accuracy: 0.7380\n",
      "Epoch 143/200\n",
      "30/30 [==============================] - 0s 4ms/step - loss: 0.6099 - accuracy: 0.7689 - val_loss: 0.6690 - val_accuracy: 0.7400\n",
      "Epoch 144/200\n",
      "30/30 [==============================] - 0s 4ms/step - loss: 0.6106 - accuracy: 0.7700 - val_loss: 0.6694 - val_accuracy: 0.7400\n",
      "Epoch 145/200\n",
      "30/30 [==============================] - 0s 4ms/step - loss: 0.6039 - accuracy: 0.7725 - val_loss: 0.6675 - val_accuracy: 0.7370\n",
      "Epoch 146/200\n",
      "30/30 [==============================] - 0s 4ms/step - loss: 0.5991 - accuracy: 0.7741 - val_loss: 0.6677 - val_accuracy: 0.7420\n",
      "Epoch 147/200\n",
      "30/30 [==============================] - 0s 4ms/step - loss: 0.6050 - accuracy: 0.7708 - val_loss: 0.6690 - val_accuracy: 0.7410\n",
      "Epoch 148/200\n",
      "30/30 [==============================] - 0s 4ms/step - loss: 0.6029 - accuracy: 0.7731 - val_loss: 0.6674 - val_accuracy: 0.7400\n",
      "Epoch 149/200\n",
      "30/30 [==============================] - 0s 4ms/step - loss: 0.6015 - accuracy: 0.7741 - val_loss: 0.6675 - val_accuracy: 0.7400\n",
      "Epoch 150/200\n",
      "30/30 [==============================] - 0s 4ms/step - loss: 0.6005 - accuracy: 0.7745 - val_loss: 0.6664 - val_accuracy: 0.7400\n",
      "Epoch 151/200\n",
      "30/30 [==============================] - 0s 4ms/step - loss: 0.5960 - accuracy: 0.7761 - val_loss: 0.6672 - val_accuracy: 0.7410\n",
      "Epoch 152/200\n",
      "30/30 [==============================] - 0s 4ms/step - loss: 0.5905 - accuracy: 0.7779 - val_loss: 0.6658 - val_accuracy: 0.7400\n",
      "Epoch 153/200\n",
      "30/30 [==============================] - 0s 4ms/step - loss: 0.5924 - accuracy: 0.7785 - val_loss: 0.6653 - val_accuracy: 0.7350\n",
      "Epoch 154/200\n",
      "30/30 [==============================] - 0s 4ms/step - loss: 0.5901 - accuracy: 0.7763 - val_loss: 0.6659 - val_accuracy: 0.7410\n",
      "Epoch 155/200\n",
      "30/30 [==============================] - 0s 4ms/step - loss: 0.5956 - accuracy: 0.7713 - val_loss: 0.6648 - val_accuracy: 0.7400\n",
      "Epoch 156/200\n",
      "30/30 [==============================] - 0s 3ms/step - loss: 0.5825 - accuracy: 0.7784 - val_loss: 0.6646 - val_accuracy: 0.7370\n",
      "Epoch 157/200\n",
      "30/30 [==============================] - 0s 4ms/step - loss: 0.5811 - accuracy: 0.7824 - val_loss: 0.6650 - val_accuracy: 0.7430\n",
      "Epoch 158/200\n",
      "30/30 [==============================] - 0s 3ms/step - loss: 0.5793 - accuracy: 0.7812 - val_loss: 0.6652 - val_accuracy: 0.7410\n",
      "Epoch 159/200\n",
      "30/30 [==============================] - 0s 3ms/step - loss: 0.5830 - accuracy: 0.7799 - val_loss: 0.6653 - val_accuracy: 0.7430\n",
      "Epoch 160/200\n",
      "30/30 [==============================] - 0s 3ms/step - loss: 0.5718 - accuracy: 0.7889 - val_loss: 0.6646 - val_accuracy: 0.7380\n",
      "Epoch 161/200\n",
      "30/30 [==============================] - 0s 4ms/step - loss: 0.5764 - accuracy: 0.7839 - val_loss: 0.6630 - val_accuracy: 0.7380\n",
      "Epoch 162/200\n",
      "30/30 [==============================] - 0s 3ms/step - loss: 0.5591 - accuracy: 0.7875 - val_loss: 0.6644 - val_accuracy: 0.7410\n",
      "Epoch 163/200\n",
      "30/30 [==============================] - 0s 3ms/step - loss: 0.5727 - accuracy: 0.7779 - val_loss: 0.6633 - val_accuracy: 0.7370\n",
      "Epoch 164/200\n",
      "30/30 [==============================] - 0s 3ms/step - loss: 0.5665 - accuracy: 0.7793 - val_loss: 0.6643 - val_accuracy: 0.7380\n",
      "Epoch 165/200\n",
      "30/30 [==============================] - 0s 4ms/step - loss: 0.5677 - accuracy: 0.7912 - val_loss: 0.6633 - val_accuracy: 0.7390\n",
      "Epoch 166/200\n",
      "30/30 [==============================] - 0s 3ms/step - loss: 0.5668 - accuracy: 0.7812 - val_loss: 0.6628 - val_accuracy: 0.7420\n",
      "Epoch 167/200\n",
      "30/30 [==============================] - 0s 3ms/step - loss: 0.5654 - accuracy: 0.7848 - val_loss: 0.6656 - val_accuracy: 0.7440\n",
      "Epoch 168/200\n",
      "30/30 [==============================] - 0s 3ms/step - loss: 0.5581 - accuracy: 0.7893 - val_loss: 0.6643 - val_accuracy: 0.7470\n",
      "Epoch 169/200\n",
      "30/30 [==============================] - 0s 4ms/step - loss: 0.5551 - accuracy: 0.7848 - val_loss: 0.6626 - val_accuracy: 0.7420\n",
      "Epoch 170/200\n",
      "30/30 [==============================] - 0s 3ms/step - loss: 0.5590 - accuracy: 0.7895 - val_loss: 0.6624 - val_accuracy: 0.7460\n",
      "Epoch 171/200\n",
      "30/30 [==============================] - 0s 3ms/step - loss: 0.5534 - accuracy: 0.7896 - val_loss: 0.6621 - val_accuracy: 0.7480\n",
      "Epoch 172/200\n",
      "30/30 [==============================] - 0s 4ms/step - loss: 0.5541 - accuracy: 0.7885 - val_loss: 0.6635 - val_accuracy: 0.7440\n",
      "Epoch 173/200\n"
     ]
    },
    {
     "name": "stdout",
     "output_type": "stream",
     "text": [
      "30/30 [==============================] - 0s 4ms/step - loss: 0.5442 - accuracy: 0.7899 - val_loss: 0.6626 - val_accuracy: 0.7470\n",
      "Epoch 174/200\n",
      "30/30 [==============================] - 0s 4ms/step - loss: 0.5441 - accuracy: 0.7884 - val_loss: 0.6630 - val_accuracy: 0.7430\n",
      "Epoch 175/200\n",
      "30/30 [==============================] - 0s 3ms/step - loss: 0.5491 - accuracy: 0.7925 - val_loss: 0.6622 - val_accuracy: 0.7460\n",
      "Epoch 176/200\n",
      "30/30 [==============================] - 0s 3ms/step - loss: 0.5515 - accuracy: 0.7928 - val_loss: 0.6622 - val_accuracy: 0.7430\n",
      "Epoch 177/200\n",
      "30/30 [==============================] - 0s 3ms/step - loss: 0.5400 - accuracy: 0.7933 - val_loss: 0.6623 - val_accuracy: 0.7460\n",
      "Epoch 178/200\n",
      "30/30 [==============================] - 0s 3ms/step - loss: 0.5451 - accuracy: 0.7903 - val_loss: 0.6627 - val_accuracy: 0.7480\n",
      "Epoch 179/200\n",
      "30/30 [==============================] - 0s 3ms/step - loss: 0.5387 - accuracy: 0.7984 - val_loss: 0.6626 - val_accuracy: 0.7460\n",
      "Epoch 180/200\n",
      "30/30 [==============================] - 0s 4ms/step - loss: 0.5418 - accuracy: 0.7892 - val_loss: 0.6624 - val_accuracy: 0.7440\n",
      "Epoch 181/200\n",
      "30/30 [==============================] - 0s 4ms/step - loss: 0.5318 - accuracy: 0.8015 - val_loss: 0.6622 - val_accuracy: 0.7460\n",
      "Epoch 182/200\n",
      "30/30 [==============================] - 0s 3ms/step - loss: 0.5385 - accuracy: 0.7936 - val_loss: 0.6613 - val_accuracy: 0.7490\n",
      "Epoch 183/200\n",
      "30/30 [==============================] - 0s 4ms/step - loss: 0.5327 - accuracy: 0.7979 - val_loss: 0.6616 - val_accuracy: 0.7500\n",
      "Epoch 184/200\n",
      "30/30 [==============================] - 0s 3ms/step - loss: 0.5390 - accuracy: 0.7949 - val_loss: 0.6611 - val_accuracy: 0.7480\n",
      "Epoch 185/200\n",
      "30/30 [==============================] - 0s 3ms/step - loss: 0.5213 - accuracy: 0.8044 - val_loss: 0.6616 - val_accuracy: 0.7500\n",
      "Epoch 186/200\n",
      "30/30 [==============================] - 0s 3ms/step - loss: 0.5240 - accuracy: 0.8071 - val_loss: 0.6619 - val_accuracy: 0.7470\n",
      "Epoch 187/200\n",
      "30/30 [==============================] - 0s 3ms/step - loss: 0.5202 - accuracy: 0.8033 - val_loss: 0.6614 - val_accuracy: 0.7510\n",
      "Epoch 188/200\n",
      "30/30 [==============================] - 0s 3ms/step - loss: 0.5282 - accuracy: 0.7959 - val_loss: 0.6626 - val_accuracy: 0.7480\n",
      "Epoch 189/200\n",
      "30/30 [==============================] - 0s 3ms/step - loss: 0.5186 - accuracy: 0.8077 - val_loss: 0.6626 - val_accuracy: 0.7500\n",
      "Epoch 190/200\n",
      "30/30 [==============================] - 0s 3ms/step - loss: 0.5172 - accuracy: 0.8056 - val_loss: 0.6623 - val_accuracy: 0.7480\n",
      "Epoch 191/200\n",
      "30/30 [==============================] - 0s 3ms/step - loss: 0.5211 - accuracy: 0.8019 - val_loss: 0.6617 - val_accuracy: 0.7510\n",
      "Epoch 192/200\n",
      "30/30 [==============================] - 0s 3ms/step - loss: 0.5257 - accuracy: 0.7957 - val_loss: 0.6617 - val_accuracy: 0.7510\n",
      "Epoch 193/200\n",
      "30/30 [==============================] - 0s 3ms/step - loss: 0.5103 - accuracy: 0.8132 - val_loss: 0.6620 - val_accuracy: 0.7510\n",
      "Epoch 194/200\n",
      "30/30 [==============================] - 0s 3ms/step - loss: 0.5163 - accuracy: 0.8069 - val_loss: 0.6618 - val_accuracy: 0.7530\n",
      "Epoch 195/200\n",
      "30/30 [==============================] - 0s 3ms/step - loss: 0.5126 - accuracy: 0.8049 - val_loss: 0.6621 - val_accuracy: 0.7540\n",
      "Epoch 196/200\n",
      "30/30 [==============================] - 0s 3ms/step - loss: 0.5107 - accuracy: 0.8060 - val_loss: 0.6631 - val_accuracy: 0.7540\n",
      "Epoch 197/200\n",
      "30/30 [==============================] - 0s 3ms/step - loss: 0.5031 - accuracy: 0.8089 - val_loss: 0.6628 - val_accuracy: 0.7540\n",
      "Epoch 198/200\n",
      "30/30 [==============================] - 0s 3ms/step - loss: 0.5180 - accuracy: 0.8036 - val_loss: 0.6628 - val_accuracy: 0.7490\n",
      "Epoch 199/200\n",
      "30/30 [==============================] - 0s 3ms/step - loss: 0.5081 - accuracy: 0.8020 - val_loss: 0.6628 - val_accuracy: 0.7540\n",
      "Epoch 200/200\n",
      "30/30 [==============================] - 0s 3ms/step - loss: 0.4998 - accuracy: 0.8071 - val_loss: 0.6629 - val_accuracy: 0.7540\n"
     ]
    }
   ],
   "source": [
    "dropout_model = model.fit(train_final,\n",
    "                    label_train_final,\n",
    "                    epochs=200,\n",
    "                    batch_size=256,\n",
    "                    validation_data=(val, label_val))"
   ]
  },
  {
   "cell_type": "markdown",
   "metadata": {},
   "source": [
    "Now, let's check the results from `model.evaluate` to see how this change has affected our training. "
   ]
  },
  {
   "cell_type": "code",
   "execution_count": 93,
   "metadata": {
    "scrolled": true
   },
   "outputs": [
    {
     "name": "stdout",
     "output_type": "stream",
     "text": [
      "235/235 [==============================] - 0s 404us/step - loss: 0.3427 - accuracy: 0.8893\n",
      "47/47 [==============================] - 0s 426us/step - loss: 0.6333 - accuracy: 0.7533\n"
     ]
    }
   ],
   "source": [
    "results_train = model.evaluate(train_final, label_train_final)\n",
    "results_test = model.evaluate(test, label_test)"
   ]
  },
  {
   "cell_type": "code",
   "execution_count": 94,
   "metadata": {},
   "outputs": [
    {
     "data": {
      "text/plain": [
       "[0.3426625430583954, 0.8893333077430725]"
      ]
     },
     "execution_count": 94,
     "metadata": {},
     "output_type": "execute_result"
    }
   ],
   "source": [
    "results_train # Expected Results: [0.36925017188787462, 0.88026666666666664]"
   ]
  },
  {
   "cell_type": "code",
   "execution_count": 95,
   "metadata": {},
   "outputs": [
    {
     "data": {
      "text/plain": [
       "[0.6332986950874329, 0.753333330154419]"
      ]
     },
     "execution_count": 95,
     "metadata": {},
     "output_type": "execute_result"
    }
   ],
   "source": [
    "results_test # Expected Results: [0.69210424280166627, 0.74333333365122478]"
   ]
  },
  {
   "cell_type": "markdown",
   "metadata": {},
   "source": [
    "You can see here that the validation performance has improved again! However, the variance did become higher again, compared to L1-regularization."
   ]
  },
  {
   "cell_type": "markdown",
   "metadata": {},
   "source": [
    "## 7.  More Training Data?"
   ]
  },
  {
   "cell_type": "markdown",
   "metadata": {},
   "source": [
    "Another solution to high variance is to just get more data. We actually *have* more data, but took a subset of 10,000 units before. Let's now quadruple our data set, and see what happens. Note that we are really just lucky here, and getting more data isn't always possible, but this is a useful exercise in order to understand the power of big data sets.\n",
    "\n",
    "Run the cell below to preprocess our entire dataset, instead of just working with a subset of the data.  "
   ]
  },
  {
   "cell_type": "code",
   "execution_count": 96,
   "metadata": {},
   "outputs": [],
   "source": [
    "df = pd.read_csv('Bank_complaints.csv')\n",
    "random.seed(123)\n",
    "df = df.sample(40000)\n",
    "df.index = range(40000)\n",
    "product = df[\"Product\"]\n",
    "complaints = df[\"Consumer complaint narrative\"]\n",
    "\n",
    "#one-hot encoding of the complaints\n",
    "tokenizer = Tokenizer(num_words=2000)\n",
    "tokenizer.fit_on_texts(complaints)\n",
    "sequences = tokenizer.texts_to_sequences(complaints)\n",
    "one_hot_results= tokenizer.texts_to_matrix(complaints, mode='binary')\n",
    "word_index = tokenizer.word_index\n",
    "np.shape(one_hot_results)\n",
    "\n",
    "#one-hot encoding of products\n",
    "le = preprocessing.LabelEncoder()\n",
    "le.fit(product)\n",
    "list(le.classes_)\n",
    "product_cat = le.transform(product) \n",
    "product_onehot = to_categorical(product_cat)\n",
    "\n",
    "# train test split\n",
    "test_index = random.sample(range(1,40000), 4000)\n",
    "test = one_hot_results[test_index]\n",
    "train = np.delete(one_hot_results, test_index, 0)\n",
    "label_test = product_onehot[test_index]\n",
    "label_train = np.delete(product_onehot, test_index, 0)\n",
    "\n",
    "#Validation set\n",
    "random.seed(123)\n",
    "val = train[:3000]\n",
    "train_final = train[3000:]\n",
    "label_val = label_train[:3000]\n",
    "label_train_final = label_train[3000:]"
   ]
  },
  {
   "cell_type": "markdown",
   "metadata": {},
   "source": [
    "Now, build the first model that we built, without any regularization or dropout layers included. \n",
    "\n",
    "Train this model for 120 epochs.  All other hyperparameters should stay the same.  Store the fitted model inside of `moredata_model`.  "
   ]
  },
  {
   "cell_type": "code",
   "execution_count": 97,
   "metadata": {},
   "outputs": [],
   "source": [
    "model = Sequential()\n",
    "model.add(Dense(50, activation='relu', input_shape=(2000,))) #2 hidden layers\n",
    "model.add(Dense(25, activation='relu'))\n",
    "model.add(Dense(7, activation='softmax'))"
   ]
  },
  {
   "cell_type": "code",
   "execution_count": 98,
   "metadata": {},
   "outputs": [],
   "source": [
    "model.compile(optimizer='SGD',\n",
    "              loss='categorical_crossentropy',\n",
    "              metrics=['accuracy'])"
   ]
  },
  {
   "cell_type": "code",
   "execution_count": 99,
   "metadata": {},
   "outputs": [
    {
     "name": "stdout",
     "output_type": "stream",
     "text": [
      "Epoch 1/120\n",
      "129/129 [==============================] - 0s 3ms/step - loss: 1.9085 - accuracy: 0.1968 - val_loss: 1.8636 - val_accuracy: 0.2520\n",
      "Epoch 2/120\n",
      "129/129 [==============================] - 0s 3ms/step - loss: 1.8023 - accuracy: 0.2992 - val_loss: 1.7315 - val_accuracy: 0.3643\n",
      "Epoch 3/120\n",
      "129/129 [==============================] - 0s 3ms/step - loss: 1.6318 - accuracy: 0.4256 - val_loss: 1.5289 - val_accuracy: 0.5013\n",
      "Epoch 4/120\n",
      "129/129 [==============================] - 0s 3ms/step - loss: 1.4262 - accuracy: 0.5482 - val_loss: 1.3256 - val_accuracy: 0.5977\n",
      "Epoch 5/120\n",
      "129/129 [==============================] - 0s 3ms/step - loss: 1.2348 - accuracy: 0.6253 - val_loss: 1.1505 - val_accuracy: 0.6507\n",
      "Epoch 6/120\n",
      "129/129 [==============================] - 0s 3ms/step - loss: 1.0766 - accuracy: 0.6699 - val_loss: 1.0168 - val_accuracy: 0.6780\n",
      "Epoch 7/120\n",
      "129/129 [==============================] - 0s 3ms/step - loss: 0.9561 - accuracy: 0.6963 - val_loss: 0.9168 - val_accuracy: 0.6967\n",
      "Epoch 8/120\n",
      "129/129 [==============================] - 0s 3ms/step - loss: 0.8675 - accuracy: 0.7135 - val_loss: 0.8459 - val_accuracy: 0.7130\n",
      "Epoch 9/120\n",
      "129/129 [==============================] - 0s 3ms/step - loss: 0.8030 - accuracy: 0.7277 - val_loss: 0.7938 - val_accuracy: 0.7230\n",
      "Epoch 10/120\n",
      "129/129 [==============================] - 0s 3ms/step - loss: 0.7548 - accuracy: 0.7358 - val_loss: 0.7558 - val_accuracy: 0.7300\n",
      "Epoch 11/120\n",
      "129/129 [==============================] - 0s 3ms/step - loss: 0.7179 - accuracy: 0.7455 - val_loss: 0.7280 - val_accuracy: 0.7347\n",
      "Epoch 12/120\n",
      "129/129 [==============================] - 0s 3ms/step - loss: 0.6885 - accuracy: 0.7515 - val_loss: 0.7060 - val_accuracy: 0.7457\n",
      "Epoch 13/120\n",
      "129/129 [==============================] - 0s 4ms/step - loss: 0.6652 - accuracy: 0.7579 - val_loss: 0.6876 - val_accuracy: 0.7493\n",
      "Epoch 14/120\n",
      "129/129 [==============================] - 0s 4ms/step - loss: 0.6454 - accuracy: 0.7640 - val_loss: 0.6739 - val_accuracy: 0.7540\n",
      "Epoch 15/120\n",
      "129/129 [==============================] - 0s 3ms/step - loss: 0.6288 - accuracy: 0.7697 - val_loss: 0.6614 - val_accuracy: 0.7567\n",
      "Epoch 16/120\n",
      "129/129 [==============================] - 0s 3ms/step - loss: 0.6148 - accuracy: 0.7744 - val_loss: 0.6504 - val_accuracy: 0.7600\n",
      "Epoch 17/120\n",
      "129/129 [==============================] - 0s 3ms/step - loss: 0.6018 - accuracy: 0.7795 - val_loss: 0.6421 - val_accuracy: 0.7650\n",
      "Epoch 18/120\n",
      "129/129 [==============================] - 0s 4ms/step - loss: 0.5905 - accuracy: 0.7828 - val_loss: 0.6359 - val_accuracy: 0.7683\n",
      "Epoch 19/120\n",
      "129/129 [==============================] - 0s 3ms/step - loss: 0.5805 - accuracy: 0.7862 - val_loss: 0.6292 - val_accuracy: 0.7680\n",
      "Epoch 20/120\n",
      "129/129 [==============================] - 0s 3ms/step - loss: 0.5713 - accuracy: 0.7909 - val_loss: 0.6220 - val_accuracy: 0.7693\n",
      "Epoch 21/120\n",
      "129/129 [==============================] - 0s 3ms/step - loss: 0.5625 - accuracy: 0.7941 - val_loss: 0.6166 - val_accuracy: 0.7713\n",
      "Epoch 22/120\n",
      "129/129 [==============================] - 0s 3ms/step - loss: 0.5548 - accuracy: 0.7972 - val_loss: 0.6133 - val_accuracy: 0.7707\n",
      "Epoch 23/120\n",
      "129/129 [==============================] - 0s 3ms/step - loss: 0.5477 - accuracy: 0.7986 - val_loss: 0.6085 - val_accuracy: 0.7707\n",
      "Epoch 24/120\n",
      "129/129 [==============================] - 0s 3ms/step - loss: 0.5402 - accuracy: 0.8029 - val_loss: 0.6052 - val_accuracy: 0.7747\n",
      "Epoch 25/120\n",
      "129/129 [==============================] - 0s 3ms/step - loss: 0.5335 - accuracy: 0.8058 - val_loss: 0.6022 - val_accuracy: 0.7777\n",
      "Epoch 26/120\n",
      "129/129 [==============================] - 0s 3ms/step - loss: 0.5275 - accuracy: 0.8078 - val_loss: 0.5982 - val_accuracy: 0.7770\n",
      "Epoch 27/120\n",
      "129/129 [==============================] - 0s 3ms/step - loss: 0.5215 - accuracy: 0.8095 - val_loss: 0.5958 - val_accuracy: 0.7783\n",
      "Epoch 28/120\n",
      "129/129 [==============================] - 0s 3ms/step - loss: 0.5163 - accuracy: 0.8116 - val_loss: 0.5925 - val_accuracy: 0.7790\n",
      "Epoch 29/120\n",
      "129/129 [==============================] - 0s 3ms/step - loss: 0.5107 - accuracy: 0.8142 - val_loss: 0.5893 - val_accuracy: 0.7817\n",
      "Epoch 30/120\n",
      "129/129 [==============================] - 0s 3ms/step - loss: 0.5053 - accuracy: 0.8158 - val_loss: 0.5881 - val_accuracy: 0.7823\n",
      "Epoch 31/120\n",
      "129/129 [==============================] - 0s 3ms/step - loss: 0.5005 - accuracy: 0.8185 - val_loss: 0.5852 - val_accuracy: 0.7840\n",
      "Epoch 32/120\n",
      "129/129 [==============================] - 0s 3ms/step - loss: 0.4961 - accuracy: 0.8204 - val_loss: 0.5829 - val_accuracy: 0.7833\n",
      "Epoch 33/120\n",
      "129/129 [==============================] - 0s 3ms/step - loss: 0.4912 - accuracy: 0.8211 - val_loss: 0.5820 - val_accuracy: 0.7833\n",
      "Epoch 34/120\n",
      "129/129 [==============================] - 0s 3ms/step - loss: 0.4869 - accuracy: 0.8228 - val_loss: 0.5788 - val_accuracy: 0.7883\n",
      "Epoch 35/120\n",
      "129/129 [==============================] - 0s 3ms/step - loss: 0.4827 - accuracy: 0.8242 - val_loss: 0.5779 - val_accuracy: 0.7887\n",
      "Epoch 36/120\n",
      "129/129 [==============================] - 0s 3ms/step - loss: 0.4783 - accuracy: 0.8266 - val_loss: 0.5775 - val_accuracy: 0.7907\n",
      "Epoch 37/120\n",
      "129/129 [==============================] - 0s 3ms/step - loss: 0.4744 - accuracy: 0.8275 - val_loss: 0.5771 - val_accuracy: 0.7883\n",
      "Epoch 38/120\n",
      "129/129 [==============================] - 0s 3ms/step - loss: 0.4705 - accuracy: 0.8295 - val_loss: 0.5735 - val_accuracy: 0.7910\n",
      "Epoch 39/120\n",
      "129/129 [==============================] - 0s 3ms/step - loss: 0.4668 - accuracy: 0.8318 - val_loss: 0.5717 - val_accuracy: 0.7893\n",
      "Epoch 40/120\n",
      "129/129 [==============================] - 0s 3ms/step - loss: 0.4632 - accuracy: 0.8326 - val_loss: 0.5717 - val_accuracy: 0.7943\n",
      "Epoch 41/120\n",
      "129/129 [==============================] - 0s 3ms/step - loss: 0.4594 - accuracy: 0.8337 - val_loss: 0.5719 - val_accuracy: 0.7940\n",
      "Epoch 42/120\n",
      "129/129 [==============================] - 0s 3ms/step - loss: 0.4561 - accuracy: 0.8360 - val_loss: 0.5699 - val_accuracy: 0.7943\n",
      "Epoch 43/120\n",
      "129/129 [==============================] - 0s 3ms/step - loss: 0.4528 - accuracy: 0.8371 - val_loss: 0.5695 - val_accuracy: 0.7920\n",
      "Epoch 44/120\n",
      "129/129 [==============================] - 0s 3ms/step - loss: 0.4496 - accuracy: 0.8391 - val_loss: 0.5691 - val_accuracy: 0.7960\n",
      "Epoch 45/120\n",
      "129/129 [==============================] - 0s 3ms/step - loss: 0.4465 - accuracy: 0.8401 - val_loss: 0.5663 - val_accuracy: 0.7943\n",
      "Epoch 46/120\n",
      "129/129 [==============================] - 0s 3ms/step - loss: 0.4435 - accuracy: 0.8402 - val_loss: 0.5670 - val_accuracy: 0.7940\n",
      "Epoch 47/120\n",
      "129/129 [==============================] - 0s 3ms/step - loss: 0.4401 - accuracy: 0.8427 - val_loss: 0.5656 - val_accuracy: 0.7957\n",
      "Epoch 48/120\n",
      "129/129 [==============================] - 0s 3ms/step - loss: 0.4374 - accuracy: 0.8428 - val_loss: 0.5655 - val_accuracy: 0.7980\n",
      "Epoch 49/120\n",
      "129/129 [==============================] - 0s 3ms/step - loss: 0.4346 - accuracy: 0.8445 - val_loss: 0.5647 - val_accuracy: 0.7963\n",
      "Epoch 50/120\n",
      "129/129 [==============================] - 0s 3ms/step - loss: 0.4316 - accuracy: 0.8470 - val_loss: 0.5644 - val_accuracy: 0.7980\n",
      "Epoch 51/120\n",
      "129/129 [==============================] - 0s 3ms/step - loss: 0.4288 - accuracy: 0.8466 - val_loss: 0.5654 - val_accuracy: 0.7950\n",
      "Epoch 52/120\n",
      "129/129 [==============================] - 0s 3ms/step - loss: 0.4263 - accuracy: 0.8476 - val_loss: 0.5640 - val_accuracy: 0.7967\n",
      "Epoch 53/120\n",
      "129/129 [==============================] - 0s 3ms/step - loss: 0.4235 - accuracy: 0.8482 - val_loss: 0.5627 - val_accuracy: 0.7967\n",
      "Epoch 54/120\n",
      "129/129 [==============================] - 0s 3ms/step - loss: 0.4211 - accuracy: 0.8498 - val_loss: 0.5624 - val_accuracy: 0.7990\n",
      "Epoch 55/120\n",
      "129/129 [==============================] - 0s 3ms/step - loss: 0.4188 - accuracy: 0.8498 - val_loss: 0.5632 - val_accuracy: 0.8003\n",
      "Epoch 56/120\n",
      "129/129 [==============================] - 0s 3ms/step - loss: 0.4163 - accuracy: 0.8519 - val_loss: 0.5633 - val_accuracy: 0.8000\n",
      "Epoch 57/120\n",
      "129/129 [==============================] - 0s 3ms/step - loss: 0.4140 - accuracy: 0.8527 - val_loss: 0.5631 - val_accuracy: 0.8017\n"
     ]
    },
    {
     "name": "stdout",
     "output_type": "stream",
     "text": [
      "Epoch 58/120\n",
      "129/129 [==============================] - 0s 3ms/step - loss: 0.4112 - accuracy: 0.8536 - val_loss: 0.5617 - val_accuracy: 0.8013\n",
      "Epoch 59/120\n",
      "129/129 [==============================] - 0s 3ms/step - loss: 0.4091 - accuracy: 0.8543 - val_loss: 0.5626 - val_accuracy: 0.8030\n",
      "Epoch 60/120\n",
      "129/129 [==============================] - 0s 3ms/step - loss: 0.4070 - accuracy: 0.8558 - val_loss: 0.5626 - val_accuracy: 0.8020\n",
      "Epoch 61/120\n",
      "129/129 [==============================] - 0s 3ms/step - loss: 0.4043 - accuracy: 0.8565 - val_loss: 0.5636 - val_accuracy: 0.7970\n",
      "Epoch 62/120\n",
      "129/129 [==============================] - 0s 3ms/step - loss: 0.4023 - accuracy: 0.8561 - val_loss: 0.5626 - val_accuracy: 0.7987\n",
      "Epoch 63/120\n",
      "129/129 [==============================] - 0s 3ms/step - loss: 0.4001 - accuracy: 0.8579 - val_loss: 0.5627 - val_accuracy: 0.8037\n",
      "Epoch 64/120\n",
      "129/129 [==============================] - 0s 3ms/step - loss: 0.3978 - accuracy: 0.8595 - val_loss: 0.5658 - val_accuracy: 0.8000\n",
      "Epoch 65/120\n",
      "129/129 [==============================] - 0s 3ms/step - loss: 0.3960 - accuracy: 0.8593 - val_loss: 0.5639 - val_accuracy: 0.8013\n",
      "Epoch 66/120\n",
      "129/129 [==============================] - 0s 3ms/step - loss: 0.3939 - accuracy: 0.8601 - val_loss: 0.5632 - val_accuracy: 0.8033\n",
      "Epoch 67/120\n",
      "129/129 [==============================] - 0s 3ms/step - loss: 0.3921 - accuracy: 0.8607 - val_loss: 0.5637 - val_accuracy: 0.8040\n",
      "Epoch 68/120\n",
      "129/129 [==============================] - 0s 3ms/step - loss: 0.3894 - accuracy: 0.8624 - val_loss: 0.5653 - val_accuracy: 0.8027\n",
      "Epoch 69/120\n",
      "129/129 [==============================] - 0s 3ms/step - loss: 0.3878 - accuracy: 0.8625 - val_loss: 0.5637 - val_accuracy: 0.8013\n",
      "Epoch 70/120\n",
      "129/129 [==============================] - 0s 3ms/step - loss: 0.3859 - accuracy: 0.8635 - val_loss: 0.5636 - val_accuracy: 0.8007\n",
      "Epoch 71/120\n",
      "129/129 [==============================] - 0s 3ms/step - loss: 0.3842 - accuracy: 0.8638 - val_loss: 0.5636 - val_accuracy: 0.8013\n",
      "Epoch 72/120\n",
      "129/129 [==============================] - 0s 3ms/step - loss: 0.3820 - accuracy: 0.8647 - val_loss: 0.5648 - val_accuracy: 0.8037\n",
      "Epoch 73/120\n",
      "129/129 [==============================] - 0s 3ms/step - loss: 0.3803 - accuracy: 0.8648 - val_loss: 0.5648 - val_accuracy: 0.8010\n",
      "Epoch 74/120\n",
      "129/129 [==============================] - 0s 3ms/step - loss: 0.3789 - accuracy: 0.8663 - val_loss: 0.5667 - val_accuracy: 0.8037\n",
      "Epoch 75/120\n",
      "129/129 [==============================] - 0s 3ms/step - loss: 0.3766 - accuracy: 0.8661 - val_loss: 0.5693 - val_accuracy: 0.8027\n",
      "Epoch 76/120\n",
      "129/129 [==============================] - 0s 3ms/step - loss: 0.3750 - accuracy: 0.8677 - val_loss: 0.5660 - val_accuracy: 0.8003\n",
      "Epoch 77/120\n",
      "129/129 [==============================] - 0s 3ms/step - loss: 0.3732 - accuracy: 0.8687 - val_loss: 0.5672 - val_accuracy: 0.8013\n",
      "Epoch 78/120\n",
      "129/129 [==============================] - 0s 3ms/step - loss: 0.3717 - accuracy: 0.8687 - val_loss: 0.5674 - val_accuracy: 0.8020\n",
      "Epoch 79/120\n",
      "129/129 [==============================] - 0s 3ms/step - loss: 0.3698 - accuracy: 0.8694 - val_loss: 0.5669 - val_accuracy: 0.8033\n",
      "Epoch 80/120\n",
      "129/129 [==============================] - 0s 3ms/step - loss: 0.3682 - accuracy: 0.8699 - val_loss: 0.5682 - val_accuracy: 0.8017\n",
      "Epoch 81/120\n",
      "129/129 [==============================] - 0s 3ms/step - loss: 0.3665 - accuracy: 0.8705 - val_loss: 0.5694 - val_accuracy: 0.8003\n",
      "Epoch 82/120\n",
      "129/129 [==============================] - 0s 3ms/step - loss: 0.3651 - accuracy: 0.8724 - val_loss: 0.5689 - val_accuracy: 0.8013\n",
      "Epoch 83/120\n",
      "129/129 [==============================] - 0s 3ms/step - loss: 0.3634 - accuracy: 0.8712 - val_loss: 0.5692 - val_accuracy: 0.8007\n",
      "Epoch 84/120\n",
      "129/129 [==============================] - 0s 3ms/step - loss: 0.3617 - accuracy: 0.8720 - val_loss: 0.5698 - val_accuracy: 0.8023\n",
      "Epoch 85/120\n",
      "129/129 [==============================] - 0s 3ms/step - loss: 0.3601 - accuracy: 0.8741 - val_loss: 0.5730 - val_accuracy: 0.8037\n",
      "Epoch 86/120\n",
      "129/129 [==============================] - 0s 3ms/step - loss: 0.3588 - accuracy: 0.8740 - val_loss: 0.5711 - val_accuracy: 0.8013\n",
      "Epoch 87/120\n",
      "129/129 [==============================] - 0s 3ms/step - loss: 0.3576 - accuracy: 0.8742 - val_loss: 0.5718 - val_accuracy: 0.8030\n",
      "Epoch 88/120\n",
      "129/129 [==============================] - 0s 3ms/step - loss: 0.3556 - accuracy: 0.8750 - val_loss: 0.5737 - val_accuracy: 0.8027\n",
      "Epoch 89/120\n",
      "129/129 [==============================] - 0s 3ms/step - loss: 0.3540 - accuracy: 0.8757 - val_loss: 0.5726 - val_accuracy: 0.8033\n",
      "Epoch 90/120\n",
      "129/129 [==============================] - 0s 3ms/step - loss: 0.3527 - accuracy: 0.8765 - val_loss: 0.5738 - val_accuracy: 0.8010\n",
      "Epoch 91/120\n",
      "129/129 [==============================] - 0s 3ms/step - loss: 0.3514 - accuracy: 0.8759 - val_loss: 0.5748 - val_accuracy: 0.8013\n",
      "Epoch 92/120\n",
      "129/129 [==============================] - 0s 3ms/step - loss: 0.3497 - accuracy: 0.8770 - val_loss: 0.5741 - val_accuracy: 0.8027\n",
      "Epoch 93/120\n",
      "129/129 [==============================] - 0s 3ms/step - loss: 0.3481 - accuracy: 0.8777 - val_loss: 0.5751 - val_accuracy: 0.8020\n",
      "Epoch 94/120\n",
      "129/129 [==============================] - 0s 3ms/step - loss: 0.3469 - accuracy: 0.8777 - val_loss: 0.5766 - val_accuracy: 0.8017\n",
      "Epoch 95/120\n",
      "129/129 [==============================] - 0s 3ms/step - loss: 0.3454 - accuracy: 0.8792 - val_loss: 0.5757 - val_accuracy: 0.8020\n",
      "Epoch 96/120\n",
      "129/129 [==============================] - 0s 3ms/step - loss: 0.3444 - accuracy: 0.8799 - val_loss: 0.5770 - val_accuracy: 0.8037\n",
      "Epoch 97/120\n",
      "129/129 [==============================] - 0s 3ms/step - loss: 0.3427 - accuracy: 0.8799 - val_loss: 0.5791 - val_accuracy: 0.8000\n",
      "Epoch 98/120\n",
      "129/129 [==============================] - 0s 3ms/step - loss: 0.3416 - accuracy: 0.8801 - val_loss: 0.5787 - val_accuracy: 0.8007\n",
      "Epoch 99/120\n",
      "129/129 [==============================] - 0s 3ms/step - loss: 0.3403 - accuracy: 0.8810 - val_loss: 0.5787 - val_accuracy: 0.8020\n",
      "Epoch 100/120\n",
      "129/129 [==============================] - 0s 3ms/step - loss: 0.3386 - accuracy: 0.8819 - val_loss: 0.5795 - val_accuracy: 0.8017\n",
      "Epoch 101/120\n",
      "129/129 [==============================] - 0s 3ms/step - loss: 0.3375 - accuracy: 0.8824 - val_loss: 0.5845 - val_accuracy: 0.7973\n",
      "Epoch 102/120\n",
      "129/129 [==============================] - 0s 3ms/step - loss: 0.3361 - accuracy: 0.8825 - val_loss: 0.5830 - val_accuracy: 0.7980\n",
      "Epoch 103/120\n",
      "129/129 [==============================] - 0s 3ms/step - loss: 0.3350 - accuracy: 0.8831 - val_loss: 0.5825 - val_accuracy: 0.8027\n",
      "Epoch 104/120\n",
      "129/129 [==============================] - 0s 3ms/step - loss: 0.3338 - accuracy: 0.8828 - val_loss: 0.5853 - val_accuracy: 0.8020\n",
      "Epoch 105/120\n",
      "129/129 [==============================] - 0s 3ms/step - loss: 0.3324 - accuracy: 0.8839 - val_loss: 0.5833 - val_accuracy: 0.8043\n",
      "Epoch 106/120\n",
      "129/129 [==============================] - 0s 3ms/step - loss: 0.3312 - accuracy: 0.8845 - val_loss: 0.5843 - val_accuracy: 0.8000\n",
      "Epoch 107/120\n",
      "129/129 [==============================] - 0s 3ms/step - loss: 0.3300 - accuracy: 0.8847 - val_loss: 0.5862 - val_accuracy: 0.8033\n",
      "Epoch 108/120\n",
      "129/129 [==============================] - 0s 3ms/step - loss: 0.3283 - accuracy: 0.8857 - val_loss: 0.5864 - val_accuracy: 0.8020\n",
      "Epoch 109/120\n",
      "129/129 [==============================] - 0s 3ms/step - loss: 0.3271 - accuracy: 0.8863 - val_loss: 0.5868 - val_accuracy: 0.8007\n",
      "Epoch 110/120\n",
      "129/129 [==============================] - 0s 3ms/step - loss: 0.3264 - accuracy: 0.8869 - val_loss: 0.5872 - val_accuracy: 0.7997\n",
      "Epoch 111/120\n",
      "129/129 [==============================] - 0s 3ms/step - loss: 0.3252 - accuracy: 0.8871 - val_loss: 0.5896 - val_accuracy: 0.8003\n",
      "Epoch 112/120\n",
      "129/129 [==============================] - 0s 3ms/step - loss: 0.3239 - accuracy: 0.8868 - val_loss: 0.5906 - val_accuracy: 0.8000\n",
      "Epoch 113/120\n",
      "129/129 [==============================] - 0s 3ms/step - loss: 0.3228 - accuracy: 0.8872 - val_loss: 0.5935 - val_accuracy: 0.7997\n",
      "Epoch 114/120\n",
      "129/129 [==============================] - 0s 3ms/step - loss: 0.3214 - accuracy: 0.8882 - val_loss: 0.5921 - val_accuracy: 0.8010\n"
     ]
    },
    {
     "name": "stdout",
     "output_type": "stream",
     "text": [
      "Epoch 115/120\n",
      "129/129 [==============================] - 0s 3ms/step - loss: 0.3206 - accuracy: 0.8880 - val_loss: 0.5925 - val_accuracy: 0.7980\n",
      "Epoch 116/120\n",
      "129/129 [==============================] - 0s 3ms/step - loss: 0.3192 - accuracy: 0.8889 - val_loss: 0.5928 - val_accuracy: 0.8010\n",
      "Epoch 117/120\n",
      "129/129 [==============================] - 0s 3ms/step - loss: 0.3183 - accuracy: 0.8898 - val_loss: 0.5950 - val_accuracy: 0.7983\n",
      "Epoch 118/120\n",
      "129/129 [==============================] - 0s 3ms/step - loss: 0.3168 - accuracy: 0.8896 - val_loss: 0.5957 - val_accuracy: 0.8010\n",
      "Epoch 119/120\n",
      "129/129 [==============================] - ETA: 0s - loss: 0.3191 - accuracy: 0.88 - 0s 3ms/step - loss: 0.3159 - accuracy: 0.8906 - val_loss: 0.5968 - val_accuracy: 0.8010\n",
      "Epoch 120/120\n",
      "129/129 [==============================] - 0s 3ms/step - loss: 0.3145 - accuracy: 0.8907 - val_loss: 0.5988 - val_accuracy: 0.8013\n"
     ]
    }
   ],
   "source": [
    "moredata_model = model.fit(train_final,\n",
    "                    label_train_final,\n",
    "                    epochs=120,\n",
    "                    batch_size=256,\n",
    "                    validation_data=(val, label_val))"
   ]
  },
  {
   "cell_type": "markdown",
   "metadata": {},
   "source": [
    "Now, finally, let's check the results returned from `model.evaluate()` to see how this model stacks up with the other techniques we've used.  "
   ]
  },
  {
   "cell_type": "code",
   "execution_count": 100,
   "metadata": {},
   "outputs": [
    {
     "name": "stdout",
     "output_type": "stream",
     "text": [
      "1032/1032 [==============================] - 0s 424us/step - loss: 0.3110 - accuracy: 0.8924\n",
      "125/125 [==============================] - 0s 632us/step - loss: 0.6233 - accuracy: 0.7945\n"
     ]
    }
   ],
   "source": [
    "results_train = model.evaluate(train_final, label_train_final)\n",
    "results_test = model.evaluate(test, label_test)"
   ]
  },
  {
   "cell_type": "code",
   "execution_count": 101,
   "metadata": {},
   "outputs": [
    {
     "data": {
      "text/plain": [
       "[0.31102454662323, 0.8923636078834534]"
      ]
     },
     "execution_count": 101,
     "metadata": {},
     "output_type": "execute_result"
    }
   ],
   "source": [
    "results_train # Expected Output:  [0.31160746300942971, 0.89160606060606062]"
   ]
  },
  {
   "cell_type": "code",
   "execution_count": 102,
   "metadata": {},
   "outputs": [
    {
     "data": {
      "text/plain": [
       "[0.6232513785362244, 0.7944999933242798]"
      ]
     },
     "execution_count": 102,
     "metadata": {},
     "output_type": "execute_result"
    }
   ],
   "source": [
    "results_test # Expected Output: [0.56076071488857271, 0.8145]"
   ]
  },
  {
   "cell_type": "markdown",
   "metadata": {},
   "source": [
    "With the same amount of epochs, we were able to get a fairly similar validation accuracy of 89.1%. Our test set accuracy went up from ~75% to a staggering 81.45% though, without any other regularization technique. You can still consider early stopping, L1, L2 and dropout here. It's clear that having more data has a strong impact on model performance!"
   ]
  },
  {
   "cell_type": "markdown",
   "metadata": {},
   "source": [
    "## Sources"
   ]
  },
  {
   "cell_type": "markdown",
   "metadata": {},
   "source": [
    "https://github.com/susanli2016/Machine-Learning-with-Python/blob/master/Consumer_complaints.ipynb"
   ]
  },
  {
   "cell_type": "markdown",
   "metadata": {},
   "source": [
    "https://catalog.data.gov/dataset/consumer-complaint-database"
   ]
  },
  {
   "cell_type": "markdown",
   "metadata": {},
   "source": [
    "## Further reading"
   ]
  },
  {
   "cell_type": "markdown",
   "metadata": {},
   "source": [
    "https://machinelearningmastery.com/dropout-regularization-deep-learning-models-keras/"
   ]
  }
 ],
 "metadata": {
  "kernelspec": {
   "display_name": "Python 3",
   "language": "python",
   "name": "python3"
  },
  "language_info": {
   "codemirror_mode": {
    "name": "ipython",
    "version": 3
   },
   "file_extension": ".py",
   "mimetype": "text/x-python",
   "name": "python",
   "nbconvert_exporter": "python",
   "pygments_lexer": "ipython3",
   "version": "3.8.5"
  }
 },
 "nbformat": 4,
 "nbformat_minor": 2
}
